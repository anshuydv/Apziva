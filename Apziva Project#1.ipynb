{
 "cells": [
  {
   "cell_type": "code",
   "execution_count": 2,
   "metadata": {},
   "outputs": [
    {
     "data": {
      "text/html": [
       "        <script type=\"text/javascript\">\n",
       "        window.PlotlyConfig = {MathJaxConfig: 'local'};\n",
       "        if (window.MathJax) {MathJax.Hub.Config({SVG: {font: \"STIX-Web\"}});}\n",
       "        if (typeof require !== 'undefined') {\n",
       "        require.undef(\"plotly\");\n",
       "        requirejs.config({\n",
       "            paths: {\n",
       "                'plotly': ['https://cdn.plot.ly/plotly-latest.min']\n",
       "            }\n",
       "        });\n",
       "        require(['plotly'], function(Plotly) {\n",
       "            window._Plotly = Plotly;\n",
       "        });\n",
       "        }\n",
       "        </script>\n",
       "        "
      ]
     },
     "metadata": {},
     "output_type": "display_data"
    }
   ],
   "source": [
    "#import libraries\n",
    "\n",
    "import matplotlib.pyplot as plt\n",
    "%matplotlib inline\n",
    "import seaborn as sns\n",
    "plt.style.use('ggplot')\n",
    "from plotly import tools\n",
    "import plotly.offline as py\n",
    "import plotly.figure_factory as ff\n",
    "py.init_notebook_mode(connected=True)\n",
    "import plotly.graph_objs as go\n",
    "import plotly.express as px\n",
    "from plotly.subplots import make_subplots\n",
    "from mpl_toolkits.mplot3d import Axes3D\n",
    "from sklearn.preprocessing import StandardScaler\n",
    "import matplotlib.pyplot as plt # plotting\n",
    "import numpy as np # linear algebra\n",
    "import os # accessing directory structure\n",
    "import pandas as pd \n",
    "import pandas as pd\n",
    "import numpy as np\n",
    "import matplotlib.pyplot as plt\n",
    "import seaborn as sns\n",
    "sns.set()\n",
    "\n",
    "import statsmodels.api as sm\n",
    "from sklearn.linear_model import LogisticRegression\n",
    "from sklearn.model_selection import train_test_split\n",
    "from sklearn.preprocessing import StandardScaler"
   ]
  },
  {
   "cell_type": "markdown",
   "metadata": {},
   "source": [
    "## Load Data"
   ]
  },
  {
   "cell_type": "code",
   "execution_count": 3,
   "metadata": {},
   "outputs": [],
   "source": [
    "file1 = \"/Users/ayadav/Downloads/ACME-HappinessSurvey2020.csv\""
   ]
  },
  {
   "cell_type": "code",
   "execution_count": 4,
   "metadata": {},
   "outputs": [],
   "source": [
    "df = pd.read_csv(file1)"
   ]
  },
  {
   "cell_type": "code",
   "execution_count": 5,
   "metadata": {},
   "outputs": [
    {
     "data": {
      "text/html": [
       "<div>\n",
       "<style scoped>\n",
       "    .dataframe tbody tr th:only-of-type {\n",
       "        vertical-align: middle;\n",
       "    }\n",
       "\n",
       "    .dataframe tbody tr th {\n",
       "        vertical-align: top;\n",
       "    }\n",
       "\n",
       "    .dataframe thead th {\n",
       "        text-align: right;\n",
       "    }\n",
       "</style>\n",
       "<table border=\"1\" class=\"dataframe\">\n",
       "  <thead>\n",
       "    <tr style=\"text-align: right;\">\n",
       "      <th></th>\n",
       "      <th>Y</th>\n",
       "      <th>X1</th>\n",
       "      <th>X2</th>\n",
       "      <th>X3</th>\n",
       "      <th>X4</th>\n",
       "      <th>X5</th>\n",
       "      <th>X6</th>\n",
       "    </tr>\n",
       "  </thead>\n",
       "  <tbody>\n",
       "    <tr>\n",
       "      <th>0</th>\n",
       "      <td>0</td>\n",
       "      <td>3</td>\n",
       "      <td>3</td>\n",
       "      <td>3</td>\n",
       "      <td>4</td>\n",
       "      <td>2</td>\n",
       "      <td>4</td>\n",
       "    </tr>\n",
       "    <tr>\n",
       "      <th>1</th>\n",
       "      <td>0</td>\n",
       "      <td>3</td>\n",
       "      <td>2</td>\n",
       "      <td>3</td>\n",
       "      <td>5</td>\n",
       "      <td>4</td>\n",
       "      <td>3</td>\n",
       "    </tr>\n",
       "    <tr>\n",
       "      <th>2</th>\n",
       "      <td>1</td>\n",
       "      <td>5</td>\n",
       "      <td>3</td>\n",
       "      <td>3</td>\n",
       "      <td>3</td>\n",
       "      <td>3</td>\n",
       "      <td>5</td>\n",
       "    </tr>\n",
       "    <tr>\n",
       "      <th>3</th>\n",
       "      <td>0</td>\n",
       "      <td>5</td>\n",
       "      <td>4</td>\n",
       "      <td>3</td>\n",
       "      <td>3</td>\n",
       "      <td>3</td>\n",
       "      <td>5</td>\n",
       "    </tr>\n",
       "    <tr>\n",
       "      <th>4</th>\n",
       "      <td>0</td>\n",
       "      <td>5</td>\n",
       "      <td>4</td>\n",
       "      <td>3</td>\n",
       "      <td>3</td>\n",
       "      <td>3</td>\n",
       "      <td>5</td>\n",
       "    </tr>\n",
       "    <tr>\n",
       "      <th>...</th>\n",
       "      <td>...</td>\n",
       "      <td>...</td>\n",
       "      <td>...</td>\n",
       "      <td>...</td>\n",
       "      <td>...</td>\n",
       "      <td>...</td>\n",
       "      <td>...</td>\n",
       "    </tr>\n",
       "    <tr>\n",
       "      <th>121</th>\n",
       "      <td>1</td>\n",
       "      <td>5</td>\n",
       "      <td>2</td>\n",
       "      <td>3</td>\n",
       "      <td>4</td>\n",
       "      <td>4</td>\n",
       "      <td>3</td>\n",
       "    </tr>\n",
       "    <tr>\n",
       "      <th>122</th>\n",
       "      <td>1</td>\n",
       "      <td>5</td>\n",
       "      <td>2</td>\n",
       "      <td>3</td>\n",
       "      <td>4</td>\n",
       "      <td>2</td>\n",
       "      <td>5</td>\n",
       "    </tr>\n",
       "    <tr>\n",
       "      <th>123</th>\n",
       "      <td>1</td>\n",
       "      <td>5</td>\n",
       "      <td>3</td>\n",
       "      <td>3</td>\n",
       "      <td>4</td>\n",
       "      <td>4</td>\n",
       "      <td>5</td>\n",
       "    </tr>\n",
       "    <tr>\n",
       "      <th>124</th>\n",
       "      <td>0</td>\n",
       "      <td>4</td>\n",
       "      <td>3</td>\n",
       "      <td>3</td>\n",
       "      <td>4</td>\n",
       "      <td>4</td>\n",
       "      <td>5</td>\n",
       "    </tr>\n",
       "    <tr>\n",
       "      <th>125</th>\n",
       "      <td>0</td>\n",
       "      <td>5</td>\n",
       "      <td>3</td>\n",
       "      <td>2</td>\n",
       "      <td>5</td>\n",
       "      <td>5</td>\n",
       "      <td>5</td>\n",
       "    </tr>\n",
       "  </tbody>\n",
       "</table>\n",
       "<p>126 rows × 7 columns</p>\n",
       "</div>"
      ],
      "text/plain": [
       "     Y  X1  X2  X3  X4  X5  X6\n",
       "0    0   3   3   3   4   2   4\n",
       "1    0   3   2   3   5   4   3\n",
       "2    1   5   3   3   3   3   5\n",
       "3    0   5   4   3   3   3   5\n",
       "4    0   5   4   3   3   3   5\n",
       "..  ..  ..  ..  ..  ..  ..  ..\n",
       "121  1   5   2   3   4   4   3\n",
       "122  1   5   2   3   4   2   5\n",
       "123  1   5   3   3   4   4   5\n",
       "124  0   4   3   3   4   4   5\n",
       "125  0   5   3   2   5   5   5\n",
       "\n",
       "[126 rows x 7 columns]"
      ]
     },
     "execution_count": 5,
     "metadata": {},
     "output_type": "execute_result"
    }
   ],
   "source": [
    "df"
   ]
  },
  {
   "cell_type": "code",
   "execution_count": 6,
   "metadata": {},
   "outputs": [
    {
     "data": {
      "text/plain": [
       "(126, 7)"
      ]
     },
     "execution_count": 6,
     "metadata": {},
     "output_type": "execute_result"
    }
   ],
   "source": [
    "df.shape"
   ]
  },
  {
   "cell_type": "code",
   "execution_count": 7,
   "metadata": {},
   "outputs": [
    {
     "name": "stdout",
     "output_type": "stream",
     "text": [
      "<class 'pandas.core.frame.DataFrame'>\n",
      "RangeIndex: 126 entries, 0 to 125\n",
      "Data columns (total 7 columns):\n",
      " #   Column  Non-Null Count  Dtype\n",
      "---  ------  --------------  -----\n",
      " 0   Y       126 non-null    int64\n",
      " 1   X1      126 non-null    int64\n",
      " 2   X2      126 non-null    int64\n",
      " 3   X3      126 non-null    int64\n",
      " 4   X4      126 non-null    int64\n",
      " 5   X5      126 non-null    int64\n",
      " 6   X6      126 non-null    int64\n",
      "dtypes: int64(7)\n",
      "memory usage: 7.0 KB\n"
     ]
    }
   ],
   "source": [
    "df.info()"
   ]
  },
  {
   "cell_type": "code",
   "execution_count": 8,
   "metadata": {},
   "outputs": [
    {
     "data": {
      "text/html": [
       "<div>\n",
       "<style scoped>\n",
       "    .dataframe tbody tr th:only-of-type {\n",
       "        vertical-align: middle;\n",
       "    }\n",
       "\n",
       "    .dataframe tbody tr th {\n",
       "        vertical-align: top;\n",
       "    }\n",
       "\n",
       "    .dataframe thead th {\n",
       "        text-align: right;\n",
       "    }\n",
       "</style>\n",
       "<table border=\"1\" class=\"dataframe\">\n",
       "  <thead>\n",
       "    <tr style=\"text-align: right;\">\n",
       "      <th></th>\n",
       "      <th>Y</th>\n",
       "      <th>X1</th>\n",
       "      <th>X2</th>\n",
       "      <th>X3</th>\n",
       "      <th>X4</th>\n",
       "      <th>X5</th>\n",
       "      <th>X6</th>\n",
       "    </tr>\n",
       "  </thead>\n",
       "  <tbody>\n",
       "    <tr>\n",
       "      <th>0</th>\n",
       "      <td>0</td>\n",
       "      <td>3</td>\n",
       "      <td>3</td>\n",
       "      <td>3</td>\n",
       "      <td>4</td>\n",
       "      <td>2</td>\n",
       "      <td>4</td>\n",
       "    </tr>\n",
       "    <tr>\n",
       "      <th>1</th>\n",
       "      <td>0</td>\n",
       "      <td>3</td>\n",
       "      <td>2</td>\n",
       "      <td>3</td>\n",
       "      <td>5</td>\n",
       "      <td>4</td>\n",
       "      <td>3</td>\n",
       "    </tr>\n",
       "    <tr>\n",
       "      <th>2</th>\n",
       "      <td>1</td>\n",
       "      <td>5</td>\n",
       "      <td>3</td>\n",
       "      <td>3</td>\n",
       "      <td>3</td>\n",
       "      <td>3</td>\n",
       "      <td>5</td>\n",
       "    </tr>\n",
       "    <tr>\n",
       "      <th>3</th>\n",
       "      <td>0</td>\n",
       "      <td>5</td>\n",
       "      <td>4</td>\n",
       "      <td>3</td>\n",
       "      <td>3</td>\n",
       "      <td>3</td>\n",
       "      <td>5</td>\n",
       "    </tr>\n",
       "    <tr>\n",
       "      <th>4</th>\n",
       "      <td>0</td>\n",
       "      <td>5</td>\n",
       "      <td>4</td>\n",
       "      <td>3</td>\n",
       "      <td>3</td>\n",
       "      <td>3</td>\n",
       "      <td>5</td>\n",
       "    </tr>\n",
       "  </tbody>\n",
       "</table>\n",
       "</div>"
      ],
      "text/plain": [
       "   Y  X1  X2  X3  X4  X5  X6\n",
       "0  0   3   3   3   4   2   4\n",
       "1  0   3   2   3   5   4   3\n",
       "2  1   5   3   3   3   3   5\n",
       "3  0   5   4   3   3   3   5\n",
       "4  0   5   4   3   3   3   5"
      ]
     },
     "execution_count": 8,
     "metadata": {},
     "output_type": "execute_result"
    }
   ],
   "source": [
    "df.head(5)"
   ]
  },
  {
   "cell_type": "code",
   "execution_count": 9,
   "metadata": {},
   "outputs": [
    {
     "data": {
      "text/html": [
       "<div>\n",
       "<style scoped>\n",
       "    .dataframe tbody tr th:only-of-type {\n",
       "        vertical-align: middle;\n",
       "    }\n",
       "\n",
       "    .dataframe tbody tr th {\n",
       "        vertical-align: top;\n",
       "    }\n",
       "\n",
       "    .dataframe thead th {\n",
       "        text-align: right;\n",
       "    }\n",
       "</style>\n",
       "<table border=\"1\" class=\"dataframe\">\n",
       "  <thead>\n",
       "    <tr style=\"text-align: right;\">\n",
       "      <th></th>\n",
       "      <th>Y</th>\n",
       "      <th>X1</th>\n",
       "      <th>X2</th>\n",
       "      <th>X3</th>\n",
       "      <th>X4</th>\n",
       "      <th>X5</th>\n",
       "      <th>X6</th>\n",
       "    </tr>\n",
       "  </thead>\n",
       "  <tbody>\n",
       "    <tr>\n",
       "      <th>count</th>\n",
       "      <td>126.000000</td>\n",
       "      <td>126.000000</td>\n",
       "      <td>126.000000</td>\n",
       "      <td>126.000000</td>\n",
       "      <td>126.000000</td>\n",
       "      <td>126.000000</td>\n",
       "      <td>126.000000</td>\n",
       "    </tr>\n",
       "    <tr>\n",
       "      <th>mean</th>\n",
       "      <td>0.547619</td>\n",
       "      <td>4.333333</td>\n",
       "      <td>2.531746</td>\n",
       "      <td>3.309524</td>\n",
       "      <td>3.746032</td>\n",
       "      <td>3.650794</td>\n",
       "      <td>4.253968</td>\n",
       "    </tr>\n",
       "    <tr>\n",
       "      <th>std</th>\n",
       "      <td>0.499714</td>\n",
       "      <td>0.800000</td>\n",
       "      <td>1.114892</td>\n",
       "      <td>1.023440</td>\n",
       "      <td>0.875776</td>\n",
       "      <td>1.147641</td>\n",
       "      <td>0.809311</td>\n",
       "    </tr>\n",
       "    <tr>\n",
       "      <th>min</th>\n",
       "      <td>0.000000</td>\n",
       "      <td>1.000000</td>\n",
       "      <td>1.000000</td>\n",
       "      <td>1.000000</td>\n",
       "      <td>1.000000</td>\n",
       "      <td>1.000000</td>\n",
       "      <td>1.000000</td>\n",
       "    </tr>\n",
       "    <tr>\n",
       "      <th>25%</th>\n",
       "      <td>0.000000</td>\n",
       "      <td>4.000000</td>\n",
       "      <td>2.000000</td>\n",
       "      <td>3.000000</td>\n",
       "      <td>3.000000</td>\n",
       "      <td>3.000000</td>\n",
       "      <td>4.000000</td>\n",
       "    </tr>\n",
       "    <tr>\n",
       "      <th>50%</th>\n",
       "      <td>1.000000</td>\n",
       "      <td>5.000000</td>\n",
       "      <td>3.000000</td>\n",
       "      <td>3.000000</td>\n",
       "      <td>4.000000</td>\n",
       "      <td>4.000000</td>\n",
       "      <td>4.000000</td>\n",
       "    </tr>\n",
       "    <tr>\n",
       "      <th>75%</th>\n",
       "      <td>1.000000</td>\n",
       "      <td>5.000000</td>\n",
       "      <td>3.000000</td>\n",
       "      <td>4.000000</td>\n",
       "      <td>4.000000</td>\n",
       "      <td>4.000000</td>\n",
       "      <td>5.000000</td>\n",
       "    </tr>\n",
       "    <tr>\n",
       "      <th>max</th>\n",
       "      <td>1.000000</td>\n",
       "      <td>5.000000</td>\n",
       "      <td>5.000000</td>\n",
       "      <td>5.000000</td>\n",
       "      <td>5.000000</td>\n",
       "      <td>5.000000</td>\n",
       "      <td>5.000000</td>\n",
       "    </tr>\n",
       "  </tbody>\n",
       "</table>\n",
       "</div>"
      ],
      "text/plain": [
       "                Y          X1          X2          X3          X4          X5  \\\n",
       "count  126.000000  126.000000  126.000000  126.000000  126.000000  126.000000   \n",
       "mean     0.547619    4.333333    2.531746    3.309524    3.746032    3.650794   \n",
       "std      0.499714    0.800000    1.114892    1.023440    0.875776    1.147641   \n",
       "min      0.000000    1.000000    1.000000    1.000000    1.000000    1.000000   \n",
       "25%      0.000000    4.000000    2.000000    3.000000    3.000000    3.000000   \n",
       "50%      1.000000    5.000000    3.000000    3.000000    4.000000    4.000000   \n",
       "75%      1.000000    5.000000    3.000000    4.000000    4.000000    4.000000   \n",
       "max      1.000000    5.000000    5.000000    5.000000    5.000000    5.000000   \n",
       "\n",
       "               X6  \n",
       "count  126.000000  \n",
       "mean     4.253968  \n",
       "std      0.809311  \n",
       "min      1.000000  \n",
       "25%      4.000000  \n",
       "50%      4.000000  \n",
       "75%      5.000000  \n",
       "max      5.000000  "
      ]
     },
     "execution_count": 9,
     "metadata": {},
     "output_type": "execute_result"
    }
   ],
   "source": [
    "df.describe()"
   ]
  },
  {
   "cell_type": "code",
   "execution_count": 10,
   "metadata": {},
   "outputs": [
    {
     "data": {
      "text/html": [
       "<style  type=\"text/css\" >\n",
       "    #T_b28220ca_6ba4_11ec_9abc_acde48001122row0_col0 {\n",
       "            background-color:  #0000ff;\n",
       "            color:  #f1f1f1;\n",
       "        }    #T_b28220ca_6ba4_11ec_9abc_acde48001122row0_col1 {\n",
       "            background-color:  #0000ff;\n",
       "            color:  #f1f1f1;\n",
       "        }    #T_b28220ca_6ba4_11ec_9abc_acde48001122row0_col2 {\n",
       "            background-color:  #0000ff;\n",
       "            color:  #f1f1f1;\n",
       "        }    #T_b28220ca_6ba4_11ec_9abc_acde48001122row0_col3 {\n",
       "            background-color:  #0000ff;\n",
       "            color:  #f1f1f1;\n",
       "        }    #T_b28220ca_6ba4_11ec_9abc_acde48001122row0_col4 {\n",
       "            background-color:  #0000ff;\n",
       "            color:  #f1f1f1;\n",
       "        }    #T_b28220ca_6ba4_11ec_9abc_acde48001122row0_col5 {\n",
       "            background-color:  #0000ff;\n",
       "            color:  #f1f1f1;\n",
       "        }    #T_b28220ca_6ba4_11ec_9abc_acde48001122row1_col0 {\n",
       "            background-color:  #00ff80;\n",
       "            color:  #000000;\n",
       "        }    #T_b28220ca_6ba4_11ec_9abc_acde48001122row1_col1 {\n",
       "            background-color:  #00ff80;\n",
       "            color:  #000000;\n",
       "        }    #T_b28220ca_6ba4_11ec_9abc_acde48001122row1_col2 {\n",
       "            background-color:  #00ff80;\n",
       "            color:  #000000;\n",
       "        }    #T_b28220ca_6ba4_11ec_9abc_acde48001122row1_col3 {\n",
       "            background-color:  #00ff80;\n",
       "            color:  #000000;\n",
       "        }    #T_b28220ca_6ba4_11ec_9abc_acde48001122row1_col4 {\n",
       "            background-color:  #00ff80;\n",
       "            color:  #000000;\n",
       "        }    #T_b28220ca_6ba4_11ec_9abc_acde48001122row1_col5 {\n",
       "            background-color:  #00ff80;\n",
       "            color:  #000000;\n",
       "        }</style><table id=\"T_b28220ca_6ba4_11ec_9abc_acde48001122\" ><thead>    <tr>        <th class=\"blank level0\" ></th>        <th class=\"col_heading level0 col0\" >X1</th>        <th class=\"col_heading level0 col1\" >X2</th>        <th class=\"col_heading level0 col2\" >X3</th>        <th class=\"col_heading level0 col3\" >X4</th>        <th class=\"col_heading level0 col4\" >X5</th>        <th class=\"col_heading level0 col5\" >X6</th>    </tr>    <tr>        <th class=\"index_name level0\" >Y</th>        <th class=\"blank\" ></th>        <th class=\"blank\" ></th>        <th class=\"blank\" ></th>        <th class=\"blank\" ></th>        <th class=\"blank\" ></th>        <th class=\"blank\" ></th>    </tr></thead><tbody>\n",
       "                <tr>\n",
       "                        <th id=\"T_b28220ca_6ba4_11ec_9abc_acde48001122level0_row0\" class=\"row_heading level0 row0\" >0</th>\n",
       "                        <td id=\"T_b28220ca_6ba4_11ec_9abc_acde48001122row0_col0\" class=\"data row0 col0\" >57</td>\n",
       "                        <td id=\"T_b28220ca_6ba4_11ec_9abc_acde48001122row0_col1\" class=\"data row0 col1\" >57</td>\n",
       "                        <td id=\"T_b28220ca_6ba4_11ec_9abc_acde48001122row0_col2\" class=\"data row0 col2\" >57</td>\n",
       "                        <td id=\"T_b28220ca_6ba4_11ec_9abc_acde48001122row0_col3\" class=\"data row0 col3\" >57</td>\n",
       "                        <td id=\"T_b28220ca_6ba4_11ec_9abc_acde48001122row0_col4\" class=\"data row0 col4\" >57</td>\n",
       "                        <td id=\"T_b28220ca_6ba4_11ec_9abc_acde48001122row0_col5\" class=\"data row0 col5\" >57</td>\n",
       "            </tr>\n",
       "            <tr>\n",
       "                        <th id=\"T_b28220ca_6ba4_11ec_9abc_acde48001122level0_row1\" class=\"row_heading level0 row1\" >1</th>\n",
       "                        <td id=\"T_b28220ca_6ba4_11ec_9abc_acde48001122row1_col0\" class=\"data row1 col0\" >69</td>\n",
       "                        <td id=\"T_b28220ca_6ba4_11ec_9abc_acde48001122row1_col1\" class=\"data row1 col1\" >69</td>\n",
       "                        <td id=\"T_b28220ca_6ba4_11ec_9abc_acde48001122row1_col2\" class=\"data row1 col2\" >69</td>\n",
       "                        <td id=\"T_b28220ca_6ba4_11ec_9abc_acde48001122row1_col3\" class=\"data row1 col3\" >69</td>\n",
       "                        <td id=\"T_b28220ca_6ba4_11ec_9abc_acde48001122row1_col4\" class=\"data row1 col4\" >69</td>\n",
       "                        <td id=\"T_b28220ca_6ba4_11ec_9abc_acde48001122row1_col5\" class=\"data row1 col5\" >69</td>\n",
       "            </tr>\n",
       "    </tbody></table>"
      ],
      "text/plain": [
       "<pandas.io.formats.style.Styler at 0x7fe94833d7d0>"
      ]
     },
     "execution_count": 10,
     "metadata": {},
     "output_type": "execute_result"
    }
   ],
   "source": [
    "class_df = df.groupby('Y').count()\n",
    "class_df.style.background_gradient(cmap='winter')"
   ]
  },
  {
   "cell_type": "markdown",
   "metadata": {},
   "source": [
    "#  Data Visualization "
   ]
  },
  {
   "cell_type": "code",
   "execution_count": 11,
   "metadata": {},
   "outputs": [
    {
     "data": {
      "text/plain": [
       "<matplotlib.axes._subplots.AxesSubplot at 0x7fe948484310>"
      ]
     },
     "execution_count": 11,
     "metadata": {},
     "output_type": "execute_result"
    },
    {
     "data": {
      "image/png": "[encoded data removed]",
      "text/plain": [
       "<Figure size 432x288 with 2 Axes>"
      ]
     },
     "metadata": {},
     "output_type": "display_data"
    }
   ],
   "source": [
    "sns.heatmap(df.corr(), cmap='BuGn')"
   ]
  },
  {
   "cell_type": "code",
   "execution_count": 12,
   "metadata": {},
   "outputs": [],
   "source": [
    "df2 = df.drop(columns='X2')"
   ]
  },
  {
   "cell_type": "markdown",
   "metadata": {},
   "source": [
    "## Machine Learning"
   ]
  },
  {
   "cell_type": "code",
   "execution_count": 13,
   "metadata": {},
   "outputs": [
    {
     "name": "stdout",
     "output_type": "stream",
     "text": [
      "(100, 5)\n",
      "(26, 5)\n",
      "(100, 1)\n",
      "(26, 1)\n"
     ]
    }
   ],
   "source": [
    "# Splitting data into training and testing\n",
    "from sklearn.model_selection import train_test_split\n",
    "\n",
    "# Separate out the features and targets\n",
    "features = df2.drop(columns='Y')\n",
    "targets = pd.DataFrame(df['Y'])\n",
    "\n",
    "# Split into 80% training and 20% testing set\n",
    "X_train, X_test, y_train, y_test = train_test_split(features, targets, test_size = 0.2, random_state = 42)\n",
    "\n",
    "print(X_train.shape)\n",
    "print(X_test.shape)\n",
    "print(y_train.shape)\n",
    "print(y_test.shape)"
   ]
  },
  {
   "cell_type": "markdown",
   "metadata": {},
   "source": [
    "## Pycaret Module"
   ]
  },
  {
   "cell_type": "code",
   "execution_count": null,
   "metadata": {},
   "outputs": [],
   "source": [
    "#load the pycaret module\n",
    "from pycaret.classification import *\n",
    "data = df.sample(frac=0.95, random_state=786)\n",
    "data_unseen = df.drop(df.index)\n",
    "df.reset_index(inplace=True, drop=True)\n",
    "data_unseen.reset_index(inplace=True, drop=True)\n",
    "print('Data for Modeling: ' + str(data.shape))\n",
    "print('Unseen Data For Predictions: ' + str(data_unseen.shape))"
   ]
  },
  {
   "cell_type": "code",
   "execution_count": null,
   "metadata": {},
   "outputs": [],
   "source": [
    "from pycaret.classification import *\n",
    "exp_name = setup(data = data,  target = 'Y',session_id=123)"
   ]
  },
  {
   "cell_type": "code",
   "execution_count": null,
   "metadata": {},
   "outputs": [],
   "source": [
    "best_model = compare_models()"
   ]
  },
  {
   "cell_type": "markdown",
   "metadata": {},
   "source": [
    "## XgBoost"
   ]
  },
  {
   "cell_type": "code",
   "execution_count": null,
   "metadata": {},
   "outputs": [],
   "source": [
    "xgboost = create_model('xgboost', max_depth = 10)"
   ]
  },
  {
   "cell_type": "markdown",
   "metadata": {},
   "source": [
    "## LightGBM"
   ]
  },
  {
   "cell_type": "code",
   "execution_count": null,
   "metadata": {},
   "outputs": [],
   "source": [
    "lgbms = [create_model('lightgbm', learning_rate = i) for i in np.arange(0.1,1,0.1)]"
   ]
  },
  {
   "cell_type": "markdown",
   "metadata": {},
   "source": [
    "## Tune Model"
   ]
  },
  {
   "cell_type": "code",
   "execution_count": null,
   "metadata": {},
   "outputs": [],
   "source": [
    "y = data_with_dummies[\"Purchased\"]\n",
    "x1 = data_with_dummies.drop(columns=[\"Purchased\"], axis=1)"
   ]
  },
  {
   "cell_type": "markdown",
   "metadata": {},
   "source": [
    "## Plot Model"
   ]
  },
  {
   "cell_type": "code",
   "execution_count": null,
   "metadata": {},
   "outputs": [],
   "source": [
    "plot_model(tuned_knn, plot = 'pr')"
   ]
  },
  {
   "cell_type": "code",
   "execution_count": null,
   "metadata": {},
   "outputs": [],
   "source": [
    "plot_model(tuned_knn, plot='confusion_matrix')"
   ]
  },
  {
   "cell_type": "code",
   "execution_count": null,
   "metadata": {},
   "outputs": [],
   "source": [
    "predict_model(tuned_knn)"
   ]
  },
  {
   "cell_type": "code",
   "execution_count": null,
   "metadata": {},
   "outputs": [],
   "source": [
    "final_knn = finalize_model(tuned_knn)"
   ]
  },
  {
   "cell_type": "code",
   "execution_count": null,
   "metadata": {},
   "outputs": [],
   "source": [
    "unseen_predictions = predict_model(final_knn, data=df)\n",
    "unseen_predictions.head()"
   ]
  },
  {
   "cell_type": "code",
   "execution_count": null,
   "metadata": {},
   "outputs": [],
   "source": []
  },
  {
   "cell_type": "code",
   "execution_count": 15,
   "metadata": {},
   "outputs": [],
   "source": [
    "# # # Models to Evaluate\n",
    "\n",
    "# We will compare five different machine learning Cassification models:\n",
    "\n",
    "# 1 - Logistic Regression\n",
    "# 2 - K-Nearest Neighbors Classification\n",
    "# 3 - Suport Vector Machine\n",
    "# 4 - Naive Bayes\n",
    "# 5 - Random Forest Classification\n",
    "\n",
    "# Function to calculate mean absolute error\n",
    "def cross_val(X_train, y_train, model):\n",
    "    # Applying k-Fold Cross Validation\n",
    "    from sklearn.model_selection import cross_val_score\n",
    "    accuracies = cross_val_score(estimator = model, X = X_train, y = y_train, cv = 5)\n",
    "    return accuracies.mean()\n",
    "\n",
    "# Takes in a model, trains the model, and evaluates the model on the test set\n",
    "def fit_and_evaluate(model):\n",
    "    \n",
    "    # Train the model\n",
    "    model.fit(X_train, y_train)\n",
    "    \n",
    "    # Make predictions and evalute\n",
    "    model_pred = model.predict(X_test)\n",
    "    model_cross = cross_val(X_train, y_train, model)\n",
    "    \n",
    "    # Return the performance metric\n",
    "    return model_cross"
   ]
  },
  {
   "cell_type": "code",
   "execution_count": null,
   "metadata": {},
   "outputs": [],
   "source": []
  },
  {
   "cell_type": "code",
   "execution_count": 17,
   "metadata": {},
   "outputs": [
    {
     "name": "stdout",
     "output_type": "stream",
     "text": [
      "Naive Bayes Performance on the test set: Cross Validation Score = 0.5700\n"
     ]
    },
    {
     "name": "stderr",
     "output_type": "stream",
     "text": [
      "/opt/anaconda3/lib/python3.7/site-packages/sklearn/utils/validation.py:72: DataConversionWarning:\n",
      "\n",
      "A column-vector y was passed when a 1d array was expected. Please change the shape of y to (n_samples, ), for example using ravel().\n",
      "\n",
      "/opt/anaconda3/lib/python3.7/site-packages/sklearn/utils/validation.py:72: DataConversionWarning:\n",
      "\n",
      "A column-vector y was passed when a 1d array was expected. Please change the shape of y to (n_samples, ), for example using ravel().\n",
      "\n",
      "/opt/anaconda3/lib/python3.7/site-packages/sklearn/utils/validation.py:72: DataConversionWarning:\n",
      "\n",
      "A column-vector y was passed when a 1d array was expected. Please change the shape of y to (n_samples, ), for example using ravel().\n",
      "\n",
      "/opt/anaconda3/lib/python3.7/site-packages/sklearn/utils/validation.py:72: DataConversionWarning:\n",
      "\n",
      "A column-vector y was passed when a 1d array was expected. Please change the shape of y to (n_samples, ), for example using ravel().\n",
      "\n",
      "/opt/anaconda3/lib/python3.7/site-packages/sklearn/utils/validation.py:72: DataConversionWarning:\n",
      "\n",
      "A column-vector y was passed when a 1d array was expected. Please change the shape of y to (n_samples, ), for example using ravel().\n",
      "\n",
      "/opt/anaconda3/lib/python3.7/site-packages/sklearn/utils/validation.py:72: DataConversionWarning:\n",
      "\n",
      "A column-vector y was passed when a 1d array was expected. Please change the shape of y to (n_samples, ), for example using ravel().\n",
      "\n"
     ]
    }
   ],
   "source": [
    "# # Naive Bayes\n",
    "from sklearn.naive_bayes import GaussianNB\n",
    "naive = GaussianNB()\n",
    "naive_cross = fit_and_evaluate(naive)\n",
    "\n",
    "print('Naive Bayes Performance on the test set: Cross Validation Score = %0.4f' % naive_cross)"
   ]
  },
  {
   "cell_type": "code",
   "execution_count": 18,
   "metadata": {},
   "outputs": [
    {
     "name": "stdout",
     "output_type": "stream",
     "text": [
      "Random Forest Performance on the test set: Cross Validation Score = 0.5800\n"
     ]
    },
    {
     "name": "stderr",
     "output_type": "stream",
     "text": [
      "/opt/anaconda3/lib/python3.7/site-packages/ipykernel_launcher.py:22: DataConversionWarning:\n",
      "\n",
      "A column-vector y was passed when a 1d array was expected. Please change the shape of y to (n_samples,), for example using ravel().\n",
      "\n",
      "/opt/anaconda3/lib/python3.7/site-packages/sklearn/model_selection/_validation.py:531: DataConversionWarning:\n",
      "\n",
      "A column-vector y was passed when a 1d array was expected. Please change the shape of y to (n_samples,), for example using ravel().\n",
      "\n",
      "/opt/anaconda3/lib/python3.7/site-packages/sklearn/model_selection/_validation.py:531: DataConversionWarning:\n",
      "\n",
      "A column-vector y was passed when a 1d array was expected. Please change the shape of y to (n_samples,), for example using ravel().\n",
      "\n",
      "/opt/anaconda3/lib/python3.7/site-packages/sklearn/model_selection/_validation.py:531: DataConversionWarning:\n",
      "\n",
      "A column-vector y was passed when a 1d array was expected. Please change the shape of y to (n_samples,), for example using ravel().\n",
      "\n",
      "/opt/anaconda3/lib/python3.7/site-packages/sklearn/model_selection/_validation.py:531: DataConversionWarning:\n",
      "\n",
      "A column-vector y was passed when a 1d array was expected. Please change the shape of y to (n_samples,), for example using ravel().\n",
      "\n",
      "/opt/anaconda3/lib/python3.7/site-packages/sklearn/model_selection/_validation.py:531: DataConversionWarning:\n",
      "\n",
      "A column-vector y was passed when a 1d array was expected. Please change the shape of y to (n_samples,), for example using ravel().\n",
      "\n"
     ]
    }
   ],
   "source": [
    "# # Random Forest Classification\n",
    "from sklearn.ensemble import RandomForestClassifier\n",
    "random = RandomForestClassifier(n_estimators = 10, criterion = 'entropy')\n",
    "random_cross = fit_and_evaluate(random)\n",
    "\n",
    "print('Random Forest Performance on the test set: Cross Validation Score = %0.4f' % random_cross)"
   ]
  },
  {
   "cell_type": "code",
   "execution_count": 20,
   "metadata": {},
   "outputs": [],
   "source": [
    "from sklearn.preprocessing import MinMaxScaler\n",
    "scaler = MinMaxScaler(feature_range=(0,1))\n",
    "x1_scaled = scaler.fit_transform(features)"
   ]
  },
  {
   "cell_type": "code",
   "execution_count": null,
   "metadata": {},
   "outputs": [],
   "source": []
  },
  {
   "cell_type": "code",
   "execution_count": 21,
   "metadata": {},
   "outputs": [
    {
     "data": {
      "text/plain": [
       "array([[0.5 , 0.5 , 0.75, 0.25, 0.75],\n",
       "       [0.5 , 0.5 , 1.  , 0.75, 0.5 ],\n",
       "       [1.  , 0.5 , 0.5 , 0.5 , 1.  ],\n",
       "       [1.  , 0.5 , 0.5 , 0.5 , 1.  ],\n",
       "       [1.  , 0.5 , 0.5 , 0.5 , 1.  ],\n",
       "       [1.  , 0.5 , 1.  , 1.  , 1.  ],\n",
       "       [0.5 , 0.25, 0.25, 0.  , 0.5 ],\n",
       "       [1.  , 0.75, 0.75, 0.75, 1.  ],\n",
       "       [0.75, 0.75, 0.75, 0.75, 0.75],\n",
       "       [0.75, 0.75, 0.25, 1.  , 1.  ],\n",
       "       [0.5 , 0.5 , 0.5 , 0.25, 0.5 ],\n",
       "       [0.75, 0.5 , 0.75, 0.75, 0.75],\n",
       "       [1.  , 0.75, 1.  , 1.  , 1.  ],\n",
       "       [0.75, 0.75, 1.  , 0.75, 0.5 ],\n",
       "       [0.75, 0.5 , 0.5 , 0.75, 0.5 ],\n",
       "       [0.5 , 0.75, 0.5 , 0.75, 0.75],\n",
       "       [1.  , 0.75, 1.  , 0.75, 1.  ],\n",
       "       [1.  , 0.75, 0.5 , 0.75, 1.  ],\n",
       "       [1.  , 0.25, 0.75, 0.75, 1.  ],\n",
       "       [0.75, 0.75, 0.75, 0.75, 0.75],\n",
       "       [0.75, 0.5 , 0.5 , 0.75, 0.75],\n",
       "       [0.75, 1.  , 1.  , 1.  , 0.75],\n",
       "       [0.75, 1.  , 1.  , 1.  , 0.75],\n",
       "       [1.  , 0.25, 1.  , 0.25, 0.75],\n",
       "       [0.75, 0.5 , 0.5 , 0.5 , 0.75],\n",
       "       [0.5 , 0.5 , 0.5 , 0.25, 0.5 ],\n",
       "       [0.5 , 0.5 , 1.  , 1.  , 1.  ],\n",
       "       [0.5 , 0.  , 0.5 , 0.5 , 0.75],\n",
       "       [0.5 , 0.  , 0.5 , 0.5 , 0.75],\n",
       "       [1.  , 0.5 , 0.5 , 1.  , 0.5 ],\n",
       "       [1.  , 0.5 , 0.5 , 1.  , 0.5 ],\n",
       "       [0.75, 0.5 , 0.75, 0.75, 1.  ],\n",
       "       [0.5 , 0.75, 0.75, 0.75, 1.  ],\n",
       "       [0.5 , 0.75, 0.75, 0.75, 1.  ],\n",
       "       [0.75, 0.5 , 0.  , 0.  , 0.75],\n",
       "       [0.75, 0.5 , 0.5 , 0.75, 0.75],\n",
       "       [1.  , 0.75, 0.5 , 0.75, 1.  ],\n",
       "       [1.  , 0.75, 0.5 , 0.75, 1.  ],\n",
       "       [1.  , 0.5 , 0.5 , 0.25, 1.  ],\n",
       "       [0.75, 0.5 , 0.75, 0.25, 0.75],\n",
       "       [1.  , 0.5 , 0.5 , 0.5 , 0.5 ],\n",
       "       [0.75, 0.75, 0.5 , 0.25, 0.75],\n",
       "       [1.  , 0.5 , 0.5 , 0.75, 1.  ],\n",
       "       [0.75, 0.5 , 0.75, 0.25, 0.75],\n",
       "       [0.5 , 0.25, 0.75, 0.5 , 1.  ],\n",
       "       [1.  , 0.75, 0.75, 0.75, 1.  ],\n",
       "       [1.  , 0.5 , 0.75, 0.75, 1.  ],\n",
       "       [0.  , 0.  , 0.5 , 0.  , 0.75],\n",
       "       [1.  , 1.  , 1.  , 1.  , 0.5 ],\n",
       "       [1.  , 0.5 , 0.5 , 0.75, 0.75],\n",
       "       [1.  , 0.5 , 0.5 , 0.75, 0.75],\n",
       "       [1.  , 0.5 , 0.5 , 0.75, 0.75],\n",
       "       [1.  , 0.75, 0.5 , 0.75, 1.  ],\n",
       "       [1.  , 0.75, 0.5 , 0.75, 1.  ],\n",
       "       [0.75, 0.25, 0.75, 0.5 , 0.75],\n",
       "       [0.75, 0.25, 0.75, 0.5 , 0.75],\n",
       "       [1.  , 0.  , 1.  , 0.5 , 1.  ],\n",
       "       [0.75, 0.75, 0.75, 0.5 , 0.75],\n",
       "       [1.  , 1.  , 1.  , 0.75, 1.  ],\n",
       "       [1.  , 0.75, 0.25, 0.25, 0.75],\n",
       "       [0.75, 0.5 , 0.5 , 0.5 , 1.  ],\n",
       "       [1.  , 0.75, 0.75, 1.  , 1.  ],\n",
       "       [1.  , 0.75, 0.75, 1.  , 1.  ],\n",
       "       [1.  , 1.  , 0.25, 1.  , 1.  ],\n",
       "       [0.75, 0.5 , 0.75, 0.75, 0.75],\n",
       "       [0.75, 0.5 , 0.75, 0.75, 0.75],\n",
       "       [0.5 , 0.5 , 1.  , 0.75, 0.5 ],\n",
       "       [0.75, 0.  , 0.5 , 0.75, 0.75],\n",
       "       [1.  , 1.  , 1.  , 1.  , 1.  ],\n",
       "       [1.  , 1.  , 1.  , 1.  , 1.  ],\n",
       "       [0.75, 0.5 , 0.75, 0.5 , 0.75],\n",
       "       [0.75, 1.  , 1.  , 0.  , 0.5 ],\n",
       "       [0.75, 0.5 , 0.75, 0.25, 0.75],\n",
       "       [1.  , 0.5 , 0.5 , 0.25, 1.  ],\n",
       "       [1.  , 1.  , 1.  , 1.  , 1.  ],\n",
       "       [0.5 , 0.5 , 0.5 , 0.75, 0.75],\n",
       "       [0.75, 0.25, 0.5 , 0.25, 0.75],\n",
       "       [1.  , 0.5 , 1.  , 1.  , 1.  ],\n",
       "       [1.  , 0.5 , 0.5 , 0.25, 1.  ],\n",
       "       [1.  , 1.  , 1.  , 1.  , 1.  ],\n",
       "       [0.75, 0.25, 0.75, 0.75, 0.75],\n",
       "       [0.5 , 0.5 , 0.5 , 0.5 , 0.75],\n",
       "       [0.75, 0.75, 0.75, 0.75, 0.75],\n",
       "       [1.  , 0.25, 0.75, 0.75, 0.75],\n",
       "       [0.75, 0.75, 0.75, 0.25, 0.75],\n",
       "       [1.  , 0.5 , 0.75, 0.75, 1.  ],\n",
       "       [1.  , 0.5 , 0.5 , 1.  , 1.  ],\n",
       "       [0.75, 0.5 , 0.75, 0.75, 0.5 ],\n",
       "       [1.  , 0.25, 0.75, 0.5 , 1.  ],\n",
       "       [0.5 , 0.  , 0.5 , 0.25, 0.5 ],\n",
       "       [0.5 , 1.  , 0.75, 1.  , 0.75],\n",
       "       [1.  , 0.5 , 0.75, 1.  , 1.  ],\n",
       "       [1.  , 1.  , 1.  , 1.  , 0.75],\n",
       "       [1.  , 0.75, 0.75, 0.75, 1.  ],\n",
       "       [0.5 , 0.5 , 0.25, 0.  , 0.25],\n",
       "       [1.  , 1.  , 1.  , 1.  , 1.  ],\n",
       "       [0.75, 0.5 , 0.75, 0.5 , 0.5 ],\n",
       "       [1.  , 1.  , 0.75, 1.  , 0.75],\n",
       "       [0.75, 0.5 , 0.75, 0.5 , 0.5 ],\n",
       "       [0.5 , 0.25, 0.75, 0.75, 0.75],\n",
       "       [1.  , 0.25, 0.75, 1.  , 1.  ],\n",
       "       [1.  , 0.75, 0.5 , 0.75, 0.5 ],\n",
       "       [1.  , 0.5 , 0.5 , 0.5 , 1.  ],\n",
       "       [0.75, 0.75, 0.75, 0.5 , 0.75],\n",
       "       [0.75, 0.5 , 1.  , 0.5 , 1.  ],\n",
       "       [1.  , 0.75, 0.5 , 1.  , 1.  ],\n",
       "       [1.  , 1.  , 0.5 , 1.  , 1.  ],\n",
       "       [0.75, 0.75, 0.75, 0.75, 0.75],\n",
       "       [1.  , 0.75, 0.75, 1.  , 1.  ],\n",
       "       [1.  , 0.75, 0.75, 0.75, 0.75],\n",
       "       [1.  , 0.5 , 0.75, 0.75, 1.  ],\n",
       "       [1.  , 0.5 , 0.75, 0.75, 0.75],\n",
       "       [0.75, 0.5 , 0.5 , 0.5 , 0.75],\n",
       "       [1.  , 0.75, 0.75, 0.75, 1.  ],\n",
       "       [1.  , 0.25, 0.75, 0.75, 1.  ],\n",
       "       [1.  , 1.  , 0.75, 1.  , 1.  ],\n",
       "       [0.5 , 0.75, 1.  , 0.  , 0.5 ],\n",
       "       [1.  , 1.  , 1.  , 1.  , 1.  ],\n",
       "       [0.75, 0.5 , 0.75, 0.75, 0.75],\n",
       "       [1.  , 0.  , 0.  , 1.  , 0.  ],\n",
       "       [0.75, 0.75, 0.75, 0.  , 0.5 ],\n",
       "       [1.  , 0.5 , 0.75, 0.75, 0.5 ],\n",
       "       [1.  , 0.5 , 0.75, 0.25, 1.  ],\n",
       "       [1.  , 0.5 , 0.75, 0.75, 1.  ],\n",
       "       [0.75, 0.5 , 0.75, 0.75, 1.  ],\n",
       "       [1.  , 0.25, 1.  , 1.  , 1.  ]])"
      ]
     },
     "execution_count": 21,
     "metadata": {},
     "output_type": "execute_result"
    }
   ],
   "source": [
    "x1_scaled"
   ]
  },
  {
   "cell_type": "code",
   "execution_count": 23,
   "metadata": {
    "scrolled": true
   },
   "outputs": [
    {
     "name": "stdout",
     "output_type": "stream",
     "text": [
      "Optimization terminated successfully.\n",
      "         Current function value: 0.639003\n",
      "         Iterations 5\n"
     ]
    },
    {
     "data": {
      "text/html": [
       "<table class=\"simpletable\">\n",
       "<caption>Logit Regression Results</caption>\n",
       "<tr>\n",
       "  <th>Dep. Variable:</th>           <td>Y</td>        <th>  No. Observations:  </th>  <td>   126</td> \n",
       "</tr>\n",
       "<tr>\n",
       "  <th>Model:</th>                 <td>Logit</td>      <th>  Df Residuals:      </th>  <td>   120</td> \n",
       "</tr>\n",
       "<tr>\n",
       "  <th>Method:</th>                 <td>MLE</td>       <th>  Df Model:          </th>  <td>     5</td> \n",
       "</tr>\n",
       "<tr>\n",
       "  <th>Date:</th>            <td>Sun, 02 Jan 2022</td> <th>  Pseudo R-squ.:     </th>  <td>0.07203</td>\n",
       "</tr>\n",
       "<tr>\n",
       "  <th>Time:</th>                <td>00:24:18</td>     <th>  Log-Likelihood:    </th> <td> -80.514</td>\n",
       "</tr>\n",
       "<tr>\n",
       "  <th>converged:</th>             <td>True</td>       <th>  LL-Null:           </th> <td> -86.764</td>\n",
       "</tr>\n",
       "<tr>\n",
       "  <th>Covariance Type:</th>     <td>nonrobust</td>    <th>  LLR p-value:       </th>  <td>0.02855</td>\n",
       "</tr>\n",
       "</table>\n",
       "<table class=\"simpletable\">\n",
       "<tr>\n",
       "    <td></td>       <th>coef</th>     <th>std err</th>      <th>z</th>      <th>P>|z|</th>  <th>[0.025</th>    <th>0.975]</th>  \n",
       "</tr>\n",
       "<tr>\n",
       "  <th>const</th> <td>   -2.7853</td> <td>    1.107</td> <td>   -2.515</td> <td> 0.012</td> <td>   -4.956</td> <td>   -0.615</td>\n",
       "</tr>\n",
       "<tr>\n",
       "  <th>x1</th>    <td>    2.2611</td> <td>    1.154</td> <td>    1.960</td> <td> 0.050</td> <td>    0.000</td> <td>    4.522</td>\n",
       "</tr>\n",
       "<tr>\n",
       "  <th>x2</th>    <td>    0.4536</td> <td>    0.828</td> <td>    0.548</td> <td> 0.584</td> <td>   -1.169</td> <td>    2.077</td>\n",
       "</tr>\n",
       "<tr>\n",
       "  <th>x3</th>    <td>   -0.0603</td> <td>    0.943</td> <td>   -0.064</td> <td> 0.949</td> <td>   -1.909</td> <td>    1.789</td>\n",
       "</tr>\n",
       "<tr>\n",
       "  <th>x4</th>    <td>    0.8316</td> <td>    0.775</td> <td>    1.073</td> <td> 0.283</td> <td>   -0.688</td> <td>    2.351</td>\n",
       "</tr>\n",
       "<tr>\n",
       "  <th>x5</th>    <td>    0.3992</td> <td>    1.051</td> <td>    0.380</td> <td> 0.704</td> <td>   -1.661</td> <td>    2.460</td>\n",
       "</tr>\n",
       "</table>"
      ],
      "text/plain": [
       "<class 'statsmodels.iolib.summary.Summary'>\n",
       "\"\"\"\n",
       "                           Logit Regression Results                           \n",
       "==============================================================================\n",
       "Dep. Variable:                      Y   No. Observations:                  126\n",
       "Model:                          Logit   Df Residuals:                      120\n",
       "Method:                           MLE   Df Model:                            5\n",
       "Date:                Sun, 02 Jan 2022   Pseudo R-squ.:                 0.07203\n",
       "Time:                        00:24:18   Log-Likelihood:                -80.514\n",
       "converged:                       True   LL-Null:                       -86.764\n",
       "Covariance Type:            nonrobust   LLR p-value:                   0.02855\n",
       "==============================================================================\n",
       "                 coef    std err          z      P>|z|      [0.025      0.975]\n",
       "------------------------------------------------------------------------------\n",
       "const         -2.7853      1.107     -2.515      0.012      -4.956      -0.615\n",
       "x1             2.2611      1.154      1.960      0.050       0.000       4.522\n",
       "x2             0.4536      0.828      0.548      0.584      -1.169       2.077\n",
       "x3            -0.0603      0.943     -0.064      0.949      -1.909       1.789\n",
       "x4             0.8316      0.775      1.073      0.283      -0.688       2.351\n",
       "x5             0.3992      1.051      0.380      0.704      -1.661       2.460\n",
       "==============================================================================\n",
       "\"\"\""
      ]
     },
     "execution_count": 23,
     "metadata": {},
     "output_type": "execute_result"
    }
   ],
   "source": [
    "x = sm.add_constant(x1_scaled)\n",
    "reg_log = sm.Logit(targets,x)\n",
    "results_log = reg_log.fit()\n",
    "results_log.summary()"
   ]
  },
  {
   "cell_type": "code",
   "execution_count": 24,
   "metadata": {},
   "outputs": [
    {
     "name": "stdout",
     "output_type": "stream",
     "text": [
      "Accuracy of the model is 60.32%\n"
     ]
    }
   ],
   "source": [
    "pred_corr = results_log.pred_table()[0, 0] + results_log.pred_table()[1, 1]\n",
    "pred_incorr = results_log.pred_table()[0, 1] + results_log.pred_table()[1, 0]\n",
    "total = results_log.pred_table().sum()\n",
    "\n",
    "accuracy = pred_corr/total*100\n",
    "print(\"Accuracy of the model is %.2f\" %(accuracy) + '%')"
   ]
  },
  {
   "cell_type": "code",
   "execution_count": null,
   "metadata": {},
   "outputs": [],
   "source": []
  },
  {
   "cell_type": "code",
   "execution_count": 45,
   "metadata": {},
   "outputs": [],
   "source": [
    "from sklearn.model_selection import train_test_split, cross_val_predict\n",
    "from sklearn.svm import SVC\n",
    "from sklearn.ensemble import RandomForestClassifier\n",
    "from sklearn.linear_model import SGDClassifier\n",
    "from sklearn.neighbors import KNeighborsClassifier\n",
    "from sklearn.naive_bayes import GaussianNB\n",
    "from sklearn.decomposition import PCA\n",
    "from xgboost import XGBClassifier\n",
    "from sklearn.preprocessing import LabelEncoder, MinMaxScaler\n",
    "from sklearn.metrics import confusion_matrix, precision_score, recall_score, f1_score\n",
    "import time\n",
    "import warnings\n",
    "warnings.filterwarnings(\"ignore\", category=DeprecationWarning)\n",
    "%matplotlib inline\n"
   ]
  },
  {
   "cell_type": "code",
   "execution_count": 46,
   "metadata": {},
   "outputs": [
    {
     "name": "stdout",
     "output_type": "stream",
     "text": [
      "XGBoost's prediction accuracy is: 69.23\n",
      "Time consumed for training: 0.046\n",
      "Time consumed for prediction: 0.00120 seconds\n"
     ]
    }
   ],
   "source": [
    "xgb = XGBClassifier(n_estimators=100)\n",
    "training_start = time.perf_counter()\n",
    "xgb.fit(X_train, y_train)\n",
    "training_end = time.perf_counter()\n",
    "prediction_start = time.perf_counter()\n",
    "preds = xgb.predict(X_test)\n",
    "prediction_end = time.perf_counter()\n",
    "acc_xgb = (preds == y_test).sum().astype(float) / len(preds)*100\n",
    "xgb_train_time = training_end-training_start\n",
    "xgb_prediction_time = prediction_end-prediction_start\n",
    "print(\"XGBoost's prediction accuracy is: %3.2f\" % (acc_xgb))\n",
    "print(\"Time consumed for training: %4.3f\" % (xgb_train_time))\n",
    "print(\"Time consumed for prediction: %6.5f seconds\" % (xgb_prediction_time))"
   ]
  },
  {
   "cell_type": "code",
   "execution_count": 61,
   "metadata": {},
   "outputs": [
    {
     "name": "stdout",
     "output_type": "stream",
     "text": [
      "Scikit-Learn's Random Forest Classifier's prediction accuracy is: 65.38\n",
      "Time consumed for training: 0.019 seconds\n",
      "Time consumed for prediction: 0.00355 seconds\n"
     ]
    }
   ],
   "source": [
    "rfc = RandomForestClassifier(n_estimators=10)\n",
    "training_start = time.perf_counter()\n",
    "rfc.fit(X_train, y_train)\n",
    "training_end = time.perf_counter()\n",
    "prediction_start = time.perf_counter()\n",
    "preds = rfc.predict(X_test)\n",
    "prediction_end = time.perf_counter()\n",
    "acc_rfc = (preds == y_test).sum().astype(float) / len(preds)*100\n",
    "rfc_train_time = training_end-training_start\n",
    "rfc_prediction_time = prediction_end-prediction_start\n",
    "print(\"Scikit-Learn's Random Forest Classifier's prediction accuracy is: %3.2f\" % (acc_rfc))\n",
    "print(\"Time consumed for training: %4.3f seconds\" % (rfc_train_time))\n",
    "print(\"Time consumed for prediction: %6.5f seconds\" % (rfc_prediction_time))"
   ]
  },
  {
   "cell_type": "code",
   "execution_count": 69,
   "metadata": {},
   "outputs": [
    {
     "data": {
      "text/html": [
       "<div>\n",
       "<style scoped>\n",
       "    .dataframe tbody tr th:only-of-type {\n",
       "        vertical-align: middle;\n",
       "    }\n",
       "\n",
       "    .dataframe tbody tr th {\n",
       "        vertical-align: top;\n",
       "    }\n",
       "\n",
       "    .dataframe thead th {\n",
       "        text-align: right;\n",
       "    }\n",
       "</style>\n",
       "<table border=\"1\" class=\"dataframe\">\n",
       "  <thead>\n",
       "    <tr style=\"text-align: right;\">\n",
       "      <th></th>\n",
       "      <th>X1</th>\n",
       "      <th>X3</th>\n",
       "      <th>X4</th>\n",
       "      <th>X5</th>\n",
       "      <th>X6</th>\n",
       "      <th>PCA_1</th>\n",
       "      <th>PCA_2</th>\n",
       "    </tr>\n",
       "  </thead>\n",
       "  <tbody>\n",
       "    <tr>\n",
       "      <th>0</th>\n",
       "      <td>3</td>\n",
       "      <td>3</td>\n",
       "      <td>4</td>\n",
       "      <td>2</td>\n",
       "      <td>4</td>\n",
       "      <td>0.475665</td>\n",
       "      <td>0.541195</td>\n",
       "    </tr>\n",
       "    <tr>\n",
       "      <th>1</th>\n",
       "      <td>3</td>\n",
       "      <td>3</td>\n",
       "      <td>5</td>\n",
       "      <td>4</td>\n",
       "      <td>3</td>\n",
       "      <td>-0.524243</td>\n",
       "      <td>0.554806</td>\n",
       "    </tr>\n",
       "    <tr>\n",
       "      <th>2</th>\n",
       "      <td>5</td>\n",
       "      <td>3</td>\n",
       "      <td>3</td>\n",
       "      <td>3</td>\n",
       "      <td>5</td>\n",
       "      <td>0.462053</td>\n",
       "      <td>-0.458713</td>\n",
       "    </tr>\n",
       "    <tr>\n",
       "      <th>3</th>\n",
       "      <td>5</td>\n",
       "      <td>3</td>\n",
       "      <td>3</td>\n",
       "      <td>3</td>\n",
       "      <td>5</td>\n",
       "      <td>1.475572</td>\n",
       "      <td>0.527583</td>\n",
       "    </tr>\n",
       "    <tr>\n",
       "      <th>4</th>\n",
       "      <td>5</td>\n",
       "      <td>3</td>\n",
       "      <td>3</td>\n",
       "      <td>3</td>\n",
       "      <td>5</td>\n",
       "      <td>1.475572</td>\n",
       "      <td>0.527583</td>\n",
       "    </tr>\n",
       "  </tbody>\n",
       "</table>\n",
       "</div>"
      ],
      "text/plain": [
       "   X1  X3  X4  X5  X6     PCA_1     PCA_2\n",
       "0   3   3   4   2   4  0.475665  0.541195\n",
       "1   3   3   5   4   3 -0.524243  0.554806\n",
       "2   5   3   3   3   5  0.462053 -0.458713\n",
       "3   5   3   3   3   5  1.475572  0.527583\n",
       "4   5   3   3   3   5  1.475572  0.527583"
      ]
     },
     "execution_count": 69,
     "metadata": {},
     "output_type": "execute_result"
    }
   ],
   "source": [
    "sdss_df_fe = df\n",
    "\n",
    "\n",
    "# Principal Component Analysis\n",
    "pca = PCA(n_components=2)\n",
    "ugriz = pca.fit_transform(sdss_df_fe[['X2', 'Y']])\n",
    "\n",
    "# update dataframe \n",
    "sdss_df_fe = pd.concat((sdss_df_fe, pd.DataFrame(ugriz)), axis=1)\n",
    "sdss_df_fe.rename({0: 'PCA_1', 1: 'PCA_2', 2: 'PCA_3'}, axis=1, inplace = True)\n",
    "sdss_df_fe.drop(['X2', 'Y'], axis=1, inplace=True)\n",
    "sdss_df_fe.head()"
   ]
  },
  {
   "cell_type": "code",
   "execution_count": 79,
   "metadata": {},
   "outputs": [],
   "source": [
    "\n"
   ]
  },
  {
   "cell_type": "code",
   "execution_count": null,
   "metadata": {},
   "outputs": [],
   "source": []
  },
  {
   "cell_type": "code",
   "execution_count": null,
   "metadata": {},
   "outputs": [],
   "source": [
    "\n"
   ]
  },
  {
   "cell_type": "code",
   "execution_count": null,
   "metadata": {},
   "outputs": [],
   "source": []
  },
  {
   "cell_type": "code",
   "execution_count": null,
   "metadata": {},
   "outputs": [],
   "source": []
  },
  {
   "cell_type": "code",
   "execution_count": null,
   "metadata": {},
   "outputs": [],
   "source": []
  },
  {
   "cell_type": "code",
   "execution_count": null,
   "metadata": {},
   "outputs": [],
   "source": []
  }
 ],
 "metadata": {
  "kernelspec": {
   "display_name": "Python 3",
   "language": "python",
   "name": "python3"
  },
  "language_info": {
   "codemirror_mode": {
    "name": "ipython",
    "version": 3
   },
   "file_extension": ".py",
   "mimetype": "text/x-python",
   "name": "python",
   "nbconvert_exporter": "python",
   "pygments_lexer": "ipython3",
   "version": "3.7.6"
  }
 },
 "nbformat": 4,
 "nbformat_minor": 4
}
