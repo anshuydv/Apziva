{
 "cells": [
  {
   "cell_type": "code",
   "execution_count": 1,
   "metadata": {},
   "outputs": [
    {
     "data": {
      "text/html": [
       "        <script type=\"text/javascript\">\n",
       "        window.PlotlyConfig = {MathJaxConfig: 'local'};\n",
       "        if (window.MathJax) {MathJax.Hub.Config({SVG: {font: \"STIX-Web\"}});}\n",
       "        if (typeof require !== 'undefined') {\n",
       "        require.undef(\"plotly\");\n",
       "        requirejs.config({\n",
       "            paths: {\n",
       "                'plotly': ['https://cdn.plot.ly/plotly-latest.min']\n",
       "            }\n",
       "        });\n",
       "        require(['plotly'], function(Plotly) {\n",
       "            window._Plotly = Plotly;\n",
       "        });\n",
       "        }\n",
       "        </script>\n",
       "        "
      ]
     },
     "metadata": {},
     "output_type": "display_data"
    }
   ],
   "source": [
    "#import libraries\n",
    "import seaborn as sns\n",
    "\n",
    "from plotly import tools\n",
    "import plotly.offline as py\n",
    "import plotly.figure_factory as ff\n",
    "py.init_notebook_mode(connected=True)\n",
    "\n",
    "import matplotlib.pyplot as plt # plotting\n",
    "\n",
    "import pandas as pd \n",
    "\n",
    "import numpy as np\n",
    "import matplotlib.pyplot as plt\n",
    "import seaborn as sns\n",
    "sns.set()\n",
    "from sklearn.model_selection import train_test_split\n",
    "import lightgbm as lgb\n",
    "from lightgbm import LGBMClassifier\n",
    "from sklearn import preprocessing\n",
    "from sklearn.preprocessing import LabelEncoder\n",
    "import shap\n",
    "from imblearn.over_sampling import SMOTE"
   ]
  },
  {
   "cell_type": "markdown",
   "metadata": {},
   "source": [
    "### Load Data"
   ]
  },
  {
   "cell_type": "code",
   "execution_count": 2,
   "metadata": {},
   "outputs": [],
   "source": [
    "file1 = \"/Users/ayadav/Downloads/term-deposit-marketing-2020.csv\""
   ]
  },
  {
   "cell_type": "code",
   "execution_count": 3,
   "metadata": {},
   "outputs": [],
   "source": [
    "df = pd.read_csv(file1)"
   ]
  },
  {
   "cell_type": "code",
   "execution_count": 4,
   "metadata": {},
   "outputs": [
    {
     "data": {
      "text/html": [
       "<div>\n",
       "<style scoped>\n",
       "    .dataframe tbody tr th:only-of-type {\n",
       "        vertical-align: middle;\n",
       "    }\n",
       "\n",
       "    .dataframe tbody tr th {\n",
       "        vertical-align: top;\n",
       "    }\n",
       "\n",
       "    .dataframe thead th {\n",
       "        text-align: right;\n",
       "    }\n",
       "</style>\n",
       "<table border=\"1\" class=\"dataframe\">\n",
       "  <thead>\n",
       "    <tr style=\"text-align: right;\">\n",
       "      <th></th>\n",
       "      <th>age</th>\n",
       "      <th>job</th>\n",
       "      <th>marital</th>\n",
       "      <th>education</th>\n",
       "      <th>default</th>\n",
       "      <th>balance</th>\n",
       "      <th>housing</th>\n",
       "      <th>loan</th>\n",
       "      <th>contact</th>\n",
       "      <th>day</th>\n",
       "      <th>month</th>\n",
       "      <th>duration</th>\n",
       "      <th>campaign</th>\n",
       "      <th>y</th>\n",
       "    </tr>\n",
       "  </thead>\n",
       "  <tbody>\n",
       "    <tr>\n",
       "      <th>0</th>\n",
       "      <td>58</td>\n",
       "      <td>management</td>\n",
       "      <td>married</td>\n",
       "      <td>tertiary</td>\n",
       "      <td>no</td>\n",
       "      <td>2143</td>\n",
       "      <td>yes</td>\n",
       "      <td>no</td>\n",
       "      <td>unknown</td>\n",
       "      <td>5</td>\n",
       "      <td>may</td>\n",
       "      <td>261</td>\n",
       "      <td>1</td>\n",
       "      <td>no</td>\n",
       "    </tr>\n",
       "    <tr>\n",
       "      <th>1</th>\n",
       "      <td>44</td>\n",
       "      <td>technician</td>\n",
       "      <td>single</td>\n",
       "      <td>secondary</td>\n",
       "      <td>no</td>\n",
       "      <td>29</td>\n",
       "      <td>yes</td>\n",
       "      <td>no</td>\n",
       "      <td>unknown</td>\n",
       "      <td>5</td>\n",
       "      <td>may</td>\n",
       "      <td>151</td>\n",
       "      <td>1</td>\n",
       "      <td>no</td>\n",
       "    </tr>\n",
       "    <tr>\n",
       "      <th>2</th>\n",
       "      <td>33</td>\n",
       "      <td>entrepreneur</td>\n",
       "      <td>married</td>\n",
       "      <td>secondary</td>\n",
       "      <td>no</td>\n",
       "      <td>2</td>\n",
       "      <td>yes</td>\n",
       "      <td>yes</td>\n",
       "      <td>unknown</td>\n",
       "      <td>5</td>\n",
       "      <td>may</td>\n",
       "      <td>76</td>\n",
       "      <td>1</td>\n",
       "      <td>no</td>\n",
       "    </tr>\n",
       "    <tr>\n",
       "      <th>3</th>\n",
       "      <td>47</td>\n",
       "      <td>blue-collar</td>\n",
       "      <td>married</td>\n",
       "      <td>unknown</td>\n",
       "      <td>no</td>\n",
       "      <td>1506</td>\n",
       "      <td>yes</td>\n",
       "      <td>no</td>\n",
       "      <td>unknown</td>\n",
       "      <td>5</td>\n",
       "      <td>may</td>\n",
       "      <td>92</td>\n",
       "      <td>1</td>\n",
       "      <td>no</td>\n",
       "    </tr>\n",
       "    <tr>\n",
       "      <th>4</th>\n",
       "      <td>33</td>\n",
       "      <td>unknown</td>\n",
       "      <td>single</td>\n",
       "      <td>unknown</td>\n",
       "      <td>no</td>\n",
       "      <td>1</td>\n",
       "      <td>no</td>\n",
       "      <td>no</td>\n",
       "      <td>unknown</td>\n",
       "      <td>5</td>\n",
       "      <td>may</td>\n",
       "      <td>198</td>\n",
       "      <td>1</td>\n",
       "      <td>no</td>\n",
       "    </tr>\n",
       "    <tr>\n",
       "      <th>...</th>\n",
       "      <td>...</td>\n",
       "      <td>...</td>\n",
       "      <td>...</td>\n",
       "      <td>...</td>\n",
       "      <td>...</td>\n",
       "      <td>...</td>\n",
       "      <td>...</td>\n",
       "      <td>...</td>\n",
       "      <td>...</td>\n",
       "      <td>...</td>\n",
       "      <td>...</td>\n",
       "      <td>...</td>\n",
       "      <td>...</td>\n",
       "      <td>...</td>\n",
       "    </tr>\n",
       "    <tr>\n",
       "      <th>39995</th>\n",
       "      <td>53</td>\n",
       "      <td>technician</td>\n",
       "      <td>married</td>\n",
       "      <td>tertiary</td>\n",
       "      <td>no</td>\n",
       "      <td>395</td>\n",
       "      <td>no</td>\n",
       "      <td>no</td>\n",
       "      <td>cellular</td>\n",
       "      <td>3</td>\n",
       "      <td>jun</td>\n",
       "      <td>107</td>\n",
       "      <td>1</td>\n",
       "      <td>no</td>\n",
       "    </tr>\n",
       "    <tr>\n",
       "      <th>39996</th>\n",
       "      <td>30</td>\n",
       "      <td>management</td>\n",
       "      <td>single</td>\n",
       "      <td>tertiary</td>\n",
       "      <td>no</td>\n",
       "      <td>3340</td>\n",
       "      <td>no</td>\n",
       "      <td>no</td>\n",
       "      <td>cellular</td>\n",
       "      <td>3</td>\n",
       "      <td>jun</td>\n",
       "      <td>238</td>\n",
       "      <td>3</td>\n",
       "      <td>yes</td>\n",
       "    </tr>\n",
       "    <tr>\n",
       "      <th>39997</th>\n",
       "      <td>54</td>\n",
       "      <td>admin</td>\n",
       "      <td>divorced</td>\n",
       "      <td>secondary</td>\n",
       "      <td>no</td>\n",
       "      <td>200</td>\n",
       "      <td>no</td>\n",
       "      <td>no</td>\n",
       "      <td>cellular</td>\n",
       "      <td>3</td>\n",
       "      <td>jun</td>\n",
       "      <td>170</td>\n",
       "      <td>1</td>\n",
       "      <td>yes</td>\n",
       "    </tr>\n",
       "    <tr>\n",
       "      <th>39998</th>\n",
       "      <td>34</td>\n",
       "      <td>management</td>\n",
       "      <td>married</td>\n",
       "      <td>tertiary</td>\n",
       "      <td>no</td>\n",
       "      <td>1047</td>\n",
       "      <td>no</td>\n",
       "      <td>no</td>\n",
       "      <td>cellular</td>\n",
       "      <td>3</td>\n",
       "      <td>jun</td>\n",
       "      <td>342</td>\n",
       "      <td>1</td>\n",
       "      <td>no</td>\n",
       "    </tr>\n",
       "    <tr>\n",
       "      <th>39999</th>\n",
       "      <td>38</td>\n",
       "      <td>technician</td>\n",
       "      <td>married</td>\n",
       "      <td>secondary</td>\n",
       "      <td>no</td>\n",
       "      <td>1442</td>\n",
       "      <td>yes</td>\n",
       "      <td>no</td>\n",
       "      <td>cellular</td>\n",
       "      <td>3</td>\n",
       "      <td>jun</td>\n",
       "      <td>113</td>\n",
       "      <td>1</td>\n",
       "      <td>no</td>\n",
       "    </tr>\n",
       "  </tbody>\n",
       "</table>\n",
       "<p>40000 rows × 14 columns</p>\n",
       "</div>"
      ],
      "text/plain": [
       "       age           job   marital  education default  balance housing loan  \\\n",
       "0       58    management   married   tertiary      no     2143     yes   no   \n",
       "1       44    technician    single  secondary      no       29     yes   no   \n",
       "2       33  entrepreneur   married  secondary      no        2     yes  yes   \n",
       "3       47   blue-collar   married    unknown      no     1506     yes   no   \n",
       "4       33       unknown    single    unknown      no        1      no   no   \n",
       "...    ...           ...       ...        ...     ...      ...     ...  ...   \n",
       "39995   53    technician   married   tertiary      no      395      no   no   \n",
       "39996   30    management    single   tertiary      no     3340      no   no   \n",
       "39997   54         admin  divorced  secondary      no      200      no   no   \n",
       "39998   34    management   married   tertiary      no     1047      no   no   \n",
       "39999   38    technician   married  secondary      no     1442     yes   no   \n",
       "\n",
       "        contact  day month  duration  campaign    y  \n",
       "0       unknown    5   may       261         1   no  \n",
       "1       unknown    5   may       151         1   no  \n",
       "2       unknown    5   may        76         1   no  \n",
       "3       unknown    5   may        92         1   no  \n",
       "4       unknown    5   may       198         1   no  \n",
       "...         ...  ...   ...       ...       ...  ...  \n",
       "39995  cellular    3   jun       107         1   no  \n",
       "39996  cellular    3   jun       238         3  yes  \n",
       "39997  cellular    3   jun       170         1  yes  \n",
       "39998  cellular    3   jun       342         1   no  \n",
       "39999  cellular    3   jun       113         1   no  \n",
       "\n",
       "[40000 rows x 14 columns]"
      ]
     },
     "execution_count": 4,
     "metadata": {},
     "output_type": "execute_result"
    }
   ],
   "source": [
    "df"
   ]
  },
  {
   "cell_type": "code",
   "execution_count": 5,
   "metadata": {},
   "outputs": [
    {
     "name": "stdout",
     "output_type": "stream",
     "text": [
      "<class 'pandas.core.frame.DataFrame'>\n",
      "RangeIndex: 40000 entries, 0 to 39999\n",
      "Data columns (total 14 columns):\n",
      " #   Column     Non-Null Count  Dtype \n",
      "---  ------     --------------  ----- \n",
      " 0   age        40000 non-null  int64 \n",
      " 1   job        40000 non-null  object\n",
      " 2   marital    40000 non-null  object\n",
      " 3   education  40000 non-null  object\n",
      " 4   default    40000 non-null  object\n",
      " 5   balance    40000 non-null  int64 \n",
      " 6   housing    40000 non-null  object\n",
      " 7   loan       40000 non-null  object\n",
      " 8   contact    40000 non-null  object\n",
      " 9   day        40000 non-null  int64 \n",
      " 10  month      40000 non-null  object\n",
      " 11  duration   40000 non-null  int64 \n",
      " 12  campaign   40000 non-null  int64 \n",
      " 13  y          40000 non-null  object\n",
      "dtypes: int64(5), object(9)\n",
      "memory usage: 4.3+ MB\n"
     ]
    }
   ],
   "source": [
    "df.info()"
   ]
  },
  {
   "cell_type": "code",
   "execution_count": 6,
   "metadata": {},
   "outputs": [
    {
     "data": {
      "text/html": [
       "<div>\n",
       "<style scoped>\n",
       "    .dataframe tbody tr th:only-of-type {\n",
       "        vertical-align: middle;\n",
       "    }\n",
       "\n",
       "    .dataframe tbody tr th {\n",
       "        vertical-align: top;\n",
       "    }\n",
       "\n",
       "    .dataframe thead th {\n",
       "        text-align: right;\n",
       "    }\n",
       "</style>\n",
       "<table border=\"1\" class=\"dataframe\">\n",
       "  <thead>\n",
       "    <tr style=\"text-align: right;\">\n",
       "      <th></th>\n",
       "      <th>age</th>\n",
       "      <th>balance</th>\n",
       "      <th>day</th>\n",
       "      <th>duration</th>\n",
       "      <th>campaign</th>\n",
       "    </tr>\n",
       "  </thead>\n",
       "  <tbody>\n",
       "    <tr>\n",
       "      <th>count</th>\n",
       "      <td>40000.000000</td>\n",
       "      <td>40000.000000</td>\n",
       "      <td>40000.000000</td>\n",
       "      <td>40000.000000</td>\n",
       "      <td>40000.000000</td>\n",
       "    </tr>\n",
       "    <tr>\n",
       "      <th>mean</th>\n",
       "      <td>40.544600</td>\n",
       "      <td>1274.277550</td>\n",
       "      <td>16.017225</td>\n",
       "      <td>254.824300</td>\n",
       "      <td>2.882175</td>\n",
       "    </tr>\n",
       "    <tr>\n",
       "      <th>std</th>\n",
       "      <td>9.641776</td>\n",
       "      <td>2903.769716</td>\n",
       "      <td>8.278127</td>\n",
       "      <td>259.366498</td>\n",
       "      <td>3.239051</td>\n",
       "    </tr>\n",
       "    <tr>\n",
       "      <th>min</th>\n",
       "      <td>19.000000</td>\n",
       "      <td>-8019.000000</td>\n",
       "      <td>1.000000</td>\n",
       "      <td>0.000000</td>\n",
       "      <td>1.000000</td>\n",
       "    </tr>\n",
       "    <tr>\n",
       "      <th>25%</th>\n",
       "      <td>33.000000</td>\n",
       "      <td>54.000000</td>\n",
       "      <td>8.000000</td>\n",
       "      <td>100.000000</td>\n",
       "      <td>1.000000</td>\n",
       "    </tr>\n",
       "    <tr>\n",
       "      <th>50%</th>\n",
       "      <td>39.000000</td>\n",
       "      <td>407.000000</td>\n",
       "      <td>17.000000</td>\n",
       "      <td>175.000000</td>\n",
       "      <td>2.000000</td>\n",
       "    </tr>\n",
       "    <tr>\n",
       "      <th>75%</th>\n",
       "      <td>48.000000</td>\n",
       "      <td>1319.000000</td>\n",
       "      <td>21.000000</td>\n",
       "      <td>313.000000</td>\n",
       "      <td>3.000000</td>\n",
       "    </tr>\n",
       "    <tr>\n",
       "      <th>max</th>\n",
       "      <td>95.000000</td>\n",
       "      <td>102127.000000</td>\n",
       "      <td>31.000000</td>\n",
       "      <td>4918.000000</td>\n",
       "      <td>63.000000</td>\n",
       "    </tr>\n",
       "  </tbody>\n",
       "</table>\n",
       "</div>"
      ],
      "text/plain": [
       "                age        balance           day      duration      campaign\n",
       "count  40000.000000   40000.000000  40000.000000  40000.000000  40000.000000\n",
       "mean      40.544600    1274.277550     16.017225    254.824300      2.882175\n",
       "std        9.641776    2903.769716      8.278127    259.366498      3.239051\n",
       "min       19.000000   -8019.000000      1.000000      0.000000      1.000000\n",
       "25%       33.000000      54.000000      8.000000    100.000000      1.000000\n",
       "50%       39.000000     407.000000     17.000000    175.000000      2.000000\n",
       "75%       48.000000    1319.000000     21.000000    313.000000      3.000000\n",
       "max       95.000000  102127.000000     31.000000   4918.000000     63.000000"
      ]
     },
     "execution_count": 6,
     "metadata": {},
     "output_type": "execute_result"
    }
   ],
   "source": [
    "df.describe()"
   ]
  },
  {
   "cell_type": "code",
   "execution_count": 7,
   "metadata": {},
   "outputs": [
    {
     "data": {
      "text/plain": [
       "no     37104\n",
       "yes     2896\n",
       "Name: y, dtype: int64"
      ]
     },
     "execution_count": 7,
     "metadata": {},
     "output_type": "execute_result"
    }
   ],
   "source": [
    "df.y.value_counts()"
   ]
  },
  {
   "cell_type": "code",
   "execution_count": 8,
   "metadata": {},
   "outputs": [
    {
     "data": {
      "text/plain": [
       "(40000, 14)"
      ]
     },
     "execution_count": 8,
     "metadata": {},
     "output_type": "execute_result"
    }
   ],
   "source": [
    "df.shape"
   ]
  },
  {
   "cell_type": "code",
   "execution_count": 9,
   "metadata": {},
   "outputs": [
    {
     "data": {
      "text/plain": [
       "age           int64\n",
       "job          object\n",
       "marital      object\n",
       "education    object\n",
       "default      object\n",
       "balance       int64\n",
       "housing      object\n",
       "loan         object\n",
       "contact      object\n",
       "day           int64\n",
       "month        object\n",
       "duration      int64\n",
       "campaign      int64\n",
       "y            object\n",
       "dtype: object"
      ]
     },
     "execution_count": 9,
     "metadata": {},
     "output_type": "execute_result"
    }
   ],
   "source": [
    "df.dtypes"
   ]
  },
  {
   "cell_type": "markdown",
   "metadata": {},
   "source": [
    "## Data Visualization"
   ]
  },
  {
   "cell_type": "code",
   "execution_count": 10,
   "metadata": {},
   "outputs": [
    {
     "data": {
      "text/plain": [
       "<matplotlib.axes._subplots.AxesSubplot at 0x7fe3e5fbd150>"
      ]
     },
     "execution_count": 10,
     "metadata": {},
     "output_type": "execute_result"
    },
    {
     "data": {
      "image/png": "[encoded data removed]",
      "text/plain": [
       "<Figure size 432x288 with 2 Axes>"
      ]
     },
     "metadata": {},
     "output_type": "display_data"
    }
   ],
   "source": [
    "sns.heatmap(df.corr(), cmap='BuGn')"
   ]
  },
  {
   "cell_type": "markdown",
   "metadata": {},
   "source": [
    "### to visualize all the columns in heatmap, need to label the categorical values and them to number"
   ]
  },
  {
   "cell_type": "code",
   "execution_count": 11,
   "metadata": {},
   "outputs": [],
   "source": [
    "### label encode the categorical values and convert them to numbers \n",
    "le = preprocessing.LabelEncoder()\n",
    "le.fit(df['job'].astype(str))\n",
    "df['job'] = le.transform(df['job'].astype(str))\n",
    "\n",
    "le.fit(df['marital'].astype(str))\n",
    "df['marital'] = le.transform(df['marital'].astype(str))\n",
    "\n",
    "\n",
    "le.fit(df['education'].astype(str))\n",
    "df['education'] = le.transform(df['education'].astype(str))\n",
    "\n",
    "\n",
    "le.fit(df['default'].astype(str))\n",
    "df['default'] = le.transform(df['default'].astype(str))\n",
    "\n",
    "\n",
    "le.fit(df['housing'].astype(str))\n",
    "df['housing'] = le.transform(df['housing'].astype(str))\n",
    "\n",
    "\n",
    "\n",
    "le.fit(df['loan'].astype(str))\n",
    "df['loan'] = le.transform(df['loan'].astype(str))\n",
    "\n",
    "\n",
    "le.fit(df['contact'].astype(str))\n",
    "df['contact'] = le.transform(df['contact'].astype(str))\n",
    "\n",
    "\n",
    "le.fit(df['month'].astype(str))\n",
    "df['month'] = le.transform(df['month'].astype(str))\n"
   ]
  },
  {
   "cell_type": "code",
   "execution_count": 12,
   "metadata": {},
   "outputs": [
    {
     "data": {
      "text/plain": [
       "<matplotlib.axes._subplots.AxesSubplot at 0x7fe3e5e71590>"
      ]
     },
     "execution_count": 12,
     "metadata": {},
     "output_type": "execute_result"
    },
    {
     "data": {
      "image/png": "[encoded data removed]",
      "text/plain": [
       "<Figure size 432x288 with 2 Axes>"
      ]
     },
     "metadata": {},
     "output_type": "display_data"
    }
   ],
   "source": [
    "sns.heatmap(df.corr(), cmap='BuGn')"
   ]
  },
  {
   "cell_type": "markdown",
   "metadata": {},
   "source": [
    "## checking null values"
   ]
  },
  {
   "cell_type": "code",
   "execution_count": 13,
   "metadata": {},
   "outputs": [
    {
     "data": {
      "text/plain": [
       "age          0\n",
       "job          0\n",
       "marital      0\n",
       "education    0\n",
       "default      0\n",
       "balance      0\n",
       "housing      0\n",
       "loan         0\n",
       "contact      0\n",
       "day          0\n",
       "month        0\n",
       "duration     0\n",
       "campaign     0\n",
       "y            0\n",
       "dtype: int64"
      ]
     },
     "execution_count": 13,
     "metadata": {},
     "output_type": "execute_result"
    }
   ],
   "source": [
    "df.isnull().sum()"
   ]
  },
  {
   "cell_type": "code",
   "execution_count": 14,
   "metadata": {},
   "outputs": [
    {
     "data": {
      "image/png": "[encoded data removed]",
      "text/plain": [
       "<Figure size 1440x1008 with 16 Axes>"
      ]
     },
     "metadata": {},
     "output_type": "display_data"
    }
   ],
   "source": [
    "df.hist(figsize=(20,14))\n",
    "plt.show()"
   ]
  },
  {
   "cell_type": "code",
   "execution_count": 15,
   "metadata": {},
   "outputs": [
    {
     "name": "stdout",
     "output_type": "stream",
     "text": [
      "Requirement already satisfied: seaborn in /opt/anaconda3/lib/python3.7/site-packages (0.11.2)\n",
      "Requirement already satisfied: scipy>=1.0 in /opt/anaconda3/lib/python3.7/site-packages (from seaborn) (1.4.1)\n",
      "Requirement already satisfied: pandas>=0.23 in /opt/anaconda3/lib/python3.7/site-packages (from seaborn) (1.0.1)\n",
      "Requirement already satisfied: numpy>=1.15 in /Users/ayadav/.local/lib/python3.7/site-packages (from seaborn) (1.19.4)\n",
      "Requirement already satisfied: matplotlib>=2.2 in /opt/anaconda3/lib/python3.7/site-packages (from seaborn) (3.1.3)\n",
      "Requirement already satisfied: pyparsing!=2.0.4,!=2.1.2,!=2.1.6,>=2.0.1 in /opt/anaconda3/lib/python3.7/site-packages (from matplotlib>=2.2->seaborn) (2.4.6)\n",
      "Requirement already satisfied: cycler>=0.10 in /opt/anaconda3/lib/python3.7/site-packages (from matplotlib>=2.2->seaborn) (0.10.0)\n",
      "Requirement already satisfied: kiwisolver>=1.0.1 in /opt/anaconda3/lib/python3.7/site-packages (from matplotlib>=2.2->seaborn) (1.1.0)\n",
      "Requirement already satisfied: python-dateutil>=2.1 in /opt/anaconda3/lib/python3.7/site-packages (from matplotlib>=2.2->seaborn) (2.8.1)\n",
      "Requirement already satisfied: six in /opt/anaconda3/lib/python3.7/site-packages (from cycler>=0.10->matplotlib>=2.2->seaborn) (1.15.0)\n",
      "Requirement already satisfied: setuptools in /opt/anaconda3/lib/python3.7/site-packages (from kiwisolver>=1.0.1->matplotlib>=2.2->seaborn) (46.0.0.post20200309)\n",
      "Requirement already satisfied: pytz>=2017.2 in /opt/anaconda3/lib/python3.7/site-packages (from pandas>=0.23->seaborn) (2019.3)\n",
      "\u001b[33mWARNING: You are using pip version 20.3.3; however, version 22.0.3 is available.\n",
      "You should consider upgrading via the '/opt/anaconda3/bin/python -m pip install --upgrade pip' command.\u001b[0m\n",
      "Note: you may need to restart the kernel to use updated packages.\n"
     ]
    }
   ],
   "source": [
    "pip install -U seaborn"
   ]
  },
  {
   "cell_type": "code",
   "execution_count": 15,
   "metadata": {},
   "outputs": [
    {
     "data": {
      "image/png": "[encoded data removed]",
      "text/plain": [
       "<Figure size 1080x216 with 2 Axes>"
      ]
     },
     "metadata": {},
     "output_type": "display_data"
    }
   ],
   "source": [
    "from scipy import stats\n",
    "# normalize the exponential data with boxcox\n",
    "normalized_data = stats.boxcox(df['age'])\n",
    "\n",
    "# plot both together to compare\n",
    "fig, ax=plt.subplots(1, 2, figsize=(15, 3))\n",
    "sns.histplot(df['age'], ax=ax[0], kde=True, legend=False)\n",
    "ax[0].set_title(\"Original Data\")\n",
    "sns.histplot(normalized_data[0], ax=ax[1], kde=True, legend=False)\n",
    "ax[1].set_title(\"Normalized data\")\n",
    "plt.show()"
   ]
  },
  {
   "cell_type": "code",
   "execution_count": 16,
   "metadata": {},
   "outputs": [
    {
     "data": {
      "image/png": "[encoded data removed]",
      "text/plain": [
       "<Figure size 1080x216 with 2 Axes>"
      ]
     },
     "metadata": {},
     "output_type": "display_data"
    }
   ],
   "source": [
    "from scipy import stats\n",
    "# normalize the exponential data with boxcox\n",
    "normalized_data = stats.boxcox(df['day'])\n",
    "\n",
    "# plot both together to compare\n",
    "fig, ax=plt.subplots(1, 2, figsize=(15, 3))\n",
    "sns.histplot(df['day'], ax=ax[0], kde=True, legend=False)\n",
    "ax[0].set_title(\"Original Data\")\n",
    "sns.histplot(normalized_data[0], ax=ax[1], kde=True, legend=False)\n",
    "ax[1].set_title(\"Normalized data\")\n",
    "plt.show()"
   ]
  },
  {
   "cell_type": "code",
   "execution_count": 17,
   "metadata": {},
   "outputs": [
    {
     "data": {
      "text/plain": [
       "Index(['age', 'job', 'marital', 'education', 'default', 'balance', 'housing',\n",
       "       'loan', 'contact', 'day', 'month', 'duration', 'campaign', 'y'],\n",
       "      dtype='object')"
      ]
     },
     "execution_count": 17,
     "metadata": {},
     "output_type": "execute_result"
    }
   ],
   "source": [
    "df.columns"
   ]
  },
  {
   "cell_type": "code",
   "execution_count": 18,
   "metadata": {},
   "outputs": [
    {
     "data": {
      "text/plain": [
       "<matplotlib.axes._subplots.AxesSubplot at 0x7fe3e4abea50>"
      ]
     },
     "execution_count": 18,
     "metadata": {},
     "output_type": "execute_result"
    },
    {
     "data": {
      "image/png": "[encoded data removed]",
      "text/plain": [
       "<Figure size 432x288 with 1 Axes>"
      ]
     },
     "metadata": {},
     "output_type": "display_data"
    }
   ],
   "source": [
    "target = df['y']\n",
    "target.value_counts().plot.bar()"
   ]
  },
  {
   "cell_type": "markdown",
   "metadata": {},
   "source": [
    "### Data looks pretty imbalance, first we will run the pycaret model on default data sets and hypertune the best model with defult datasets to check the accuracy of model"
   ]
  },
  {
   "cell_type": "markdown",
   "metadata": {},
   "source": [
    "##  Machine Learning"
   ]
  },
  {
   "cell_type": "code",
   "execution_count": 19,
   "metadata": {},
   "outputs": [
    {
     "name": "stdout",
     "output_type": "stream",
     "text": [
      "(32000, 13)\n",
      "(8000, 13)\n",
      "(32000, 1)\n",
      "(8000, 1)\n"
     ]
    }
   ],
   "source": [
    "# Splitting data into training and testing\n",
    "from sklearn.model_selection import train_test_split\n",
    "\n",
    "# Separate out the features and targets\n",
    "X = df.drop(columns='y')\n",
    "y = pd.DataFrame(df['y'])\n",
    "\n",
    "# Split into 80% training and 20% testing set\n",
    "X_train, X_test, y_train, y_test = train_test_split(X, y, test_size = 0.2, random_state = 42)\n",
    "\n",
    "print(X_train.shape)\n",
    "print(X_test.shape)\n",
    "print(y_train.shape)\n",
    "print(y_test.shape)"
   ]
  },
  {
   "cell_type": "markdown",
   "metadata": {},
   "source": [
    "## Pycaret Module"
   ]
  },
  {
   "cell_type": "code",
   "execution_count": 19,
   "metadata": {},
   "outputs": [
    {
     "name": "stdout",
     "output_type": "stream",
     "text": [
      "Data for Modeling: (38000, 14)\n",
      "Unseen Data For Predictions: (0, 14)\n"
     ]
    }
   ],
   "source": [
    "#load the pycaret module\n",
    "from pycaret.classification import *\n",
    "data = df.sample(frac=0.95, random_state=486)\n",
    "data_unseen = df.drop(df.index)\n",
    "df.reset_index(inplace=True, drop=True)\n",
    "data_unseen.reset_index(inplace=True, drop=True)\n",
    "print('Data for Modeling: ' + str(data.shape))\n",
    "print('Unseen Data For Predictions: ' + str(data_unseen.shape))"
   ]
  },
  {
   "cell_type": "code",
   "execution_count": 20,
   "metadata": {},
   "outputs": [
    {
     "name": "stdout",
     "output_type": "stream",
     "text": [
      "Setup Succesfully Completed!\n"
     ]
    },
    {
     "data": {
      "text/html": [
       "<style  type=\"text/css\" >\n",
       "</style><table id=\"T_f5fbc852_8958_11ec_a6e4_a683e7b4a582\" ><thead>    <tr>        <th class=\"blank level0\" ></th>        <th class=\"col_heading level0 col0\" >Description</th>        <th class=\"col_heading level0 col1\" >Value</th>    </tr></thead><tbody>\n",
       "                <tr>\n",
       "                        <th id=\"T_f5fbc852_8958_11ec_a6e4_a683e7b4a582level0_row0\" class=\"row_heading level0 row0\" >0</th>\n",
       "                        <td id=\"T_f5fbc852_8958_11ec_a6e4_a683e7b4a582row0_col0\" class=\"data row0 col0\" >session_id</td>\n",
       "                        <td id=\"T_f5fbc852_8958_11ec_a6e4_a683e7b4a582row0_col1\" class=\"data row0 col1\" >123</td>\n",
       "            </tr>\n",
       "            <tr>\n",
       "                        <th id=\"T_f5fbc852_8958_11ec_a6e4_a683e7b4a582level0_row1\" class=\"row_heading level0 row1\" >1</th>\n",
       "                        <td id=\"T_f5fbc852_8958_11ec_a6e4_a683e7b4a582row1_col0\" class=\"data row1 col0\" >Target Type</td>\n",
       "                        <td id=\"T_f5fbc852_8958_11ec_a6e4_a683e7b4a582row1_col1\" class=\"data row1 col1\" >Binary</td>\n",
       "            </tr>\n",
       "            <tr>\n",
       "                        <th id=\"T_f5fbc852_8958_11ec_a6e4_a683e7b4a582level0_row2\" class=\"row_heading level0 row2\" >2</th>\n",
       "                        <td id=\"T_f5fbc852_8958_11ec_a6e4_a683e7b4a582row2_col0\" class=\"data row2 col0\" >Label Encoded</td>\n",
       "                        <td id=\"T_f5fbc852_8958_11ec_a6e4_a683e7b4a582row2_col1\" class=\"data row2 col1\" >no: 0, yes: 1</td>\n",
       "            </tr>\n",
       "            <tr>\n",
       "                        <th id=\"T_f5fbc852_8958_11ec_a6e4_a683e7b4a582level0_row3\" class=\"row_heading level0 row3\" >3</th>\n",
       "                        <td id=\"T_f5fbc852_8958_11ec_a6e4_a683e7b4a582row3_col0\" class=\"data row3 col0\" >Original Data</td>\n",
       "                        <td id=\"T_f5fbc852_8958_11ec_a6e4_a683e7b4a582row3_col1\" class=\"data row3 col1\" >(38000, 14)</td>\n",
       "            </tr>\n",
       "            <tr>\n",
       "                        <th id=\"T_f5fbc852_8958_11ec_a6e4_a683e7b4a582level0_row4\" class=\"row_heading level0 row4\" >4</th>\n",
       "                        <td id=\"T_f5fbc852_8958_11ec_a6e4_a683e7b4a582row4_col0\" class=\"data row4 col0\" >Missing Values </td>\n",
       "                        <td id=\"T_f5fbc852_8958_11ec_a6e4_a683e7b4a582row4_col1\" class=\"data row4 col1\" >False</td>\n",
       "            </tr>\n",
       "            <tr>\n",
       "                        <th id=\"T_f5fbc852_8958_11ec_a6e4_a683e7b4a582level0_row5\" class=\"row_heading level0 row5\" >5</th>\n",
       "                        <td id=\"T_f5fbc852_8958_11ec_a6e4_a683e7b4a582row5_col0\" class=\"data row5 col0\" >Numeric Features </td>\n",
       "                        <td id=\"T_f5fbc852_8958_11ec_a6e4_a683e7b4a582row5_col1\" class=\"data row5 col1\" >5</td>\n",
       "            </tr>\n",
       "            <tr>\n",
       "                        <th id=\"T_f5fbc852_8958_11ec_a6e4_a683e7b4a582level0_row6\" class=\"row_heading level0 row6\" >6</th>\n",
       "                        <td id=\"T_f5fbc852_8958_11ec_a6e4_a683e7b4a582row6_col0\" class=\"data row6 col0\" >Categorical Features </td>\n",
       "                        <td id=\"T_f5fbc852_8958_11ec_a6e4_a683e7b4a582row6_col1\" class=\"data row6 col1\" >8</td>\n",
       "            </tr>\n",
       "            <tr>\n",
       "                        <th id=\"T_f5fbc852_8958_11ec_a6e4_a683e7b4a582level0_row7\" class=\"row_heading level0 row7\" >7</th>\n",
       "                        <td id=\"T_f5fbc852_8958_11ec_a6e4_a683e7b4a582row7_col0\" class=\"data row7 col0\" >Ordinal Features </td>\n",
       "                        <td id=\"T_f5fbc852_8958_11ec_a6e4_a683e7b4a582row7_col1\" class=\"data row7 col1\" >False</td>\n",
       "            </tr>\n",
       "            <tr>\n",
       "                        <th id=\"T_f5fbc852_8958_11ec_a6e4_a683e7b4a582level0_row8\" class=\"row_heading level0 row8\" >8</th>\n",
       "                        <td id=\"T_f5fbc852_8958_11ec_a6e4_a683e7b4a582row8_col0\" class=\"data row8 col0\" >High Cardinality Features </td>\n",
       "                        <td id=\"T_f5fbc852_8958_11ec_a6e4_a683e7b4a582row8_col1\" class=\"data row8 col1\" >False</td>\n",
       "            </tr>\n",
       "            <tr>\n",
       "                        <th id=\"T_f5fbc852_8958_11ec_a6e4_a683e7b4a582level0_row9\" class=\"row_heading level0 row9\" >9</th>\n",
       "                        <td id=\"T_f5fbc852_8958_11ec_a6e4_a683e7b4a582row9_col0\" class=\"data row9 col0\" >High Cardinality Method </td>\n",
       "                        <td id=\"T_f5fbc852_8958_11ec_a6e4_a683e7b4a582row9_col1\" class=\"data row9 col1\" >None</td>\n",
       "            </tr>\n",
       "            <tr>\n",
       "                        <th id=\"T_f5fbc852_8958_11ec_a6e4_a683e7b4a582level0_row10\" class=\"row_heading level0 row10\" >10</th>\n",
       "                        <td id=\"T_f5fbc852_8958_11ec_a6e4_a683e7b4a582row10_col0\" class=\"data row10 col0\" >Sampled Data</td>\n",
       "                        <td id=\"T_f5fbc852_8958_11ec_a6e4_a683e7b4a582row10_col1\" class=\"data row10 col1\" >(30400, 14)</td>\n",
       "            </tr>\n",
       "            <tr>\n",
       "                        <th id=\"T_f5fbc852_8958_11ec_a6e4_a683e7b4a582level0_row11\" class=\"row_heading level0 row11\" >11</th>\n",
       "                        <td id=\"T_f5fbc852_8958_11ec_a6e4_a683e7b4a582row11_col0\" class=\"data row11 col0\" >Transformed Train Set</td>\n",
       "                        <td id=\"T_f5fbc852_8958_11ec_a6e4_a683e7b4a582row11_col1\" class=\"data row11 col1\" >(21279, 44)</td>\n",
       "            </tr>\n",
       "            <tr>\n",
       "                        <th id=\"T_f5fbc852_8958_11ec_a6e4_a683e7b4a582level0_row12\" class=\"row_heading level0 row12\" >12</th>\n",
       "                        <td id=\"T_f5fbc852_8958_11ec_a6e4_a683e7b4a582row12_col0\" class=\"data row12 col0\" >Transformed Test Set</td>\n",
       "                        <td id=\"T_f5fbc852_8958_11ec_a6e4_a683e7b4a582row12_col1\" class=\"data row12 col1\" >(9121, 44)</td>\n",
       "            </tr>\n",
       "            <tr>\n",
       "                        <th id=\"T_f5fbc852_8958_11ec_a6e4_a683e7b4a582level0_row13\" class=\"row_heading level0 row13\" >13</th>\n",
       "                        <td id=\"T_f5fbc852_8958_11ec_a6e4_a683e7b4a582row13_col0\" class=\"data row13 col0\" >Numeric Imputer </td>\n",
       "                        <td id=\"T_f5fbc852_8958_11ec_a6e4_a683e7b4a582row13_col1\" class=\"data row13 col1\" >mean</td>\n",
       "            </tr>\n",
       "            <tr>\n",
       "                        <th id=\"T_f5fbc852_8958_11ec_a6e4_a683e7b4a582level0_row14\" class=\"row_heading level0 row14\" >14</th>\n",
       "                        <td id=\"T_f5fbc852_8958_11ec_a6e4_a683e7b4a582row14_col0\" class=\"data row14 col0\" >Categorical Imputer </td>\n",
       "                        <td id=\"T_f5fbc852_8958_11ec_a6e4_a683e7b4a582row14_col1\" class=\"data row14 col1\" >constant</td>\n",
       "            </tr>\n",
       "            <tr>\n",
       "                        <th id=\"T_f5fbc852_8958_11ec_a6e4_a683e7b4a582level0_row15\" class=\"row_heading level0 row15\" >15</th>\n",
       "                        <td id=\"T_f5fbc852_8958_11ec_a6e4_a683e7b4a582row15_col0\" class=\"data row15 col0\" >Normalize </td>\n",
       "                        <td id=\"T_f5fbc852_8958_11ec_a6e4_a683e7b4a582row15_col1\" class=\"data row15 col1\" >False</td>\n",
       "            </tr>\n",
       "            <tr>\n",
       "                        <th id=\"T_f5fbc852_8958_11ec_a6e4_a683e7b4a582level0_row16\" class=\"row_heading level0 row16\" >16</th>\n",
       "                        <td id=\"T_f5fbc852_8958_11ec_a6e4_a683e7b4a582row16_col0\" class=\"data row16 col0\" >Normalize Method </td>\n",
       "                        <td id=\"T_f5fbc852_8958_11ec_a6e4_a683e7b4a582row16_col1\" class=\"data row16 col1\" >None</td>\n",
       "            </tr>\n",
       "            <tr>\n",
       "                        <th id=\"T_f5fbc852_8958_11ec_a6e4_a683e7b4a582level0_row17\" class=\"row_heading level0 row17\" >17</th>\n",
       "                        <td id=\"T_f5fbc852_8958_11ec_a6e4_a683e7b4a582row17_col0\" class=\"data row17 col0\" >Transformation </td>\n",
       "                        <td id=\"T_f5fbc852_8958_11ec_a6e4_a683e7b4a582row17_col1\" class=\"data row17 col1\" >False</td>\n",
       "            </tr>\n",
       "            <tr>\n",
       "                        <th id=\"T_f5fbc852_8958_11ec_a6e4_a683e7b4a582level0_row18\" class=\"row_heading level0 row18\" >18</th>\n",
       "                        <td id=\"T_f5fbc852_8958_11ec_a6e4_a683e7b4a582row18_col0\" class=\"data row18 col0\" >Transformation Method </td>\n",
       "                        <td id=\"T_f5fbc852_8958_11ec_a6e4_a683e7b4a582row18_col1\" class=\"data row18 col1\" >None</td>\n",
       "            </tr>\n",
       "            <tr>\n",
       "                        <th id=\"T_f5fbc852_8958_11ec_a6e4_a683e7b4a582level0_row19\" class=\"row_heading level0 row19\" >19</th>\n",
       "                        <td id=\"T_f5fbc852_8958_11ec_a6e4_a683e7b4a582row19_col0\" class=\"data row19 col0\" >PCA </td>\n",
       "                        <td id=\"T_f5fbc852_8958_11ec_a6e4_a683e7b4a582row19_col1\" class=\"data row19 col1\" >False</td>\n",
       "            </tr>\n",
       "            <tr>\n",
       "                        <th id=\"T_f5fbc852_8958_11ec_a6e4_a683e7b4a582level0_row20\" class=\"row_heading level0 row20\" >20</th>\n",
       "                        <td id=\"T_f5fbc852_8958_11ec_a6e4_a683e7b4a582row20_col0\" class=\"data row20 col0\" >PCA Method </td>\n",
       "                        <td id=\"T_f5fbc852_8958_11ec_a6e4_a683e7b4a582row20_col1\" class=\"data row20 col1\" >None</td>\n",
       "            </tr>\n",
       "            <tr>\n",
       "                        <th id=\"T_f5fbc852_8958_11ec_a6e4_a683e7b4a582level0_row21\" class=\"row_heading level0 row21\" >21</th>\n",
       "                        <td id=\"T_f5fbc852_8958_11ec_a6e4_a683e7b4a582row21_col0\" class=\"data row21 col0\" >PCA Components </td>\n",
       "                        <td id=\"T_f5fbc852_8958_11ec_a6e4_a683e7b4a582row21_col1\" class=\"data row21 col1\" >None</td>\n",
       "            </tr>\n",
       "            <tr>\n",
       "                        <th id=\"T_f5fbc852_8958_11ec_a6e4_a683e7b4a582level0_row22\" class=\"row_heading level0 row22\" >22</th>\n",
       "                        <td id=\"T_f5fbc852_8958_11ec_a6e4_a683e7b4a582row22_col0\" class=\"data row22 col0\" >Ignore Low Variance </td>\n",
       "                        <td id=\"T_f5fbc852_8958_11ec_a6e4_a683e7b4a582row22_col1\" class=\"data row22 col1\" >False</td>\n",
       "            </tr>\n",
       "            <tr>\n",
       "                        <th id=\"T_f5fbc852_8958_11ec_a6e4_a683e7b4a582level0_row23\" class=\"row_heading level0 row23\" >23</th>\n",
       "                        <td id=\"T_f5fbc852_8958_11ec_a6e4_a683e7b4a582row23_col0\" class=\"data row23 col0\" >Combine Rare Levels </td>\n",
       "                        <td id=\"T_f5fbc852_8958_11ec_a6e4_a683e7b4a582row23_col1\" class=\"data row23 col1\" >False</td>\n",
       "            </tr>\n",
       "            <tr>\n",
       "                        <th id=\"T_f5fbc852_8958_11ec_a6e4_a683e7b4a582level0_row24\" class=\"row_heading level0 row24\" >24</th>\n",
       "                        <td id=\"T_f5fbc852_8958_11ec_a6e4_a683e7b4a582row24_col0\" class=\"data row24 col0\" >Rare Level Threshold </td>\n",
       "                        <td id=\"T_f5fbc852_8958_11ec_a6e4_a683e7b4a582row24_col1\" class=\"data row24 col1\" >None</td>\n",
       "            </tr>\n",
       "            <tr>\n",
       "                        <th id=\"T_f5fbc852_8958_11ec_a6e4_a683e7b4a582level0_row25\" class=\"row_heading level0 row25\" >25</th>\n",
       "                        <td id=\"T_f5fbc852_8958_11ec_a6e4_a683e7b4a582row25_col0\" class=\"data row25 col0\" >Numeric Binning </td>\n",
       "                        <td id=\"T_f5fbc852_8958_11ec_a6e4_a683e7b4a582row25_col1\" class=\"data row25 col1\" >False</td>\n",
       "            </tr>\n",
       "            <tr>\n",
       "                        <th id=\"T_f5fbc852_8958_11ec_a6e4_a683e7b4a582level0_row26\" class=\"row_heading level0 row26\" >26</th>\n",
       "                        <td id=\"T_f5fbc852_8958_11ec_a6e4_a683e7b4a582row26_col0\" class=\"data row26 col0\" >Remove Outliers </td>\n",
       "                        <td id=\"T_f5fbc852_8958_11ec_a6e4_a683e7b4a582row26_col1\" class=\"data row26 col1\" >False</td>\n",
       "            </tr>\n",
       "            <tr>\n",
       "                        <th id=\"T_f5fbc852_8958_11ec_a6e4_a683e7b4a582level0_row27\" class=\"row_heading level0 row27\" >27</th>\n",
       "                        <td id=\"T_f5fbc852_8958_11ec_a6e4_a683e7b4a582row27_col0\" class=\"data row27 col0\" >Outliers Threshold </td>\n",
       "                        <td id=\"T_f5fbc852_8958_11ec_a6e4_a683e7b4a582row27_col1\" class=\"data row27 col1\" >None</td>\n",
       "            </tr>\n",
       "            <tr>\n",
       "                        <th id=\"T_f5fbc852_8958_11ec_a6e4_a683e7b4a582level0_row28\" class=\"row_heading level0 row28\" >28</th>\n",
       "                        <td id=\"T_f5fbc852_8958_11ec_a6e4_a683e7b4a582row28_col0\" class=\"data row28 col0\" >Remove Multicollinearity </td>\n",
       "                        <td id=\"T_f5fbc852_8958_11ec_a6e4_a683e7b4a582row28_col1\" class=\"data row28 col1\" >False</td>\n",
       "            </tr>\n",
       "            <tr>\n",
       "                        <th id=\"T_f5fbc852_8958_11ec_a6e4_a683e7b4a582level0_row29\" class=\"row_heading level0 row29\" >29</th>\n",
       "                        <td id=\"T_f5fbc852_8958_11ec_a6e4_a683e7b4a582row29_col0\" class=\"data row29 col0\" >Multicollinearity Threshold </td>\n",
       "                        <td id=\"T_f5fbc852_8958_11ec_a6e4_a683e7b4a582row29_col1\" class=\"data row29 col1\" >None</td>\n",
       "            </tr>\n",
       "            <tr>\n",
       "                        <th id=\"T_f5fbc852_8958_11ec_a6e4_a683e7b4a582level0_row30\" class=\"row_heading level0 row30\" >30</th>\n",
       "                        <td id=\"T_f5fbc852_8958_11ec_a6e4_a683e7b4a582row30_col0\" class=\"data row30 col0\" >Clustering </td>\n",
       "                        <td id=\"T_f5fbc852_8958_11ec_a6e4_a683e7b4a582row30_col1\" class=\"data row30 col1\" >False</td>\n",
       "            </tr>\n",
       "            <tr>\n",
       "                        <th id=\"T_f5fbc852_8958_11ec_a6e4_a683e7b4a582level0_row31\" class=\"row_heading level0 row31\" >31</th>\n",
       "                        <td id=\"T_f5fbc852_8958_11ec_a6e4_a683e7b4a582row31_col0\" class=\"data row31 col0\" >Clustering Iteration </td>\n",
       "                        <td id=\"T_f5fbc852_8958_11ec_a6e4_a683e7b4a582row31_col1\" class=\"data row31 col1\" >None</td>\n",
       "            </tr>\n",
       "            <tr>\n",
       "                        <th id=\"T_f5fbc852_8958_11ec_a6e4_a683e7b4a582level0_row32\" class=\"row_heading level0 row32\" >32</th>\n",
       "                        <td id=\"T_f5fbc852_8958_11ec_a6e4_a683e7b4a582row32_col0\" class=\"data row32 col0\" >Polynomial Features </td>\n",
       "                        <td id=\"T_f5fbc852_8958_11ec_a6e4_a683e7b4a582row32_col1\" class=\"data row32 col1\" >False</td>\n",
       "            </tr>\n",
       "            <tr>\n",
       "                        <th id=\"T_f5fbc852_8958_11ec_a6e4_a683e7b4a582level0_row33\" class=\"row_heading level0 row33\" >33</th>\n",
       "                        <td id=\"T_f5fbc852_8958_11ec_a6e4_a683e7b4a582row33_col0\" class=\"data row33 col0\" >Polynomial Degree </td>\n",
       "                        <td id=\"T_f5fbc852_8958_11ec_a6e4_a683e7b4a582row33_col1\" class=\"data row33 col1\" >None</td>\n",
       "            </tr>\n",
       "            <tr>\n",
       "                        <th id=\"T_f5fbc852_8958_11ec_a6e4_a683e7b4a582level0_row34\" class=\"row_heading level0 row34\" >34</th>\n",
       "                        <td id=\"T_f5fbc852_8958_11ec_a6e4_a683e7b4a582row34_col0\" class=\"data row34 col0\" >Trignometry Features </td>\n",
       "                        <td id=\"T_f5fbc852_8958_11ec_a6e4_a683e7b4a582row34_col1\" class=\"data row34 col1\" >False</td>\n",
       "            </tr>\n",
       "            <tr>\n",
       "                        <th id=\"T_f5fbc852_8958_11ec_a6e4_a683e7b4a582level0_row35\" class=\"row_heading level0 row35\" >35</th>\n",
       "                        <td id=\"T_f5fbc852_8958_11ec_a6e4_a683e7b4a582row35_col0\" class=\"data row35 col0\" >Polynomial Threshold </td>\n",
       "                        <td id=\"T_f5fbc852_8958_11ec_a6e4_a683e7b4a582row35_col1\" class=\"data row35 col1\" >None</td>\n",
       "            </tr>\n",
       "            <tr>\n",
       "                        <th id=\"T_f5fbc852_8958_11ec_a6e4_a683e7b4a582level0_row36\" class=\"row_heading level0 row36\" >36</th>\n",
       "                        <td id=\"T_f5fbc852_8958_11ec_a6e4_a683e7b4a582row36_col0\" class=\"data row36 col0\" >Group Features </td>\n",
       "                        <td id=\"T_f5fbc852_8958_11ec_a6e4_a683e7b4a582row36_col1\" class=\"data row36 col1\" >False</td>\n",
       "            </tr>\n",
       "            <tr>\n",
       "                        <th id=\"T_f5fbc852_8958_11ec_a6e4_a683e7b4a582level0_row37\" class=\"row_heading level0 row37\" >37</th>\n",
       "                        <td id=\"T_f5fbc852_8958_11ec_a6e4_a683e7b4a582row37_col0\" class=\"data row37 col0\" >Feature Selection </td>\n",
       "                        <td id=\"T_f5fbc852_8958_11ec_a6e4_a683e7b4a582row37_col1\" class=\"data row37 col1\" >False</td>\n",
       "            </tr>\n",
       "            <tr>\n",
       "                        <th id=\"T_f5fbc852_8958_11ec_a6e4_a683e7b4a582level0_row38\" class=\"row_heading level0 row38\" >38</th>\n",
       "                        <td id=\"T_f5fbc852_8958_11ec_a6e4_a683e7b4a582row38_col0\" class=\"data row38 col0\" >Features Selection Threshold </td>\n",
       "                        <td id=\"T_f5fbc852_8958_11ec_a6e4_a683e7b4a582row38_col1\" class=\"data row38 col1\" >None</td>\n",
       "            </tr>\n",
       "            <tr>\n",
       "                        <th id=\"T_f5fbc852_8958_11ec_a6e4_a683e7b4a582level0_row39\" class=\"row_heading level0 row39\" >39</th>\n",
       "                        <td id=\"T_f5fbc852_8958_11ec_a6e4_a683e7b4a582row39_col0\" class=\"data row39 col0\" >Feature Interaction </td>\n",
       "                        <td id=\"T_f5fbc852_8958_11ec_a6e4_a683e7b4a582row39_col1\" class=\"data row39 col1\" >False</td>\n",
       "            </tr>\n",
       "            <tr>\n",
       "                        <th id=\"T_f5fbc852_8958_11ec_a6e4_a683e7b4a582level0_row40\" class=\"row_heading level0 row40\" >40</th>\n",
       "                        <td id=\"T_f5fbc852_8958_11ec_a6e4_a683e7b4a582row40_col0\" class=\"data row40 col0\" >Feature Ratio </td>\n",
       "                        <td id=\"T_f5fbc852_8958_11ec_a6e4_a683e7b4a582row40_col1\" class=\"data row40 col1\" >False</td>\n",
       "            </tr>\n",
       "            <tr>\n",
       "                        <th id=\"T_f5fbc852_8958_11ec_a6e4_a683e7b4a582level0_row41\" class=\"row_heading level0 row41\" >41</th>\n",
       "                        <td id=\"T_f5fbc852_8958_11ec_a6e4_a683e7b4a582row41_col0\" class=\"data row41 col0\" >Interaction Threshold </td>\n",
       "                        <td id=\"T_f5fbc852_8958_11ec_a6e4_a683e7b4a582row41_col1\" class=\"data row41 col1\" >None</td>\n",
       "            </tr>\n",
       "            <tr>\n",
       "                        <th id=\"T_f5fbc852_8958_11ec_a6e4_a683e7b4a582level0_row42\" class=\"row_heading level0 row42\" >42</th>\n",
       "                        <td id=\"T_f5fbc852_8958_11ec_a6e4_a683e7b4a582row42_col0\" class=\"data row42 col0\" >Fix Imbalance</td>\n",
       "                        <td id=\"T_f5fbc852_8958_11ec_a6e4_a683e7b4a582row42_col1\" class=\"data row42 col1\" >False</td>\n",
       "            </tr>\n",
       "            <tr>\n",
       "                        <th id=\"T_f5fbc852_8958_11ec_a6e4_a683e7b4a582level0_row43\" class=\"row_heading level0 row43\" >43</th>\n",
       "                        <td id=\"T_f5fbc852_8958_11ec_a6e4_a683e7b4a582row43_col0\" class=\"data row43 col0\" >Fix Imbalance Method</td>\n",
       "                        <td id=\"T_f5fbc852_8958_11ec_a6e4_a683e7b4a582row43_col1\" class=\"data row43 col1\" >SMOTE</td>\n",
       "            </tr>\n",
       "    </tbody></table>"
      ],
      "text/plain": [
       "<pandas.io.formats.style.Styler at 0x7f81f77ffe10>"
      ]
     },
     "metadata": {},
     "output_type": "display_data"
    }
   ],
   "source": [
    "from pycaret.classification import *\n",
    "exp_name = setup(data = data,  target = 'y',session_id=123)"
   ]
  },
  {
   "cell_type": "code",
   "execution_count": 21,
   "metadata": {},
   "outputs": [
    {
     "data": {
      "text/html": [
       "<style  type=\"text/css\" >\n",
       "    #T_7013e7fa_8959_11ec_a6e4_a683e7b4a582 th {\n",
       "          text-align: left;\n",
       "    }    #T_7013e7fa_8959_11ec_a6e4_a683e7b4a582row0_col0 {\n",
       "            text-align:  left;\n",
       "        }    #T_7013e7fa_8959_11ec_a6e4_a683e7b4a582row0_col1 {\n",
       "            background-color:  yellow;\n",
       "            text-align:  left;\n",
       "        }    #T_7013e7fa_8959_11ec_a6e4_a683e7b4a582row0_col2 {\n",
       "            : ;\n",
       "            text-align:  left;\n",
       "        }    #T_7013e7fa_8959_11ec_a6e4_a683e7b4a582row0_col3 {\n",
       "            : ;\n",
       "            text-align:  left;\n",
       "        }    #T_7013e7fa_8959_11ec_a6e4_a683e7b4a582row0_col4 {\n",
       "            : ;\n",
       "            text-align:  left;\n",
       "        }    #T_7013e7fa_8959_11ec_a6e4_a683e7b4a582row0_col5 {\n",
       "            : ;\n",
       "            text-align:  left;\n",
       "        }    #T_7013e7fa_8959_11ec_a6e4_a683e7b4a582row0_col6 {\n",
       "            : ;\n",
       "            text-align:  left;\n",
       "        }    #T_7013e7fa_8959_11ec_a6e4_a683e7b4a582row0_col7 {\n",
       "            : ;\n",
       "            text-align:  left;\n",
       "        }    #T_7013e7fa_8959_11ec_a6e4_a683e7b4a582row0_col8 {\n",
       "            background-color:  lightgrey;\n",
       "            text-align:  left;\n",
       "        }    #T_7013e7fa_8959_11ec_a6e4_a683e7b4a582row1_col0 {\n",
       "            text-align:  left;\n",
       "        }    #T_7013e7fa_8959_11ec_a6e4_a683e7b4a582row1_col1 {\n",
       "            background-color:  yellow;\n",
       "            text-align:  left;\n",
       "        }    #T_7013e7fa_8959_11ec_a6e4_a683e7b4a582row1_col2 {\n",
       "            : ;\n",
       "            text-align:  left;\n",
       "        }    #T_7013e7fa_8959_11ec_a6e4_a683e7b4a582row1_col3 {\n",
       "            : ;\n",
       "            text-align:  left;\n",
       "        }    #T_7013e7fa_8959_11ec_a6e4_a683e7b4a582row1_col4 {\n",
       "            : ;\n",
       "            text-align:  left;\n",
       "        }    #T_7013e7fa_8959_11ec_a6e4_a683e7b4a582row1_col5 {\n",
       "            : ;\n",
       "            text-align:  left;\n",
       "        }    #T_7013e7fa_8959_11ec_a6e4_a683e7b4a582row1_col6 {\n",
       "            : ;\n",
       "            text-align:  left;\n",
       "        }    #T_7013e7fa_8959_11ec_a6e4_a683e7b4a582row1_col7 {\n",
       "            background-color:  yellow;\n",
       "            text-align:  left;\n",
       "        }    #T_7013e7fa_8959_11ec_a6e4_a683e7b4a582row1_col8 {\n",
       "            background-color:  lightgrey;\n",
       "            text-align:  left;\n",
       "        }    #T_7013e7fa_8959_11ec_a6e4_a683e7b4a582row2_col0 {\n",
       "            text-align:  left;\n",
       "        }    #T_7013e7fa_8959_11ec_a6e4_a683e7b4a582row2_col1 {\n",
       "            : ;\n",
       "            text-align:  left;\n",
       "        }    #T_7013e7fa_8959_11ec_a6e4_a683e7b4a582row2_col2 {\n",
       "            background-color:  yellow;\n",
       "            text-align:  left;\n",
       "        }    #T_7013e7fa_8959_11ec_a6e4_a683e7b4a582row2_col3 {\n",
       "            : ;\n",
       "            text-align:  left;\n",
       "        }    #T_7013e7fa_8959_11ec_a6e4_a683e7b4a582row2_col4 {\n",
       "            : ;\n",
       "            text-align:  left;\n",
       "        }    #T_7013e7fa_8959_11ec_a6e4_a683e7b4a582row2_col5 {\n",
       "            : ;\n",
       "            text-align:  left;\n",
       "        }    #T_7013e7fa_8959_11ec_a6e4_a683e7b4a582row2_col6 {\n",
       "            : ;\n",
       "            text-align:  left;\n",
       "        }    #T_7013e7fa_8959_11ec_a6e4_a683e7b4a582row2_col7 {\n",
       "            : ;\n",
       "            text-align:  left;\n",
       "        }    #T_7013e7fa_8959_11ec_a6e4_a683e7b4a582row2_col8 {\n",
       "            background-color:  lightgrey;\n",
       "            text-align:  left;\n",
       "        }    #T_7013e7fa_8959_11ec_a6e4_a683e7b4a582row3_col0 {\n",
       "            text-align:  left;\n",
       "        }    #T_7013e7fa_8959_11ec_a6e4_a683e7b4a582row3_col1 {\n",
       "            : ;\n",
       "            text-align:  left;\n",
       "        }    #T_7013e7fa_8959_11ec_a6e4_a683e7b4a582row3_col2 {\n",
       "            : ;\n",
       "            text-align:  left;\n",
       "        }    #T_7013e7fa_8959_11ec_a6e4_a683e7b4a582row3_col3 {\n",
       "            : ;\n",
       "            text-align:  left;\n",
       "        }    #T_7013e7fa_8959_11ec_a6e4_a683e7b4a582row3_col4 {\n",
       "            : ;\n",
       "            text-align:  left;\n",
       "        }    #T_7013e7fa_8959_11ec_a6e4_a683e7b4a582row3_col5 {\n",
       "            : ;\n",
       "            text-align:  left;\n",
       "        }    #T_7013e7fa_8959_11ec_a6e4_a683e7b4a582row3_col6 {\n",
       "            : ;\n",
       "            text-align:  left;\n",
       "        }    #T_7013e7fa_8959_11ec_a6e4_a683e7b4a582row3_col7 {\n",
       "            : ;\n",
       "            text-align:  left;\n",
       "        }    #T_7013e7fa_8959_11ec_a6e4_a683e7b4a582row3_col8 {\n",
       "            background-color:  lightgrey;\n",
       "            text-align:  left;\n",
       "        }    #T_7013e7fa_8959_11ec_a6e4_a683e7b4a582row4_col0 {\n",
       "            text-align:  left;\n",
       "        }    #T_7013e7fa_8959_11ec_a6e4_a683e7b4a582row4_col1 {\n",
       "            : ;\n",
       "            text-align:  left;\n",
       "        }    #T_7013e7fa_8959_11ec_a6e4_a683e7b4a582row4_col2 {\n",
       "            : ;\n",
       "            text-align:  left;\n",
       "        }    #T_7013e7fa_8959_11ec_a6e4_a683e7b4a582row4_col3 {\n",
       "            : ;\n",
       "            text-align:  left;\n",
       "        }    #T_7013e7fa_8959_11ec_a6e4_a683e7b4a582row4_col4 {\n",
       "            : ;\n",
       "            text-align:  left;\n",
       "        }    #T_7013e7fa_8959_11ec_a6e4_a683e7b4a582row4_col5 {\n",
       "            background-color:  yellow;\n",
       "            text-align:  left;\n",
       "        }    #T_7013e7fa_8959_11ec_a6e4_a683e7b4a582row4_col6 {\n",
       "            background-color:  yellow;\n",
       "            text-align:  left;\n",
       "        }    #T_7013e7fa_8959_11ec_a6e4_a683e7b4a582row4_col7 {\n",
       "            : ;\n",
       "            text-align:  left;\n",
       "        }    #T_7013e7fa_8959_11ec_a6e4_a683e7b4a582row4_col8 {\n",
       "            background-color:  lightgrey;\n",
       "            text-align:  left;\n",
       "        }    #T_7013e7fa_8959_11ec_a6e4_a683e7b4a582row5_col0 {\n",
       "            text-align:  left;\n",
       "        }    #T_7013e7fa_8959_11ec_a6e4_a683e7b4a582row5_col1 {\n",
       "            : ;\n",
       "            text-align:  left;\n",
       "        }    #T_7013e7fa_8959_11ec_a6e4_a683e7b4a582row5_col2 {\n",
       "            : ;\n",
       "            text-align:  left;\n",
       "        }    #T_7013e7fa_8959_11ec_a6e4_a683e7b4a582row5_col3 {\n",
       "            : ;\n",
       "            text-align:  left;\n",
       "        }    #T_7013e7fa_8959_11ec_a6e4_a683e7b4a582row5_col4 {\n",
       "            background-color:  yellow;\n",
       "            text-align:  left;\n",
       "        }    #T_7013e7fa_8959_11ec_a6e4_a683e7b4a582row5_col5 {\n",
       "            : ;\n",
       "            text-align:  left;\n",
       "        }    #T_7013e7fa_8959_11ec_a6e4_a683e7b4a582row5_col6 {\n",
       "            : ;\n",
       "            text-align:  left;\n",
       "        }    #T_7013e7fa_8959_11ec_a6e4_a683e7b4a582row5_col7 {\n",
       "            : ;\n",
       "            text-align:  left;\n",
       "        }    #T_7013e7fa_8959_11ec_a6e4_a683e7b4a582row5_col8 {\n",
       "            background-color:  lightgrey;\n",
       "            text-align:  left;\n",
       "        }    #T_7013e7fa_8959_11ec_a6e4_a683e7b4a582row6_col0 {\n",
       "            text-align:  left;\n",
       "        }    #T_7013e7fa_8959_11ec_a6e4_a683e7b4a582row6_col1 {\n",
       "            : ;\n",
       "            text-align:  left;\n",
       "        }    #T_7013e7fa_8959_11ec_a6e4_a683e7b4a582row6_col2 {\n",
       "            : ;\n",
       "            text-align:  left;\n",
       "        }    #T_7013e7fa_8959_11ec_a6e4_a683e7b4a582row6_col3 {\n",
       "            : ;\n",
       "            text-align:  left;\n",
       "        }    #T_7013e7fa_8959_11ec_a6e4_a683e7b4a582row6_col4 {\n",
       "            : ;\n",
       "            text-align:  left;\n",
       "        }    #T_7013e7fa_8959_11ec_a6e4_a683e7b4a582row6_col5 {\n",
       "            : ;\n",
       "            text-align:  left;\n",
       "        }    #T_7013e7fa_8959_11ec_a6e4_a683e7b4a582row6_col6 {\n",
       "            : ;\n",
       "            text-align:  left;\n",
       "        }    #T_7013e7fa_8959_11ec_a6e4_a683e7b4a582row6_col7 {\n",
       "            : ;\n",
       "            text-align:  left;\n",
       "        }    #T_7013e7fa_8959_11ec_a6e4_a683e7b4a582row6_col8 {\n",
       "            background-color:  lightgrey;\n",
       "            text-align:  left;\n",
       "        }    #T_7013e7fa_8959_11ec_a6e4_a683e7b4a582row7_col0 {\n",
       "            text-align:  left;\n",
       "        }    #T_7013e7fa_8959_11ec_a6e4_a683e7b4a582row7_col1 {\n",
       "            : ;\n",
       "            text-align:  left;\n",
       "        }    #T_7013e7fa_8959_11ec_a6e4_a683e7b4a582row7_col2 {\n",
       "            : ;\n",
       "            text-align:  left;\n",
       "        }    #T_7013e7fa_8959_11ec_a6e4_a683e7b4a582row7_col3 {\n",
       "            : ;\n",
       "            text-align:  left;\n",
       "        }    #T_7013e7fa_8959_11ec_a6e4_a683e7b4a582row7_col4 {\n",
       "            : ;\n",
       "            text-align:  left;\n",
       "        }    #T_7013e7fa_8959_11ec_a6e4_a683e7b4a582row7_col5 {\n",
       "            : ;\n",
       "            text-align:  left;\n",
       "        }    #T_7013e7fa_8959_11ec_a6e4_a683e7b4a582row7_col6 {\n",
       "            : ;\n",
       "            text-align:  left;\n",
       "        }    #T_7013e7fa_8959_11ec_a6e4_a683e7b4a582row7_col7 {\n",
       "            : ;\n",
       "            text-align:  left;\n",
       "        }    #T_7013e7fa_8959_11ec_a6e4_a683e7b4a582row7_col8 {\n",
       "            background-color:  lightgrey;\n",
       "            text-align:  left;\n",
       "        }    #T_7013e7fa_8959_11ec_a6e4_a683e7b4a582row8_col0 {\n",
       "            text-align:  left;\n",
       "        }    #T_7013e7fa_8959_11ec_a6e4_a683e7b4a582row8_col1 {\n",
       "            : ;\n",
       "            text-align:  left;\n",
       "        }    #T_7013e7fa_8959_11ec_a6e4_a683e7b4a582row8_col2 {\n",
       "            : ;\n",
       "            text-align:  left;\n",
       "        }    #T_7013e7fa_8959_11ec_a6e4_a683e7b4a582row8_col3 {\n",
       "            : ;\n",
       "            text-align:  left;\n",
       "        }    #T_7013e7fa_8959_11ec_a6e4_a683e7b4a582row8_col4 {\n",
       "            : ;\n",
       "            text-align:  left;\n",
       "        }    #T_7013e7fa_8959_11ec_a6e4_a683e7b4a582row8_col5 {\n",
       "            : ;\n",
       "            text-align:  left;\n",
       "        }    #T_7013e7fa_8959_11ec_a6e4_a683e7b4a582row8_col6 {\n",
       "            : ;\n",
       "            text-align:  left;\n",
       "        }    #T_7013e7fa_8959_11ec_a6e4_a683e7b4a582row8_col7 {\n",
       "            : ;\n",
       "            text-align:  left;\n",
       "        }    #T_7013e7fa_8959_11ec_a6e4_a683e7b4a582row8_col8 {\n",
       "            background-color:  lightgrey;\n",
       "            text-align:  left;\n",
       "        }    #T_7013e7fa_8959_11ec_a6e4_a683e7b4a582row9_col0 {\n",
       "            text-align:  left;\n",
       "        }    #T_7013e7fa_8959_11ec_a6e4_a683e7b4a582row9_col1 {\n",
       "            : ;\n",
       "            text-align:  left;\n",
       "        }    #T_7013e7fa_8959_11ec_a6e4_a683e7b4a582row9_col2 {\n",
       "            : ;\n",
       "            text-align:  left;\n",
       "        }    #T_7013e7fa_8959_11ec_a6e4_a683e7b4a582row9_col3 {\n",
       "            : ;\n",
       "            text-align:  left;\n",
       "        }    #T_7013e7fa_8959_11ec_a6e4_a683e7b4a582row9_col4 {\n",
       "            : ;\n",
       "            text-align:  left;\n",
       "        }    #T_7013e7fa_8959_11ec_a6e4_a683e7b4a582row9_col5 {\n",
       "            : ;\n",
       "            text-align:  left;\n",
       "        }    #T_7013e7fa_8959_11ec_a6e4_a683e7b4a582row9_col6 {\n",
       "            : ;\n",
       "            text-align:  left;\n",
       "        }    #T_7013e7fa_8959_11ec_a6e4_a683e7b4a582row9_col7 {\n",
       "            : ;\n",
       "            text-align:  left;\n",
       "        }    #T_7013e7fa_8959_11ec_a6e4_a683e7b4a582row9_col8 {\n",
       "            background-color:  lightgrey;\n",
       "            text-align:  left;\n",
       "        }    #T_7013e7fa_8959_11ec_a6e4_a683e7b4a582row10_col0 {\n",
       "            text-align:  left;\n",
       "        }    #T_7013e7fa_8959_11ec_a6e4_a683e7b4a582row10_col1 {\n",
       "            : ;\n",
       "            text-align:  left;\n",
       "        }    #T_7013e7fa_8959_11ec_a6e4_a683e7b4a582row10_col2 {\n",
       "            : ;\n",
       "            text-align:  left;\n",
       "        }    #T_7013e7fa_8959_11ec_a6e4_a683e7b4a582row10_col3 {\n",
       "            : ;\n",
       "            text-align:  left;\n",
       "        }    #T_7013e7fa_8959_11ec_a6e4_a683e7b4a582row10_col4 {\n",
       "            : ;\n",
       "            text-align:  left;\n",
       "        }    #T_7013e7fa_8959_11ec_a6e4_a683e7b4a582row10_col5 {\n",
       "            : ;\n",
       "            text-align:  left;\n",
       "        }    #T_7013e7fa_8959_11ec_a6e4_a683e7b4a582row10_col6 {\n",
       "            : ;\n",
       "            text-align:  left;\n",
       "        }    #T_7013e7fa_8959_11ec_a6e4_a683e7b4a582row10_col7 {\n",
       "            : ;\n",
       "            text-align:  left;\n",
       "        }    #T_7013e7fa_8959_11ec_a6e4_a683e7b4a582row10_col8 {\n",
       "            background-color:  lightgrey;\n",
       "            text-align:  left;\n",
       "        }    #T_7013e7fa_8959_11ec_a6e4_a683e7b4a582row11_col0 {\n",
       "            text-align:  left;\n",
       "        }    #T_7013e7fa_8959_11ec_a6e4_a683e7b4a582row11_col1 {\n",
       "            : ;\n",
       "            text-align:  left;\n",
       "        }    #T_7013e7fa_8959_11ec_a6e4_a683e7b4a582row11_col2 {\n",
       "            : ;\n",
       "            text-align:  left;\n",
       "        }    #T_7013e7fa_8959_11ec_a6e4_a683e7b4a582row11_col3 {\n",
       "            : ;\n",
       "            text-align:  left;\n",
       "        }    #T_7013e7fa_8959_11ec_a6e4_a683e7b4a582row11_col4 {\n",
       "            : ;\n",
       "            text-align:  left;\n",
       "        }    #T_7013e7fa_8959_11ec_a6e4_a683e7b4a582row11_col5 {\n",
       "            : ;\n",
       "            text-align:  left;\n",
       "        }    #T_7013e7fa_8959_11ec_a6e4_a683e7b4a582row11_col6 {\n",
       "            : ;\n",
       "            text-align:  left;\n",
       "        }    #T_7013e7fa_8959_11ec_a6e4_a683e7b4a582row11_col7 {\n",
       "            : ;\n",
       "            text-align:  left;\n",
       "        }    #T_7013e7fa_8959_11ec_a6e4_a683e7b4a582row11_col8 {\n",
       "            background-color:  lightgrey;\n",
       "            text-align:  left;\n",
       "        }    #T_7013e7fa_8959_11ec_a6e4_a683e7b4a582row12_col0 {\n",
       "            text-align:  left;\n",
       "        }    #T_7013e7fa_8959_11ec_a6e4_a683e7b4a582row12_col1 {\n",
       "            : ;\n",
       "            text-align:  left;\n",
       "        }    #T_7013e7fa_8959_11ec_a6e4_a683e7b4a582row12_col2 {\n",
       "            : ;\n",
       "            text-align:  left;\n",
       "        }    #T_7013e7fa_8959_11ec_a6e4_a683e7b4a582row12_col3 {\n",
       "            : ;\n",
       "            text-align:  left;\n",
       "        }    #T_7013e7fa_8959_11ec_a6e4_a683e7b4a582row12_col4 {\n",
       "            : ;\n",
       "            text-align:  left;\n",
       "        }    #T_7013e7fa_8959_11ec_a6e4_a683e7b4a582row12_col5 {\n",
       "            : ;\n",
       "            text-align:  left;\n",
       "        }    #T_7013e7fa_8959_11ec_a6e4_a683e7b4a582row12_col6 {\n",
       "            : ;\n",
       "            text-align:  left;\n",
       "        }    #T_7013e7fa_8959_11ec_a6e4_a683e7b4a582row12_col7 {\n",
       "            : ;\n",
       "            text-align:  left;\n",
       "        }    #T_7013e7fa_8959_11ec_a6e4_a683e7b4a582row12_col8 {\n",
       "            background-color:  lightgrey;\n",
       "            text-align:  left;\n",
       "        }    #T_7013e7fa_8959_11ec_a6e4_a683e7b4a582row13_col0 {\n",
       "            text-align:  left;\n",
       "        }    #T_7013e7fa_8959_11ec_a6e4_a683e7b4a582row13_col1 {\n",
       "            : ;\n",
       "            text-align:  left;\n",
       "        }    #T_7013e7fa_8959_11ec_a6e4_a683e7b4a582row13_col2 {\n",
       "            : ;\n",
       "            text-align:  left;\n",
       "        }    #T_7013e7fa_8959_11ec_a6e4_a683e7b4a582row13_col3 {\n",
       "            background-color:  yellow;\n",
       "            text-align:  left;\n",
       "        }    #T_7013e7fa_8959_11ec_a6e4_a683e7b4a582row13_col4 {\n",
       "            : ;\n",
       "            text-align:  left;\n",
       "        }    #T_7013e7fa_8959_11ec_a6e4_a683e7b4a582row13_col5 {\n",
       "            : ;\n",
       "            text-align:  left;\n",
       "        }    #T_7013e7fa_8959_11ec_a6e4_a683e7b4a582row13_col6 {\n",
       "            : ;\n",
       "            text-align:  left;\n",
       "        }    #T_7013e7fa_8959_11ec_a6e4_a683e7b4a582row13_col7 {\n",
       "            : ;\n",
       "            text-align:  left;\n",
       "        }    #T_7013e7fa_8959_11ec_a6e4_a683e7b4a582row13_col8 {\n",
       "            background-color:  lightgrey;\n",
       "            text-align:  left;\n",
       "        }    #T_7013e7fa_8959_11ec_a6e4_a683e7b4a582row14_col0 {\n",
       "            text-align:  left;\n",
       "        }    #T_7013e7fa_8959_11ec_a6e4_a683e7b4a582row14_col1 {\n",
       "            : ;\n",
       "            text-align:  left;\n",
       "        }    #T_7013e7fa_8959_11ec_a6e4_a683e7b4a582row14_col2 {\n",
       "            : ;\n",
       "            text-align:  left;\n",
       "        }    #T_7013e7fa_8959_11ec_a6e4_a683e7b4a582row14_col3 {\n",
       "            : ;\n",
       "            text-align:  left;\n",
       "        }    #T_7013e7fa_8959_11ec_a6e4_a683e7b4a582row14_col4 {\n",
       "            : ;\n",
       "            text-align:  left;\n",
       "        }    #T_7013e7fa_8959_11ec_a6e4_a683e7b4a582row14_col5 {\n",
       "            : ;\n",
       "            text-align:  left;\n",
       "        }    #T_7013e7fa_8959_11ec_a6e4_a683e7b4a582row14_col6 {\n",
       "            : ;\n",
       "            text-align:  left;\n",
       "        }    #T_7013e7fa_8959_11ec_a6e4_a683e7b4a582row14_col7 {\n",
       "            : ;\n",
       "            text-align:  left;\n",
       "        }    #T_7013e7fa_8959_11ec_a6e4_a683e7b4a582row14_col8 {\n",
       "            background-color:  lightgrey;\n",
       "            text-align:  left;\n",
       "        }</style><table id=\"T_7013e7fa_8959_11ec_a6e4_a683e7b4a582\" ><thead>    <tr>        <th class=\"blank level0\" ></th>        <th class=\"col_heading level0 col0\" >Model</th>        <th class=\"col_heading level0 col1\" >Accuracy</th>        <th class=\"col_heading level0 col2\" >AUC</th>        <th class=\"col_heading level0 col3\" >Recall</th>        <th class=\"col_heading level0 col4\" >Prec.</th>        <th class=\"col_heading level0 col5\" >F1</th>        <th class=\"col_heading level0 col6\" >Kappa</th>        <th class=\"col_heading level0 col7\" >MCC</th>        <th class=\"col_heading level0 col8\" >TT (Sec)</th>    </tr></thead><tbody>\n",
       "                <tr>\n",
       "                        <th id=\"T_7013e7fa_8959_11ec_a6e4_a683e7b4a582level0_row0\" class=\"row_heading level0 row0\" >0</th>\n",
       "                        <td id=\"T_7013e7fa_8959_11ec_a6e4_a683e7b4a582row0_col0\" class=\"data row0 col0\" >Gradient Boosting Classifier</td>\n",
       "                        <td id=\"T_7013e7fa_8959_11ec_a6e4_a683e7b4a582row0_col1\" class=\"data row0 col1\" >0.9372</td>\n",
       "                        <td id=\"T_7013e7fa_8959_11ec_a6e4_a683e7b4a582row0_col2\" class=\"data row0 col2\" >0.9427</td>\n",
       "                        <td id=\"T_7013e7fa_8959_11ec_a6e4_a683e7b4a582row0_col3\" class=\"data row0 col3\" >0.3644</td>\n",
       "                        <td id=\"T_7013e7fa_8959_11ec_a6e4_a683e7b4a582row0_col4\" class=\"data row0 col4\" >0.6102</td>\n",
       "                        <td id=\"T_7013e7fa_8959_11ec_a6e4_a683e7b4a582row0_col5\" class=\"data row0 col5\" >0.4554</td>\n",
       "                        <td id=\"T_7013e7fa_8959_11ec_a6e4_a683e7b4a582row0_col6\" class=\"data row0 col6\" >0.4244</td>\n",
       "                        <td id=\"T_7013e7fa_8959_11ec_a6e4_a683e7b4a582row0_col7\" class=\"data row0 col7\" >0.4408</td>\n",
       "                        <td id=\"T_7013e7fa_8959_11ec_a6e4_a683e7b4a582row0_col8\" class=\"data row0 col8\" >2.0865</td>\n",
       "            </tr>\n",
       "            <tr>\n",
       "                        <th id=\"T_7013e7fa_8959_11ec_a6e4_a683e7b4a582level0_row1\" class=\"row_heading level0 row1\" >1</th>\n",
       "                        <td id=\"T_7013e7fa_8959_11ec_a6e4_a683e7b4a582row1_col0\" class=\"data row1 col0\" >Light Gradient Boosting Machine</td>\n",
       "                        <td id=\"T_7013e7fa_8959_11ec_a6e4_a683e7b4a582row1_col1\" class=\"data row1 col1\" >0.9372</td>\n",
       "                        <td id=\"T_7013e7fa_8959_11ec_a6e4_a683e7b4a582row1_col2\" class=\"data row1 col2\" >0.9464</td>\n",
       "                        <td id=\"T_7013e7fa_8959_11ec_a6e4_a683e7b4a582row1_col3\" class=\"data row1 col3\" >0.4021</td>\n",
       "                        <td id=\"T_7013e7fa_8959_11ec_a6e4_a683e7b4a582row1_col4\" class=\"data row1 col4\" >0.5985</td>\n",
       "                        <td id=\"T_7013e7fa_8959_11ec_a6e4_a683e7b4a582row1_col5\" class=\"data row1 col5\" >0.4799</td>\n",
       "                        <td id=\"T_7013e7fa_8959_11ec_a6e4_a683e7b4a582row1_col6\" class=\"data row1 col6\" >0.4479</td>\n",
       "                        <td id=\"T_7013e7fa_8959_11ec_a6e4_a683e7b4a582row1_col7\" class=\"data row1 col7\" >0.4585</td>\n",
       "                        <td id=\"T_7013e7fa_8959_11ec_a6e4_a683e7b4a582row1_col8\" class=\"data row1 col8\" >0.1941</td>\n",
       "            </tr>\n",
       "            <tr>\n",
       "                        <th id=\"T_7013e7fa_8959_11ec_a6e4_a683e7b4a582level0_row2\" class=\"row_heading level0 row2\" >2</th>\n",
       "                        <td id=\"T_7013e7fa_8959_11ec_a6e4_a683e7b4a582row2_col0\" class=\"data row2 col0\" >CatBoost Classifier</td>\n",
       "                        <td id=\"T_7013e7fa_8959_11ec_a6e4_a683e7b4a582row2_col1\" class=\"data row2 col1\" >0.9371</td>\n",
       "                        <td id=\"T_7013e7fa_8959_11ec_a6e4_a683e7b4a582row2_col2\" class=\"data row2 col2\" >0.9483</td>\n",
       "                        <td id=\"T_7013e7fa_8959_11ec_a6e4_a683e7b4a582row2_col3\" class=\"data row2 col3\" >0.3943</td>\n",
       "                        <td id=\"T_7013e7fa_8959_11ec_a6e4_a683e7b4a582row2_col4\" class=\"data row2 col4\" >0.5975</td>\n",
       "                        <td id=\"T_7013e7fa_8959_11ec_a6e4_a683e7b4a582row2_col5\" class=\"data row2 col5\" >0.4746</td>\n",
       "                        <td id=\"T_7013e7fa_8959_11ec_a6e4_a683e7b4a582row2_col6\" class=\"data row2 col6\" >0.4427</td>\n",
       "                        <td id=\"T_7013e7fa_8959_11ec_a6e4_a683e7b4a582row2_col7\" class=\"data row2 col7\" >0.4537</td>\n",
       "                        <td id=\"T_7013e7fa_8959_11ec_a6e4_a683e7b4a582row2_col8\" class=\"data row2 col8\" >8.3868</td>\n",
       "            </tr>\n",
       "            <tr>\n",
       "                        <th id=\"T_7013e7fa_8959_11ec_a6e4_a683e7b4a582level0_row3\" class=\"row_heading level0 row3\" >3</th>\n",
       "                        <td id=\"T_7013e7fa_8959_11ec_a6e4_a683e7b4a582row3_col0\" class=\"data row3 col0\" >Extreme Gradient Boosting</td>\n",
       "                        <td id=\"T_7013e7fa_8959_11ec_a6e4_a683e7b4a582row3_col1\" class=\"data row3 col1\" >0.9354</td>\n",
       "                        <td id=\"T_7013e7fa_8959_11ec_a6e4_a683e7b4a582row3_col2\" class=\"data row3 col2\" >0.9407</td>\n",
       "                        <td id=\"T_7013e7fa_8959_11ec_a6e4_a683e7b4a582row3_col3\" class=\"data row3 col3\" >0.4138</td>\n",
       "                        <td id=\"T_7013e7fa_8959_11ec_a6e4_a683e7b4a582row3_col4\" class=\"data row3 col4\" >0.5729</td>\n",
       "                        <td id=\"T_7013e7fa_8959_11ec_a6e4_a683e7b4a582row3_col5\" class=\"data row3 col5\" >0.4803</td>\n",
       "                        <td id=\"T_7013e7fa_8959_11ec_a6e4_a683e7b4a582row3_col6\" class=\"data row3 col6\" >0.4469</td>\n",
       "                        <td id=\"T_7013e7fa_8959_11ec_a6e4_a683e7b4a582row3_col7\" class=\"data row3 col7\" >0.4537</td>\n",
       "                        <td id=\"T_7013e7fa_8959_11ec_a6e4_a683e7b4a582row3_col8\" class=\"data row3 col8\" >4.1883</td>\n",
       "            </tr>\n",
       "            <tr>\n",
       "                        <th id=\"T_7013e7fa_8959_11ec_a6e4_a683e7b4a582level0_row4\" class=\"row_heading level0 row4\" >4</th>\n",
       "                        <td id=\"T_7013e7fa_8959_11ec_a6e4_a683e7b4a582row4_col0\" class=\"data row4 col0\" >Linear Discriminant Analysis</td>\n",
       "                        <td id=\"T_7013e7fa_8959_11ec_a6e4_a683e7b4a582row4_col1\" class=\"data row4 col1\" >0.9339</td>\n",
       "                        <td id=\"T_7013e7fa_8959_11ec_a6e4_a683e7b4a582row4_col2\" class=\"data row4 col2\" >0.9291</td>\n",
       "                        <td id=\"T_7013e7fa_8959_11ec_a6e4_a683e7b4a582row4_col3\" class=\"data row4 col3\" >0.4339</td>\n",
       "                        <td id=\"T_7013e7fa_8959_11ec_a6e4_a683e7b4a582row4_col4\" class=\"data row4 col4\" >0.5537</td>\n",
       "                        <td id=\"T_7013e7fa_8959_11ec_a6e4_a683e7b4a582row4_col5\" class=\"data row4 col5\" >0.4858</td>\n",
       "                        <td id=\"T_7013e7fa_8959_11ec_a6e4_a683e7b4a582row4_col6\" class=\"data row4 col6\" >0.4511</td>\n",
       "                        <td id=\"T_7013e7fa_8959_11ec_a6e4_a683e7b4a582row4_col7\" class=\"data row4 col7\" >0.4553</td>\n",
       "                        <td id=\"T_7013e7fa_8959_11ec_a6e4_a683e7b4a582row4_col8\" class=\"data row4 col8\" >0.1082</td>\n",
       "            </tr>\n",
       "            <tr>\n",
       "                        <th id=\"T_7013e7fa_8959_11ec_a6e4_a683e7b4a582level0_row5\" class=\"row_heading level0 row5\" >5</th>\n",
       "                        <td id=\"T_7013e7fa_8959_11ec_a6e4_a683e7b4a582row5_col0\" class=\"data row5 col0\" >Ridge Classifier</td>\n",
       "                        <td id=\"T_7013e7fa_8959_11ec_a6e4_a683e7b4a582row5_col1\" class=\"data row5 col1\" >0.9324</td>\n",
       "                        <td id=\"T_7013e7fa_8959_11ec_a6e4_a683e7b4a582row5_col2\" class=\"data row5 col2\" >0.0000</td>\n",
       "                        <td id=\"T_7013e7fa_8959_11ec_a6e4_a683e7b4a582row5_col3\" class=\"data row5 col3\" >0.1509</td>\n",
       "                        <td id=\"T_7013e7fa_8959_11ec_a6e4_a683e7b4a582row5_col4\" class=\"data row5 col4\" >0.6384</td>\n",
       "                        <td id=\"T_7013e7fa_8959_11ec_a6e4_a683e7b4a582row5_col5\" class=\"data row5 col5\" >0.2428</td>\n",
       "                        <td id=\"T_7013e7fa_8959_11ec_a6e4_a683e7b4a582row5_col6\" class=\"data row5 col6\" >0.2214</td>\n",
       "                        <td id=\"T_7013e7fa_8959_11ec_a6e4_a683e7b4a582row5_col7\" class=\"data row5 col7\" >0.2869</td>\n",
       "                        <td id=\"T_7013e7fa_8959_11ec_a6e4_a683e7b4a582row5_col8\" class=\"data row5 col8\" >0.0151</td>\n",
       "            </tr>\n",
       "            <tr>\n",
       "                        <th id=\"T_7013e7fa_8959_11ec_a6e4_a683e7b4a582level0_row6\" class=\"row_heading level0 row6\" >6</th>\n",
       "                        <td id=\"T_7013e7fa_8959_11ec_a6e4_a683e7b4a582row6_col0\" class=\"data row6 col0\" >Logistic Regression</td>\n",
       "                        <td id=\"T_7013e7fa_8959_11ec_a6e4_a683e7b4a582row6_col1\" class=\"data row6 col1\" >0.9322</td>\n",
       "                        <td id=\"T_7013e7fa_8959_11ec_a6e4_a683e7b4a582row6_col2\" class=\"data row6 col2\" >0.8897</td>\n",
       "                        <td id=\"T_7013e7fa_8959_11ec_a6e4_a683e7b4a582row6_col3\" class=\"data row6 col3\" >0.2225</td>\n",
       "                        <td id=\"T_7013e7fa_8959_11ec_a6e4_a683e7b4a582row6_col4\" class=\"data row6 col4\" >0.5829</td>\n",
       "                        <td id=\"T_7013e7fa_8959_11ec_a6e4_a683e7b4a582row6_col5\" class=\"data row6 col5\" >0.3205</td>\n",
       "                        <td id=\"T_7013e7fa_8959_11ec_a6e4_a683e7b4a582row6_col6\" class=\"data row6 col6\" >0.2924</td>\n",
       "                        <td id=\"T_7013e7fa_8959_11ec_a6e4_a683e7b4a582row6_col7\" class=\"data row6 col7\" >0.3311</td>\n",
       "                        <td id=\"T_7013e7fa_8959_11ec_a6e4_a683e7b4a582row6_col8\" class=\"data row6 col8\" >0.1532</td>\n",
       "            </tr>\n",
       "            <tr>\n",
       "                        <th id=\"T_7013e7fa_8959_11ec_a6e4_a683e7b4a582level0_row7\" class=\"row_heading level0 row7\" >7</th>\n",
       "                        <td id=\"T_7013e7fa_8959_11ec_a6e4_a683e7b4a582row7_col0\" class=\"data row7 col0\" >Extra Trees Classifier</td>\n",
       "                        <td id=\"T_7013e7fa_8959_11ec_a6e4_a683e7b4a582row7_col1\" class=\"data row7 col1\" >0.9317</td>\n",
       "                        <td id=\"T_7013e7fa_8959_11ec_a6e4_a683e7b4a582row7_col2\" class=\"data row7 col2\" >0.9172</td>\n",
       "                        <td id=\"T_7013e7fa_8959_11ec_a6e4_a683e7b4a582row7_col3\" class=\"data row7 col3\" >0.2193</td>\n",
       "                        <td id=\"T_7013e7fa_8959_11ec_a6e4_a683e7b4a582row7_col4\" class=\"data row7 col4\" >0.5711</td>\n",
       "                        <td id=\"T_7013e7fa_8959_11ec_a6e4_a683e7b4a582row7_col5\" class=\"data row7 col5\" >0.3162</td>\n",
       "                        <td id=\"T_7013e7fa_8959_11ec_a6e4_a683e7b4a582row7_col6\" class=\"data row7 col6\" >0.2877</td>\n",
       "                        <td id=\"T_7013e7fa_8959_11ec_a6e4_a683e7b4a582row7_col7\" class=\"data row7 col7\" >0.3250</td>\n",
       "                        <td id=\"T_7013e7fa_8959_11ec_a6e4_a683e7b4a582row7_col8\" class=\"data row7 col8\" >0.4589</td>\n",
       "            </tr>\n",
       "            <tr>\n",
       "                        <th id=\"T_7013e7fa_8959_11ec_a6e4_a683e7b4a582level0_row8\" class=\"row_heading level0 row8\" >8</th>\n",
       "                        <td id=\"T_7013e7fa_8959_11ec_a6e4_a683e7b4a582row8_col0\" class=\"data row8 col0\" >Random Forest Classifier</td>\n",
       "                        <td id=\"T_7013e7fa_8959_11ec_a6e4_a683e7b4a582row8_col1\" class=\"data row8 col1\" >0.9315</td>\n",
       "                        <td id=\"T_7013e7fa_8959_11ec_a6e4_a683e7b4a582row8_col2\" class=\"data row8 col2\" >0.8949</td>\n",
       "                        <td id=\"T_7013e7fa_8959_11ec_a6e4_a683e7b4a582row8_col3\" class=\"data row8 col3\" >0.2408</td>\n",
       "                        <td id=\"T_7013e7fa_8959_11ec_a6e4_a683e7b4a582row8_col4\" class=\"data row8 col4\" >0.5616</td>\n",
       "                        <td id=\"T_7013e7fa_8959_11ec_a6e4_a683e7b4a582row8_col5\" class=\"data row8 col5\" >0.3365</td>\n",
       "                        <td id=\"T_7013e7fa_8959_11ec_a6e4_a683e7b4a582row8_col6\" class=\"data row8 col6\" >0.3065</td>\n",
       "                        <td id=\"T_7013e7fa_8959_11ec_a6e4_a683e7b4a582row8_col7\" class=\"data row8 col7\" >0.3376</td>\n",
       "                        <td id=\"T_7013e7fa_8959_11ec_a6e4_a683e7b4a582row8_col8\" class=\"data row8 col8\" >0.1150</td>\n",
       "            </tr>\n",
       "            <tr>\n",
       "                        <th id=\"T_7013e7fa_8959_11ec_a6e4_a683e7b4a582level0_row9\" class=\"row_heading level0 row9\" >9</th>\n",
       "                        <td id=\"T_7013e7fa_8959_11ec_a6e4_a683e7b4a582row9_col0\" class=\"data row9 col0\" >Ada Boost Classifier</td>\n",
       "                        <td id=\"T_7013e7fa_8959_11ec_a6e4_a683e7b4a582row9_col1\" class=\"data row9 col1\" >0.9304</td>\n",
       "                        <td id=\"T_7013e7fa_8959_11ec_a6e4_a683e7b4a582row9_col2\" class=\"data row9 col2\" >0.9285</td>\n",
       "                        <td id=\"T_7013e7fa_8959_11ec_a6e4_a683e7b4a582row9_col3\" class=\"data row9 col3\" >0.3207</td>\n",
       "                        <td id=\"T_7013e7fa_8959_11ec_a6e4_a683e7b4a582row9_col4\" class=\"data row9 col4\" >0.5306</td>\n",
       "                        <td id=\"T_7013e7fa_8959_11ec_a6e4_a683e7b4a582row9_col5\" class=\"data row9 col5\" >0.3994</td>\n",
       "                        <td id=\"T_7013e7fa_8959_11ec_a6e4_a683e7b4a582row9_col6\" class=\"data row9 col6\" >0.3648</td>\n",
       "                        <td id=\"T_7013e7fa_8959_11ec_a6e4_a683e7b4a582row9_col7\" class=\"data row9 col7\" >0.3781</td>\n",
       "                        <td id=\"T_7013e7fa_8959_11ec_a6e4_a683e7b4a582row9_col8\" class=\"data row9 col8\" >0.5957</td>\n",
       "            </tr>\n",
       "            <tr>\n",
       "                        <th id=\"T_7013e7fa_8959_11ec_a6e4_a683e7b4a582level0_row10\" class=\"row_heading level0 row10\" >10</th>\n",
       "                        <td id=\"T_7013e7fa_8959_11ec_a6e4_a683e7b4a582row10_col0\" class=\"data row10 col0\" >K Neighbors Classifier</td>\n",
       "                        <td id=\"T_7013e7fa_8959_11ec_a6e4_a683e7b4a582row10_col1\" class=\"data row10 col1\" >0.9244</td>\n",
       "                        <td id=\"T_7013e7fa_8959_11ec_a6e4_a683e7b4a582row10_col2\" class=\"data row10 col2\" >0.7704</td>\n",
       "                        <td id=\"T_7013e7fa_8959_11ec_a6e4_a683e7b4a582row10_col3\" class=\"data row10 col3\" >0.2453</td>\n",
       "                        <td id=\"T_7013e7fa_8959_11ec_a6e4_a683e7b4a582row10_col4\" class=\"data row10 col4\" >0.4562</td>\n",
       "                        <td id=\"T_7013e7fa_8959_11ec_a6e4_a683e7b4a582row10_col5\" class=\"data row10 col5\" >0.3175</td>\n",
       "                        <td id=\"T_7013e7fa_8959_11ec_a6e4_a683e7b4a582row10_col6\" class=\"data row10 col6\" >0.2816</td>\n",
       "                        <td id=\"T_7013e7fa_8959_11ec_a6e4_a683e7b4a582row10_col7\" class=\"data row10 col7\" >0.2975</td>\n",
       "                        <td id=\"T_7013e7fa_8959_11ec_a6e4_a683e7b4a582row10_col8\" class=\"data row10 col8\" >0.0413</td>\n",
       "            </tr>\n",
       "            <tr>\n",
       "                        <th id=\"T_7013e7fa_8959_11ec_a6e4_a683e7b4a582level0_row11\" class=\"row_heading level0 row11\" >11</th>\n",
       "                        <td id=\"T_7013e7fa_8959_11ec_a6e4_a683e7b4a582row11_col0\" class=\"data row11 col0\" >SVM - Linear Kernel</td>\n",
       "                        <td id=\"T_7013e7fa_8959_11ec_a6e4_a683e7b4a582row11_col1\" class=\"data row11 col1\" >0.9182</td>\n",
       "                        <td id=\"T_7013e7fa_8959_11ec_a6e4_a683e7b4a582row11_col2\" class=\"data row11 col2\" >0.0000</td>\n",
       "                        <td id=\"T_7013e7fa_8959_11ec_a6e4_a683e7b4a582row11_col3\" class=\"data row11 col3\" >0.2850</td>\n",
       "                        <td id=\"T_7013e7fa_8959_11ec_a6e4_a683e7b4a582row11_col4\" class=\"data row11 col4\" >0.4528</td>\n",
       "                        <td id=\"T_7013e7fa_8959_11ec_a6e4_a683e7b4a582row11_col5\" class=\"data row11 col5\" >0.3279</td>\n",
       "                        <td id=\"T_7013e7fa_8959_11ec_a6e4_a683e7b4a582row11_col6\" class=\"data row11 col6\" >0.2886</td>\n",
       "                        <td id=\"T_7013e7fa_8959_11ec_a6e4_a683e7b4a582row11_col7\" class=\"data row11 col7\" >0.3081</td>\n",
       "                        <td id=\"T_7013e7fa_8959_11ec_a6e4_a683e7b4a582row11_col8\" class=\"data row11 col8\" >0.1025</td>\n",
       "            </tr>\n",
       "            <tr>\n",
       "                        <th id=\"T_7013e7fa_8959_11ec_a6e4_a683e7b4a582level0_row12\" class=\"row_heading level0 row12\" >12</th>\n",
       "                        <td id=\"T_7013e7fa_8959_11ec_a6e4_a683e7b4a582row12_col0\" class=\"data row12 col0\" >Decision Tree Classifier</td>\n",
       "                        <td id=\"T_7013e7fa_8959_11ec_a6e4_a683e7b4a582row12_col1\" class=\"data row12 col1\" >0.9150</td>\n",
       "                        <td id=\"T_7013e7fa_8959_11ec_a6e4_a683e7b4a582row12_col2\" class=\"data row12 col2\" >0.6920</td>\n",
       "                        <td id=\"T_7013e7fa_8959_11ec_a6e4_a683e7b4a582row12_col3\" class=\"data row12 col3\" >0.4314</td>\n",
       "                        <td id=\"T_7013e7fa_8959_11ec_a6e4_a683e7b4a582row12_col4\" class=\"data row12 col4\" >0.4152</td>\n",
       "                        <td id=\"T_7013e7fa_8959_11ec_a6e4_a683e7b4a582row12_col5\" class=\"data row12 col5\" >0.4226</td>\n",
       "                        <td id=\"T_7013e7fa_8959_11ec_a6e4_a683e7b4a582row12_col6\" class=\"data row12 col6\" >0.3768</td>\n",
       "                        <td id=\"T_7013e7fa_8959_11ec_a6e4_a683e7b4a582row12_col7\" class=\"data row12 col7\" >0.3772</td>\n",
       "                        <td id=\"T_7013e7fa_8959_11ec_a6e4_a683e7b4a582row12_col8\" class=\"data row12 col8\" >0.1080</td>\n",
       "            </tr>\n",
       "            <tr>\n",
       "                        <th id=\"T_7013e7fa_8959_11ec_a6e4_a683e7b4a582level0_row13\" class=\"row_heading level0 row13\" >13</th>\n",
       "                        <td id=\"T_7013e7fa_8959_11ec_a6e4_a683e7b4a582row13_col0\" class=\"data row13 col0\" >Naive Bayes</td>\n",
       "                        <td id=\"T_7013e7fa_8959_11ec_a6e4_a683e7b4a582row13_col1\" class=\"data row13 col1\" >0.8890</td>\n",
       "                        <td id=\"T_7013e7fa_8959_11ec_a6e4_a683e7b4a582row13_col2\" class=\"data row13 col2\" >0.8390</td>\n",
       "                        <td id=\"T_7013e7fa_8959_11ec_a6e4_a683e7b4a582row13_col3\" class=\"data row13 col3\" >0.5140</td>\n",
       "                        <td id=\"T_7013e7fa_8959_11ec_a6e4_a683e7b4a582row13_col4\" class=\"data row13 col4\" >0.3295</td>\n",
       "                        <td id=\"T_7013e7fa_8959_11ec_a6e4_a683e7b4a582row13_col5\" class=\"data row13 col5\" >0.4012</td>\n",
       "                        <td id=\"T_7013e7fa_8959_11ec_a6e4_a683e7b4a582row13_col6\" class=\"data row13 col6\" >0.3434</td>\n",
       "                        <td id=\"T_7013e7fa_8959_11ec_a6e4_a683e7b4a582row13_col7\" class=\"data row13 col7\" >0.3539</td>\n",
       "                        <td id=\"T_7013e7fa_8959_11ec_a6e4_a683e7b4a582row13_col8\" class=\"data row13 col8\" >0.0131</td>\n",
       "            </tr>\n",
       "            <tr>\n",
       "                        <th id=\"T_7013e7fa_8959_11ec_a6e4_a683e7b4a582level0_row14\" class=\"row_heading level0 row14\" >14</th>\n",
       "                        <td id=\"T_7013e7fa_8959_11ec_a6e4_a683e7b4a582row14_col0\" class=\"data row14 col0\" >Quadratic Discriminant Analysis</td>\n",
       "                        <td id=\"T_7013e7fa_8959_11ec_a6e4_a683e7b4a582row14_col1\" class=\"data row14 col1\" >0.8337</td>\n",
       "                        <td id=\"T_7013e7fa_8959_11ec_a6e4_a683e7b4a582row14_col2\" class=\"data row14 col2\" >0.8417</td>\n",
       "                        <td id=\"T_7013e7fa_8959_11ec_a6e4_a683e7b4a582row14_col3\" class=\"data row14 col3\" >0.4436</td>\n",
       "                        <td id=\"T_7013e7fa_8959_11ec_a6e4_a683e7b4a582row14_col4\" class=\"data row14 col4\" >0.3719</td>\n",
       "                        <td id=\"T_7013e7fa_8959_11ec_a6e4_a683e7b4a582row14_col5\" class=\"data row14 col5\" >0.3682</td>\n",
       "                        <td id=\"T_7013e7fa_8959_11ec_a6e4_a683e7b4a582row14_col6\" class=\"data row14 col6\" >0.3135</td>\n",
       "                        <td id=\"T_7013e7fa_8959_11ec_a6e4_a683e7b4a582row14_col7\" class=\"data row14 col7\" >0.3160</td>\n",
       "                        <td id=\"T_7013e7fa_8959_11ec_a6e4_a683e7b4a582row14_col8\" class=\"data row14 col8\" >0.0369</td>\n",
       "            </tr>\n",
       "    </tbody></table>"
      ],
      "text/plain": [
       "<pandas.io.formats.style.Styler at 0x7f81f8b7d750>"
      ]
     },
     "metadata": {},
     "output_type": "display_data"
    }
   ],
   "source": [
    "best_model = compare_models()"
   ]
  },
  {
   "cell_type": "markdown",
   "metadata": {},
   "source": [
    "### Split data into train and test datasets"
   ]
  },
  {
   "cell_type": "code",
   "execution_count": 22,
   "metadata": {},
   "outputs": [],
   "source": [
    "#X = df.drop(['y'], axis=1)\n",
    "\n",
    "#y = df['y']\n",
    "# split data into training and testing sets\n",
    "\n",
    "#from sklearn.model_selection import train_test_split\n",
    "\n",
    "#X_train, X_test, y_train, y_test = train_test_split(X, y, test_size = 0.33, random_state = 42)\n"
   ]
  },
  {
   "cell_type": "markdown",
   "metadata": {},
   "source": [
    "## Light Gradient boosting Model with default parameter "
   ]
  },
  {
   "cell_type": "code",
   "execution_count": 24,
   "metadata": {},
   "outputs": [],
   "source": [
    "import lightgbm as lgb\n",
    "from lightgbm import LGBMClassifier\n",
    "from sklearn import preprocessing\n",
    "from sklearn.preprocessing import LabelEncoder"
   ]
  },
  {
   "cell_type": "code",
   "execution_count": 25,
   "metadata": {},
   "outputs": [],
   "source": [
    "lgb = LGBMClassifier()"
   ]
  },
  {
   "cell_type": "code",
   "execution_count": 26,
   "metadata": {},
   "outputs": [],
   "source": [
    "from sklearn.model_selection import GridSearchCV\n",
    "n_estimators=[100,500,1000]\n",
    "learning_rate=[0.01,0.1,1]\n",
    "max_depth=[2,3,5]\n",
    "num_leaves = [8,27, 125]\n",
    "params2={'n_estimators':n_estimators,'learning_rate':learning_rate,'max_depth':max_depth,'num_leaves':num_leaves}\n",
    "grid_lgb=GridSearchCV(lgb,param_grid=params2)"
   ]
  },
  {
   "cell_type": "code",
   "execution_count": 25,
   "metadata": {},
   "outputs": [],
   "source": [
    "### label encode the categorical values and convert them to numbers \n",
    "le = preprocessing.LabelEncoder()\n",
    "le.fit(df['job'].astype(str))\n",
    "df['job'] = le.transform(df['job'].astype(str))\n",
    "\n",
    "le.fit(df['marital'].astype(str))\n",
    "df['marital'] = le.transform(df['marital'].astype(str))\n",
    "\n",
    "\n",
    "le.fit(df['education'].astype(str))\n",
    "df['education'] = le.transform(df['education'].astype(str))\n",
    "\n",
    "\n",
    "le.fit(df['default'].astype(str))\n",
    "df['default'] = le.transform(df['default'].astype(str))\n",
    "\n",
    "\n",
    "le.fit(df['housing'].astype(str))\n",
    "df['housing'] = le.transform(df['housing'].astype(str))\n",
    "\n",
    "\n",
    "\n",
    "le.fit(df['loan'].astype(str))\n",
    "df['loan'] = le.transform(df['loan'].astype(str))\n",
    "\n",
    "\n",
    "le.fit(df['contact'].astype(str))\n",
    "df['contact'] = le.transform(df['contact'].astype(str))\n",
    "\n",
    "\n",
    "le.fit(df['month'].astype(str))\n",
    "df['month'] = le.transform(df['month'].astype(str))\n"
   ]
  },
  {
   "cell_type": "code",
   "execution_count": 26,
   "metadata": {},
   "outputs": [
    {
     "name": "stderr",
     "output_type": "stream",
     "text": [
      "A column-vector y was passed when a 1d array was expected. Please change the shape of y to (n_samples, ), for example using ravel().\n"
     ]
    },
    {
     "data": {
      "text/plain": [
       "GridSearchCV(estimator=LGBMClassifier(),\n",
       "             param_grid={'learning_rate': [0.01, 0.1, 1],\n",
       "                         'max_depth': [2, 3, 5],\n",
       "                         'n_estimators': [100, 500, 1000],\n",
       "                         'num_leaves': [8, 27, 125]})"
      ]
     },
     "execution_count": 26,
     "metadata": {},
     "output_type": "execute_result"
    }
   ],
   "source": [
    "grid_lgb.fit(X_train,y_train)"
   ]
  },
  {
   "cell_type": "markdown",
   "metadata": {},
   "source": [
    "### Light Gradient boosting Model with best parameter"
   ]
  },
  {
   "cell_type": "code",
   "execution_count": 27,
   "metadata": {},
   "outputs": [
    {
     "data": {
      "text/plain": [
       "{'learning_rate': 0.1, 'max_depth': 3, 'n_estimators': 500, 'num_leaves': 8}"
      ]
     },
     "execution_count": 27,
     "metadata": {},
     "output_type": "execute_result"
    }
   ],
   "source": [
    "grid_lgb.best_params_"
   ]
  },
  {
   "cell_type": "code",
   "execution_count": 28,
   "metadata": {},
   "outputs": [
    {
     "name": "stdout",
     "output_type": "stream",
     "text": [
      "0.9496\n",
      "0.9499375\n",
      "0.94825\n"
     ]
    }
   ],
   "source": [
    "lgbclf=LGBMClassifier(learning_rate=0.1,max_depth=3,n_estimators=500, num_leaves = 8)\n",
    "lgbclf.fit(X,y)\n",
    "print(lgbclf.score(X,y))\n",
    "print(lgbclf.score(X_train,y_train))\n",
    "print(lgbclf.score(X_test,y_test))\n"
   ]
  },
  {
   "cell_type": "code",
   "execution_count": 29,
   "metadata": {},
   "outputs": [],
   "source": [
    "y_pred=lgbclf.predict(X_test)"
   ]
  },
  {
   "cell_type": "code",
   "execution_count": 30,
   "metadata": {},
   "outputs": [
    {
     "name": "stdout",
     "output_type": "stream",
     "text": [
      "              precision    recall  f1-score   support\n",
      "\n",
      "          no       0.96      0.99      0.97      7424\n",
      "         yes       0.71      0.47      0.57       576\n",
      "\n",
      "    accuracy                           0.95      8000\n",
      "   macro avg       0.84      0.73      0.77      8000\n",
      "weighted avg       0.94      0.95      0.94      8000\n",
      "\n"
     ]
    }
   ],
   "source": [
    "from sklearn.metrics import classification_report\n",
    "print(classification_report(y_test, y_pred))"
   ]
  },
  {
   "cell_type": "markdown",
   "metadata": {},
   "source": [
    "## Feature Selection of imbalanced datasets"
   ]
  },
  {
   "cell_type": "markdown",
   "metadata": {},
   "source": []
  },
  {
   "cell_type": "code",
   "execution_count": 31,
   "metadata": {},
   "outputs": [
    {
     "name": "stdout",
     "output_type": "stream",
     "text": [
      "(40000, 13)\n"
     ]
    }
   ],
   "source": [
    "# ANOVA feature selection for numeric input and categorical output\n",
    "from sklearn.datasets import make_classification\n",
    "from sklearn.feature_selection import SelectKBest\n",
    "from sklearn.feature_selection import f_classif\n",
    "# generate dataset\n",
    "X = df.drop(['y'], axis=1)\n",
    "\n",
    "y = df['y']\n",
    "# define feature selection\n",
    "fs = SelectKBest(score_func=f_classif, k=13)\n",
    "# apply feature selection\n",
    "X_selected = fs.fit_transform(X, y)\n",
    "print(X_selected.shape)"
   ]
  },
  {
   "cell_type": "code",
   "execution_count": 32,
   "metadata": {},
   "outputs": [
    {
     "name": "stdout",
     "output_type": "stream",
     "text": [
      "[1.645e+01 1.056e+01 3.658e+01 5.658e+01 1.721e+00 3.659e+01 1.184e+02\n",
      " 3.855e+01 3.239e+02 1.649e+00 1.340e+02 1.080e+04 6.523e+01]\n",
      "[[  1   2   9 261]\n",
      " [  1   2   9 151]\n",
      " [  1   2   9  76]\n",
      " [  1   2   9  92]\n",
      " [  0   2   9 198]]\n"
     ]
    }
   ],
   "source": [
    "# Feature Selection with Univariate Statistical Tests\n",
    "from pandas import read_csv\n",
    "from numpy import set_printoptions\n",
    "from sklearn.feature_selection import SelectKBest\n",
    "from sklearn.feature_selection import f_classif\n",
    "# load data\n",
    "#X = df.drop(['y'], axis=1)\n",
    "\n",
    "#y = df['y']\n",
    "# feature extraction\n",
    "test = SelectKBest(score_func=f_classif, k=4)\n",
    "fit = test.fit(X, y)\n",
    "# summarize scores\n",
    "set_printoptions(precision=3)\n",
    "print(fit.scores_)\n",
    "features = fit.transform(X)\n",
    "# summarize selected features\n",
    "print(features[0:5,:])"
   ]
  },
  {
   "cell_type": "code",
   "execution_count": 33,
   "metadata": {},
   "outputs": [
    {
     "name": "stdout",
     "output_type": "stream",
     "text": [
      "(32000, 13)\n",
      ">10 0.928 (0.001)\n",
      ">50 0.938 (0.002)\n",
      ">100 0.938 (0.002)\n",
      ">500 0.936 (0.002)\n",
      ">1000 0.935 (0.002)\n"
     ]
    },
    {
     "data": {
      "image/png": "[encoded data removed]",
      "text/plain": [
       "<Figure size 432x288 with 1 Axes>"
      ]
     },
     "metadata": {},
     "output_type": "display_data"
    }
   ],
   "source": [
    "# evaluate lightgbm algorithm for classification\n",
    "from numpy import mean\n",
    "from numpy import std\n",
    "from sklearn.datasets import make_classification\n",
    "from sklearn.model_selection import cross_val_score\n",
    "from sklearn.model_selection import RepeatedStratifiedKFold\n",
    "from lightgbm import LGBMClassifier\n",
    "# Splitting data into training and testing\n",
    "from sklearn.model_selection import train_test_split\n",
    "import lightgbm as lgb\n",
    "\n",
    "# Separate out the features and targets\n",
    "#X = df.drop(columns='y')\n",
    "\n",
    "\n",
    "# Split into 80% training and 20% testing set\n",
    "X_train, X_test, y_train, y_test = train_test_split(X, y , test_size = 0.2, random_state = 42)\n",
    "print(X_train.shape)\n",
    "# define the model\n",
    "from numpy import mean\n",
    "from numpy import std\n",
    "from sklearn.datasets import make_classification\n",
    "from sklearn.model_selection import cross_val_score\n",
    "from sklearn.model_selection import RepeatedStratifiedKFold\n",
    "from lightgbm import LGBMClassifier\n",
    "from matplotlib import pyplot\n",
    " \n",
    " \n",
    "# get a list of models to evaluate\n",
    "def get_models():\n",
    "\tmodels = dict()\n",
    "\ttrees = [10, 50, 100, 500, 1000]\n",
    "\tfor n in trees:\n",
    "\t\tmodels[str(n)] = LGBMClassifier(n_estimators=n)\n",
    "\treturn models\n",
    " \n",
    "# evaluate a give model using cross-validation\n",
    "def evaluate_model(model):\n",
    "\tcv = RepeatedStratifiedKFold(n_splits=6, n_repeats=3, random_state=1)\n",
    "\tscores = cross_val_score(model, X, y, scoring='accuracy', cv=cv, n_jobs=-1)\n",
    "\treturn scores\n",
    " \n",
    "# get the models to evaluate\n",
    "models = get_models()\n",
    "# evaluate the models and store results\n",
    "results, names = list(), list()\n",
    "for name, model in models.items():\n",
    "\tscores = evaluate_model(model)\n",
    "\tresults.append(scores)\n",
    "\tnames.append(name)\n",
    "\tprint('>%s %.3f (%.3f)' % (name, mean(scores), std(scores)))\n",
    "# plot model performance for comparison\n",
    "pyplot.boxplot(results, labels=names, showmeans=True)\n",
    "pyplot.show()\n"
   ]
  },
  {
   "cell_type": "code",
   "execution_count": 34,
   "metadata": {},
   "outputs": [],
   "source": [
    "# Separate out the features and targets\n",
    "#X = df.drop(columns='y')\n",
    "#y = pd.DataFrame(df['y'])\n",
    "\n",
    "\n",
    "### label encode the categorical values and convert them to numbers \n",
    "le = preprocessing.LabelEncoder()\n",
    "le.fit(df['job'].astype(str))\n",
    "df['job'] = le.transform(df['job'].astype(str))\n",
    "\n",
    "le.fit(df['marital'].astype(str))\n",
    "df['marital'] = le.transform(df['marital'].astype(str))\n",
    "\n",
    "\n",
    "le.fit(df['education'].astype(str))\n",
    "df['education'] = le.transform(df['education'].astype(str))\n",
    "\n",
    "\n",
    "le.fit(df['default'].astype(str))\n",
    "df['default'] = le.transform(df['default'].astype(str))\n",
    "\n",
    "\n",
    "le.fit(df['housing'].astype(str))\n",
    "df['housing'] = le.transform(df['housing'].astype(str))\n",
    "\n",
    "\n",
    "\n",
    "le.fit(df['loan'].astype(str))\n",
    "df['loan'] = le.transform(df['loan'].astype(str))\n",
    "\n",
    "\n",
    "le.fit(df['contact'].astype(str))\n",
    "df['contact'] = le.transform(df['contact'].astype(str))\n",
    "\n",
    "\n",
    "le.fit(df['month'].astype(str))\n",
    "df['month'] = le.transform(df['month'].astype(str))\n",
    "\n",
    "le.fit(df['y'].astype(str))\n",
    "df['y'] = le.transform(df['y'].astype(str))\n"
   ]
  },
  {
   "cell_type": "markdown",
   "metadata": {},
   "source": [
    "### Now we will balance the data through upscaling and then compare the accuracy between balanced and unbalanced data with best model"
   ]
  },
  {
   "cell_type": "code",
   "execution_count": 38,
   "metadata": {},
   "outputs": [
    {
     "data": {
      "text/plain": [
       "1    29680\n",
       "0    29680\n",
       "Name: y, dtype: int64"
      ]
     },
     "execution_count": 38,
     "metadata": {},
     "output_type": "execute_result"
    }
   ],
   "source": [
    "from sklearn.utils import resample\n",
    "\n",
    "#setting up testing and training sets\n",
    "#X_train, X_test, y_train, y_test = train_test_split(X, y, test_size=0.25, random_state=27)\n",
    "\n",
    "#concatenate our training data back together\n",
    "X1 = pd.concat([X_train, y_train], axis=1)\n",
    "\n",
    "# separate minority and majority classes\n",
    "No = X1[X1.y==0]\n",
    "Yes = X1[X1.y==1]\n",
    "\n",
    "# upsample minority\n",
    "termdeposit_upsampled = resample(Yes,\n",
    "                          replace=True, # sample with replacement\n",
    "                          n_samples=len(No), # match number in majority class\n",
    "                          random_state=27) # reproducible results\n",
    "\n",
    "# combine majority and upsampled minority\n",
    "upsampled = pd.concat([No, termdeposit_upsampled])\n",
    "\n",
    "# check new class counts\n",
    "upsampled.y.value_counts()\n",
    "\n",
    "   "
   ]
  },
  {
   "cell_type": "code",
   "execution_count": 39,
   "metadata": {},
   "outputs": [
    {
     "data": {
      "text/html": [
       "<div>\n",
       "<style scoped>\n",
       "    .dataframe tbody tr th:only-of-type {\n",
       "        vertical-align: middle;\n",
       "    }\n",
       "\n",
       "    .dataframe tbody tr th {\n",
       "        vertical-align: top;\n",
       "    }\n",
       "\n",
       "    .dataframe thead th {\n",
       "        text-align: right;\n",
       "    }\n",
       "</style>\n",
       "<table border=\"1\" class=\"dataframe\">\n",
       "  <thead>\n",
       "    <tr style=\"text-align: right;\">\n",
       "      <th></th>\n",
       "      <th>age</th>\n",
       "      <th>job</th>\n",
       "      <th>marital</th>\n",
       "      <th>education</th>\n",
       "      <th>default</th>\n",
       "      <th>balance</th>\n",
       "      <th>housing</th>\n",
       "      <th>loan</th>\n",
       "      <th>contact</th>\n",
       "      <th>day</th>\n",
       "      <th>month</th>\n",
       "      <th>duration</th>\n",
       "      <th>campaign</th>\n",
       "      <th>y</th>\n",
       "    </tr>\n",
       "  </thead>\n",
       "  <tbody>\n",
       "    <tr>\n",
       "      <th>14307</th>\n",
       "      <td>32</td>\n",
       "      <td>8</td>\n",
       "      <td>1</td>\n",
       "      <td>2</td>\n",
       "      <td>0</td>\n",
       "      <td>184</td>\n",
       "      <td>1</td>\n",
       "      <td>0</td>\n",
       "      <td>0</td>\n",
       "      <td>14</td>\n",
       "      <td>7</td>\n",
       "      <td>238</td>\n",
       "      <td>3</td>\n",
       "      <td>0</td>\n",
       "    </tr>\n",
       "    <tr>\n",
       "      <th>17812</th>\n",
       "      <td>44</td>\n",
       "      <td>7</td>\n",
       "      <td>1</td>\n",
       "      <td>0</td>\n",
       "      <td>0</td>\n",
       "      <td>1109</td>\n",
       "      <td>1</td>\n",
       "      <td>1</td>\n",
       "      <td>0</td>\n",
       "      <td>29</td>\n",
       "      <td>7</td>\n",
       "      <td>176</td>\n",
       "      <td>4</td>\n",
       "      <td>0</td>\n",
       "    </tr>\n",
       "    <tr>\n",
       "      <th>11020</th>\n",
       "      <td>37</td>\n",
       "      <td>8</td>\n",
       "      <td>2</td>\n",
       "      <td>2</td>\n",
       "      <td>1</td>\n",
       "      <td>-25</td>\n",
       "      <td>0</td>\n",
       "      <td>0</td>\n",
       "      <td>2</td>\n",
       "      <td>17</td>\n",
       "      <td>8</td>\n",
       "      <td>136</td>\n",
       "      <td>2</td>\n",
       "      <td>0</td>\n",
       "    </tr>\n",
       "    <tr>\n",
       "      <th>15158</th>\n",
       "      <td>59</td>\n",
       "      <td>9</td>\n",
       "      <td>1</td>\n",
       "      <td>2</td>\n",
       "      <td>0</td>\n",
       "      <td>6108</td>\n",
       "      <td>1</td>\n",
       "      <td>0</td>\n",
       "      <td>0</td>\n",
       "      <td>17</td>\n",
       "      <td>7</td>\n",
       "      <td>796</td>\n",
       "      <td>2</td>\n",
       "      <td>0</td>\n",
       "    </tr>\n",
       "    <tr>\n",
       "      <th>24990</th>\n",
       "      <td>49</td>\n",
       "      <td>8</td>\n",
       "      <td>1</td>\n",
       "      <td>2</td>\n",
       "      <td>0</td>\n",
       "      <td>0</td>\n",
       "      <td>1</td>\n",
       "      <td>0</td>\n",
       "      <td>0</td>\n",
       "      <td>18</td>\n",
       "      <td>2</td>\n",
       "      <td>102</td>\n",
       "      <td>1</td>\n",
       "      <td>0</td>\n",
       "    </tr>\n",
       "    <tr>\n",
       "      <th>...</th>\n",
       "      <td>...</td>\n",
       "      <td>...</td>\n",
       "      <td>...</td>\n",
       "      <td>...</td>\n",
       "      <td>...</td>\n",
       "      <td>...</td>\n",
       "      <td>...</td>\n",
       "      <td>...</td>\n",
       "      <td>...</td>\n",
       "      <td>...</td>\n",
       "      <td>...</td>\n",
       "      <td>...</td>\n",
       "      <td>...</td>\n",
       "      <td>...</td>\n",
       "    </tr>\n",
       "    <tr>\n",
       "      <th>12685</th>\n",
       "      <td>55</td>\n",
       "      <td>1</td>\n",
       "      <td>1</td>\n",
       "      <td>1</td>\n",
       "      <td>0</td>\n",
       "      <td>49</td>\n",
       "      <td>1</td>\n",
       "      <td>0</td>\n",
       "      <td>0</td>\n",
       "      <td>7</td>\n",
       "      <td>7</td>\n",
       "      <td>494</td>\n",
       "      <td>4</td>\n",
       "      <td>1</td>\n",
       "    </tr>\n",
       "    <tr>\n",
       "      <th>10070</th>\n",
       "      <td>39</td>\n",
       "      <td>8</td>\n",
       "      <td>1</td>\n",
       "      <td>2</td>\n",
       "      <td>0</td>\n",
       "      <td>-190</td>\n",
       "      <td>0</td>\n",
       "      <td>1</td>\n",
       "      <td>2</td>\n",
       "      <td>11</td>\n",
       "      <td>8</td>\n",
       "      <td>893</td>\n",
       "      <td>8</td>\n",
       "      <td>1</td>\n",
       "    </tr>\n",
       "    <tr>\n",
       "      <th>24102</th>\n",
       "      <td>35</td>\n",
       "      <td>8</td>\n",
       "      <td>0</td>\n",
       "      <td>2</td>\n",
       "      <td>0</td>\n",
       "      <td>0</td>\n",
       "      <td>1</td>\n",
       "      <td>0</td>\n",
       "      <td>1</td>\n",
       "      <td>29</td>\n",
       "      <td>3</td>\n",
       "      <td>171</td>\n",
       "      <td>1</td>\n",
       "      <td>1</td>\n",
       "    </tr>\n",
       "    <tr>\n",
       "      <th>33912</th>\n",
       "      <td>25</td>\n",
       "      <td>8</td>\n",
       "      <td>2</td>\n",
       "      <td>2</td>\n",
       "      <td>0</td>\n",
       "      <td>943</td>\n",
       "      <td>0</td>\n",
       "      <td>0</td>\n",
       "      <td>0</td>\n",
       "      <td>30</td>\n",
       "      <td>0</td>\n",
       "      <td>512</td>\n",
       "      <td>1</td>\n",
       "      <td>1</td>\n",
       "    </tr>\n",
       "    <tr>\n",
       "      <th>27559</th>\n",
       "      <td>52</td>\n",
       "      <td>1</td>\n",
       "      <td>1</td>\n",
       "      <td>1</td>\n",
       "      <td>0</td>\n",
       "      <td>580</td>\n",
       "      <td>0</td>\n",
       "      <td>0</td>\n",
       "      <td>0</td>\n",
       "      <td>21</td>\n",
       "      <td>2</td>\n",
       "      <td>965</td>\n",
       "      <td>2</td>\n",
       "      <td>1</td>\n",
       "    </tr>\n",
       "  </tbody>\n",
       "</table>\n",
       "<p>59360 rows × 14 columns</p>\n",
       "</div>"
      ],
      "text/plain": [
       "       age  job  marital  education  default  balance  housing  loan  contact  \\\n",
       "14307   32    8        1          2        0      184        1     0        0   \n",
       "17812   44    7        1          0        0     1109        1     1        0   \n",
       "11020   37    8        2          2        1      -25        0     0        2   \n",
       "15158   59    9        1          2        0     6108        1     0        0   \n",
       "24990   49    8        1          2        0        0        1     0        0   \n",
       "...    ...  ...      ...        ...      ...      ...      ...   ...      ...   \n",
       "12685   55    1        1          1        0       49        1     0        0   \n",
       "10070   39    8        1          2        0     -190        0     1        2   \n",
       "24102   35    8        0          2        0        0        1     0        1   \n",
       "33912   25    8        2          2        0      943        0     0        0   \n",
       "27559   52    1        1          1        0      580        0     0        0   \n",
       "\n",
       "       day  month  duration  campaign  y  \n",
       "14307   14      7       238         3  0  \n",
       "17812   29      7       176         4  0  \n",
       "11020   17      8       136         2  0  \n",
       "15158   17      7       796         2  0  \n",
       "24990   18      2       102         1  0  \n",
       "...    ...    ...       ...       ... ..  \n",
       "12685    7      7       494         4  1  \n",
       "10070   11      8       893         8  1  \n",
       "24102   29      3       171         1  1  \n",
       "33912   30      0       512         1  1  \n",
       "27559   21      2       965         2  1  \n",
       "\n",
       "[59360 rows x 14 columns]"
      ]
     },
     "execution_count": 39,
     "metadata": {},
     "output_type": "execute_result"
    }
   ],
   "source": [
    "upsampled"
   ]
  },
  {
   "cell_type": "markdown",
   "metadata": {},
   "source": [
    "### Load pycaret model on above balance datasets"
   ]
  },
  {
   "cell_type": "code",
   "execution_count": 42,
   "metadata": {},
   "outputs": [
    {
     "name": "stdout",
     "output_type": "stream",
     "text": [
      "Data for Modeling: (56392, 14)\n",
      "Unseen Data For Predictions: (0, 14)\n"
     ]
    }
   ],
   "source": [
    "#load the pycaret module\n",
    "from pycaret.classification import *\n",
    "data = upsampled.sample(frac=0.95, random_state=486)\n",
    "data_unseen = df.drop(df.index)\n",
    "upsampled.reset_index(inplace=True, drop=True)\n",
    "data_unseen.reset_index(inplace=True, drop=True)\n",
    "print('Data for Modeling: ' + str(data.shape))\n",
    "print('Unseen Data For Predictions: ' + str(data_unseen.shape))"
   ]
  },
  {
   "cell_type": "code",
   "execution_count": 43,
   "metadata": {},
   "outputs": [
    {
     "name": "stdout",
     "output_type": "stream",
     "text": [
      "Setup Succesfully Completed!\n"
     ]
    },
    {
     "data": {
      "text/html": [
       "<style  type=\"text/css\" >\n",
       "</style><table id=\"T_a024dabe_8966_11ec_a6e4_a683e7b4a582\" ><thead>    <tr>        <th class=\"blank level0\" ></th>        <th class=\"col_heading level0 col0\" >Description</th>        <th class=\"col_heading level0 col1\" >Value</th>    </tr></thead><tbody>\n",
       "                <tr>\n",
       "                        <th id=\"T_a024dabe_8966_11ec_a6e4_a683e7b4a582level0_row0\" class=\"row_heading level0 row0\" >0</th>\n",
       "                        <td id=\"T_a024dabe_8966_11ec_a6e4_a683e7b4a582row0_col0\" class=\"data row0 col0\" >session_id</td>\n",
       "                        <td id=\"T_a024dabe_8966_11ec_a6e4_a683e7b4a582row0_col1\" class=\"data row0 col1\" >123</td>\n",
       "            </tr>\n",
       "            <tr>\n",
       "                        <th id=\"T_a024dabe_8966_11ec_a6e4_a683e7b4a582level0_row1\" class=\"row_heading level0 row1\" >1</th>\n",
       "                        <td id=\"T_a024dabe_8966_11ec_a6e4_a683e7b4a582row1_col0\" class=\"data row1 col0\" >Target Type</td>\n",
       "                        <td id=\"T_a024dabe_8966_11ec_a6e4_a683e7b4a582row1_col1\" class=\"data row1 col1\" >Binary</td>\n",
       "            </tr>\n",
       "            <tr>\n",
       "                        <th id=\"T_a024dabe_8966_11ec_a6e4_a683e7b4a582level0_row2\" class=\"row_heading level0 row2\" >2</th>\n",
       "                        <td id=\"T_a024dabe_8966_11ec_a6e4_a683e7b4a582row2_col0\" class=\"data row2 col0\" >Label Encoded</td>\n",
       "                        <td id=\"T_a024dabe_8966_11ec_a6e4_a683e7b4a582row2_col1\" class=\"data row2 col1\" >0: 0, 1: 1</td>\n",
       "            </tr>\n",
       "            <tr>\n",
       "                        <th id=\"T_a024dabe_8966_11ec_a6e4_a683e7b4a582level0_row3\" class=\"row_heading level0 row3\" >3</th>\n",
       "                        <td id=\"T_a024dabe_8966_11ec_a6e4_a683e7b4a582row3_col0\" class=\"data row3 col0\" >Original Data</td>\n",
       "                        <td id=\"T_a024dabe_8966_11ec_a6e4_a683e7b4a582row3_col1\" class=\"data row3 col1\" >(56392, 14)</td>\n",
       "            </tr>\n",
       "            <tr>\n",
       "                        <th id=\"T_a024dabe_8966_11ec_a6e4_a683e7b4a582level0_row4\" class=\"row_heading level0 row4\" >4</th>\n",
       "                        <td id=\"T_a024dabe_8966_11ec_a6e4_a683e7b4a582row4_col0\" class=\"data row4 col0\" >Missing Values </td>\n",
       "                        <td id=\"T_a024dabe_8966_11ec_a6e4_a683e7b4a582row4_col1\" class=\"data row4 col1\" >False</td>\n",
       "            </tr>\n",
       "            <tr>\n",
       "                        <th id=\"T_a024dabe_8966_11ec_a6e4_a683e7b4a582level0_row5\" class=\"row_heading level0 row5\" >5</th>\n",
       "                        <td id=\"T_a024dabe_8966_11ec_a6e4_a683e7b4a582row5_col0\" class=\"data row5 col0\" >Numeric Features </td>\n",
       "                        <td id=\"T_a024dabe_8966_11ec_a6e4_a683e7b4a582row5_col1\" class=\"data row5 col1\" >5</td>\n",
       "            </tr>\n",
       "            <tr>\n",
       "                        <th id=\"T_a024dabe_8966_11ec_a6e4_a683e7b4a582level0_row6\" class=\"row_heading level0 row6\" >6</th>\n",
       "                        <td id=\"T_a024dabe_8966_11ec_a6e4_a683e7b4a582row6_col0\" class=\"data row6 col0\" >Categorical Features </td>\n",
       "                        <td id=\"T_a024dabe_8966_11ec_a6e4_a683e7b4a582row6_col1\" class=\"data row6 col1\" >8</td>\n",
       "            </tr>\n",
       "            <tr>\n",
       "                        <th id=\"T_a024dabe_8966_11ec_a6e4_a683e7b4a582level0_row7\" class=\"row_heading level0 row7\" >7</th>\n",
       "                        <td id=\"T_a024dabe_8966_11ec_a6e4_a683e7b4a582row7_col0\" class=\"data row7 col0\" >Ordinal Features </td>\n",
       "                        <td id=\"T_a024dabe_8966_11ec_a6e4_a683e7b4a582row7_col1\" class=\"data row7 col1\" >False</td>\n",
       "            </tr>\n",
       "            <tr>\n",
       "                        <th id=\"T_a024dabe_8966_11ec_a6e4_a683e7b4a582level0_row8\" class=\"row_heading level0 row8\" >8</th>\n",
       "                        <td id=\"T_a024dabe_8966_11ec_a6e4_a683e7b4a582row8_col0\" class=\"data row8 col0\" >High Cardinality Features </td>\n",
       "                        <td id=\"T_a024dabe_8966_11ec_a6e4_a683e7b4a582row8_col1\" class=\"data row8 col1\" >False</td>\n",
       "            </tr>\n",
       "            <tr>\n",
       "                        <th id=\"T_a024dabe_8966_11ec_a6e4_a683e7b4a582level0_row9\" class=\"row_heading level0 row9\" >9</th>\n",
       "                        <td id=\"T_a024dabe_8966_11ec_a6e4_a683e7b4a582row9_col0\" class=\"data row9 col0\" >High Cardinality Method </td>\n",
       "                        <td id=\"T_a024dabe_8966_11ec_a6e4_a683e7b4a582row9_col1\" class=\"data row9 col1\" >None</td>\n",
       "            </tr>\n",
       "            <tr>\n",
       "                        <th id=\"T_a024dabe_8966_11ec_a6e4_a683e7b4a582level0_row10\" class=\"row_heading level0 row10\" >10</th>\n",
       "                        <td id=\"T_a024dabe_8966_11ec_a6e4_a683e7b4a582row10_col0\" class=\"data row10 col0\" >Sampled Data</td>\n",
       "                        <td id=\"T_a024dabe_8966_11ec_a6e4_a683e7b4a582row10_col1\" class=\"data row10 col1\" >(45113, 14)</td>\n",
       "            </tr>\n",
       "            <tr>\n",
       "                        <th id=\"T_a024dabe_8966_11ec_a6e4_a683e7b4a582level0_row11\" class=\"row_heading level0 row11\" >11</th>\n",
       "                        <td id=\"T_a024dabe_8966_11ec_a6e4_a683e7b4a582row11_col0\" class=\"data row11 col0\" >Transformed Train Set</td>\n",
       "                        <td id=\"T_a024dabe_8966_11ec_a6e4_a683e7b4a582row11_col1\" class=\"data row11 col1\" >(31579, 44)</td>\n",
       "            </tr>\n",
       "            <tr>\n",
       "                        <th id=\"T_a024dabe_8966_11ec_a6e4_a683e7b4a582level0_row12\" class=\"row_heading level0 row12\" >12</th>\n",
       "                        <td id=\"T_a024dabe_8966_11ec_a6e4_a683e7b4a582row12_col0\" class=\"data row12 col0\" >Transformed Test Set</td>\n",
       "                        <td id=\"T_a024dabe_8966_11ec_a6e4_a683e7b4a582row12_col1\" class=\"data row12 col1\" >(13534, 44)</td>\n",
       "            </tr>\n",
       "            <tr>\n",
       "                        <th id=\"T_a024dabe_8966_11ec_a6e4_a683e7b4a582level0_row13\" class=\"row_heading level0 row13\" >13</th>\n",
       "                        <td id=\"T_a024dabe_8966_11ec_a6e4_a683e7b4a582row13_col0\" class=\"data row13 col0\" >Numeric Imputer </td>\n",
       "                        <td id=\"T_a024dabe_8966_11ec_a6e4_a683e7b4a582row13_col1\" class=\"data row13 col1\" >mean</td>\n",
       "            </tr>\n",
       "            <tr>\n",
       "                        <th id=\"T_a024dabe_8966_11ec_a6e4_a683e7b4a582level0_row14\" class=\"row_heading level0 row14\" >14</th>\n",
       "                        <td id=\"T_a024dabe_8966_11ec_a6e4_a683e7b4a582row14_col0\" class=\"data row14 col0\" >Categorical Imputer </td>\n",
       "                        <td id=\"T_a024dabe_8966_11ec_a6e4_a683e7b4a582row14_col1\" class=\"data row14 col1\" >constant</td>\n",
       "            </tr>\n",
       "            <tr>\n",
       "                        <th id=\"T_a024dabe_8966_11ec_a6e4_a683e7b4a582level0_row15\" class=\"row_heading level0 row15\" >15</th>\n",
       "                        <td id=\"T_a024dabe_8966_11ec_a6e4_a683e7b4a582row15_col0\" class=\"data row15 col0\" >Normalize </td>\n",
       "                        <td id=\"T_a024dabe_8966_11ec_a6e4_a683e7b4a582row15_col1\" class=\"data row15 col1\" >False</td>\n",
       "            </tr>\n",
       "            <tr>\n",
       "                        <th id=\"T_a024dabe_8966_11ec_a6e4_a683e7b4a582level0_row16\" class=\"row_heading level0 row16\" >16</th>\n",
       "                        <td id=\"T_a024dabe_8966_11ec_a6e4_a683e7b4a582row16_col0\" class=\"data row16 col0\" >Normalize Method </td>\n",
       "                        <td id=\"T_a024dabe_8966_11ec_a6e4_a683e7b4a582row16_col1\" class=\"data row16 col1\" >None</td>\n",
       "            </tr>\n",
       "            <tr>\n",
       "                        <th id=\"T_a024dabe_8966_11ec_a6e4_a683e7b4a582level0_row17\" class=\"row_heading level0 row17\" >17</th>\n",
       "                        <td id=\"T_a024dabe_8966_11ec_a6e4_a683e7b4a582row17_col0\" class=\"data row17 col0\" >Transformation </td>\n",
       "                        <td id=\"T_a024dabe_8966_11ec_a6e4_a683e7b4a582row17_col1\" class=\"data row17 col1\" >False</td>\n",
       "            </tr>\n",
       "            <tr>\n",
       "                        <th id=\"T_a024dabe_8966_11ec_a6e4_a683e7b4a582level0_row18\" class=\"row_heading level0 row18\" >18</th>\n",
       "                        <td id=\"T_a024dabe_8966_11ec_a6e4_a683e7b4a582row18_col0\" class=\"data row18 col0\" >Transformation Method </td>\n",
       "                        <td id=\"T_a024dabe_8966_11ec_a6e4_a683e7b4a582row18_col1\" class=\"data row18 col1\" >None</td>\n",
       "            </tr>\n",
       "            <tr>\n",
       "                        <th id=\"T_a024dabe_8966_11ec_a6e4_a683e7b4a582level0_row19\" class=\"row_heading level0 row19\" >19</th>\n",
       "                        <td id=\"T_a024dabe_8966_11ec_a6e4_a683e7b4a582row19_col0\" class=\"data row19 col0\" >PCA </td>\n",
       "                        <td id=\"T_a024dabe_8966_11ec_a6e4_a683e7b4a582row19_col1\" class=\"data row19 col1\" >False</td>\n",
       "            </tr>\n",
       "            <tr>\n",
       "                        <th id=\"T_a024dabe_8966_11ec_a6e4_a683e7b4a582level0_row20\" class=\"row_heading level0 row20\" >20</th>\n",
       "                        <td id=\"T_a024dabe_8966_11ec_a6e4_a683e7b4a582row20_col0\" class=\"data row20 col0\" >PCA Method </td>\n",
       "                        <td id=\"T_a024dabe_8966_11ec_a6e4_a683e7b4a582row20_col1\" class=\"data row20 col1\" >None</td>\n",
       "            </tr>\n",
       "            <tr>\n",
       "                        <th id=\"T_a024dabe_8966_11ec_a6e4_a683e7b4a582level0_row21\" class=\"row_heading level0 row21\" >21</th>\n",
       "                        <td id=\"T_a024dabe_8966_11ec_a6e4_a683e7b4a582row21_col0\" class=\"data row21 col0\" >PCA Components </td>\n",
       "                        <td id=\"T_a024dabe_8966_11ec_a6e4_a683e7b4a582row21_col1\" class=\"data row21 col1\" >None</td>\n",
       "            </tr>\n",
       "            <tr>\n",
       "                        <th id=\"T_a024dabe_8966_11ec_a6e4_a683e7b4a582level0_row22\" class=\"row_heading level0 row22\" >22</th>\n",
       "                        <td id=\"T_a024dabe_8966_11ec_a6e4_a683e7b4a582row22_col0\" class=\"data row22 col0\" >Ignore Low Variance </td>\n",
       "                        <td id=\"T_a024dabe_8966_11ec_a6e4_a683e7b4a582row22_col1\" class=\"data row22 col1\" >False</td>\n",
       "            </tr>\n",
       "            <tr>\n",
       "                        <th id=\"T_a024dabe_8966_11ec_a6e4_a683e7b4a582level0_row23\" class=\"row_heading level0 row23\" >23</th>\n",
       "                        <td id=\"T_a024dabe_8966_11ec_a6e4_a683e7b4a582row23_col0\" class=\"data row23 col0\" >Combine Rare Levels </td>\n",
       "                        <td id=\"T_a024dabe_8966_11ec_a6e4_a683e7b4a582row23_col1\" class=\"data row23 col1\" >False</td>\n",
       "            </tr>\n",
       "            <tr>\n",
       "                        <th id=\"T_a024dabe_8966_11ec_a6e4_a683e7b4a582level0_row24\" class=\"row_heading level0 row24\" >24</th>\n",
       "                        <td id=\"T_a024dabe_8966_11ec_a6e4_a683e7b4a582row24_col0\" class=\"data row24 col0\" >Rare Level Threshold </td>\n",
       "                        <td id=\"T_a024dabe_8966_11ec_a6e4_a683e7b4a582row24_col1\" class=\"data row24 col1\" >None</td>\n",
       "            </tr>\n",
       "            <tr>\n",
       "                        <th id=\"T_a024dabe_8966_11ec_a6e4_a683e7b4a582level0_row25\" class=\"row_heading level0 row25\" >25</th>\n",
       "                        <td id=\"T_a024dabe_8966_11ec_a6e4_a683e7b4a582row25_col0\" class=\"data row25 col0\" >Numeric Binning </td>\n",
       "                        <td id=\"T_a024dabe_8966_11ec_a6e4_a683e7b4a582row25_col1\" class=\"data row25 col1\" >False</td>\n",
       "            </tr>\n",
       "            <tr>\n",
       "                        <th id=\"T_a024dabe_8966_11ec_a6e4_a683e7b4a582level0_row26\" class=\"row_heading level0 row26\" >26</th>\n",
       "                        <td id=\"T_a024dabe_8966_11ec_a6e4_a683e7b4a582row26_col0\" class=\"data row26 col0\" >Remove Outliers </td>\n",
       "                        <td id=\"T_a024dabe_8966_11ec_a6e4_a683e7b4a582row26_col1\" class=\"data row26 col1\" >False</td>\n",
       "            </tr>\n",
       "            <tr>\n",
       "                        <th id=\"T_a024dabe_8966_11ec_a6e4_a683e7b4a582level0_row27\" class=\"row_heading level0 row27\" >27</th>\n",
       "                        <td id=\"T_a024dabe_8966_11ec_a6e4_a683e7b4a582row27_col0\" class=\"data row27 col0\" >Outliers Threshold </td>\n",
       "                        <td id=\"T_a024dabe_8966_11ec_a6e4_a683e7b4a582row27_col1\" class=\"data row27 col1\" >None</td>\n",
       "            </tr>\n",
       "            <tr>\n",
       "                        <th id=\"T_a024dabe_8966_11ec_a6e4_a683e7b4a582level0_row28\" class=\"row_heading level0 row28\" >28</th>\n",
       "                        <td id=\"T_a024dabe_8966_11ec_a6e4_a683e7b4a582row28_col0\" class=\"data row28 col0\" >Remove Multicollinearity </td>\n",
       "                        <td id=\"T_a024dabe_8966_11ec_a6e4_a683e7b4a582row28_col1\" class=\"data row28 col1\" >False</td>\n",
       "            </tr>\n",
       "            <tr>\n",
       "                        <th id=\"T_a024dabe_8966_11ec_a6e4_a683e7b4a582level0_row29\" class=\"row_heading level0 row29\" >29</th>\n",
       "                        <td id=\"T_a024dabe_8966_11ec_a6e4_a683e7b4a582row29_col0\" class=\"data row29 col0\" >Multicollinearity Threshold </td>\n",
       "                        <td id=\"T_a024dabe_8966_11ec_a6e4_a683e7b4a582row29_col1\" class=\"data row29 col1\" >None</td>\n",
       "            </tr>\n",
       "            <tr>\n",
       "                        <th id=\"T_a024dabe_8966_11ec_a6e4_a683e7b4a582level0_row30\" class=\"row_heading level0 row30\" >30</th>\n",
       "                        <td id=\"T_a024dabe_8966_11ec_a6e4_a683e7b4a582row30_col0\" class=\"data row30 col0\" >Clustering </td>\n",
       "                        <td id=\"T_a024dabe_8966_11ec_a6e4_a683e7b4a582row30_col1\" class=\"data row30 col1\" >False</td>\n",
       "            </tr>\n",
       "            <tr>\n",
       "                        <th id=\"T_a024dabe_8966_11ec_a6e4_a683e7b4a582level0_row31\" class=\"row_heading level0 row31\" >31</th>\n",
       "                        <td id=\"T_a024dabe_8966_11ec_a6e4_a683e7b4a582row31_col0\" class=\"data row31 col0\" >Clustering Iteration </td>\n",
       "                        <td id=\"T_a024dabe_8966_11ec_a6e4_a683e7b4a582row31_col1\" class=\"data row31 col1\" >None</td>\n",
       "            </tr>\n",
       "            <tr>\n",
       "                        <th id=\"T_a024dabe_8966_11ec_a6e4_a683e7b4a582level0_row32\" class=\"row_heading level0 row32\" >32</th>\n",
       "                        <td id=\"T_a024dabe_8966_11ec_a6e4_a683e7b4a582row32_col0\" class=\"data row32 col0\" >Polynomial Features </td>\n",
       "                        <td id=\"T_a024dabe_8966_11ec_a6e4_a683e7b4a582row32_col1\" class=\"data row32 col1\" >False</td>\n",
       "            </tr>\n",
       "            <tr>\n",
       "                        <th id=\"T_a024dabe_8966_11ec_a6e4_a683e7b4a582level0_row33\" class=\"row_heading level0 row33\" >33</th>\n",
       "                        <td id=\"T_a024dabe_8966_11ec_a6e4_a683e7b4a582row33_col0\" class=\"data row33 col0\" >Polynomial Degree </td>\n",
       "                        <td id=\"T_a024dabe_8966_11ec_a6e4_a683e7b4a582row33_col1\" class=\"data row33 col1\" >None</td>\n",
       "            </tr>\n",
       "            <tr>\n",
       "                        <th id=\"T_a024dabe_8966_11ec_a6e4_a683e7b4a582level0_row34\" class=\"row_heading level0 row34\" >34</th>\n",
       "                        <td id=\"T_a024dabe_8966_11ec_a6e4_a683e7b4a582row34_col0\" class=\"data row34 col0\" >Trignometry Features </td>\n",
       "                        <td id=\"T_a024dabe_8966_11ec_a6e4_a683e7b4a582row34_col1\" class=\"data row34 col1\" >False</td>\n",
       "            </tr>\n",
       "            <tr>\n",
       "                        <th id=\"T_a024dabe_8966_11ec_a6e4_a683e7b4a582level0_row35\" class=\"row_heading level0 row35\" >35</th>\n",
       "                        <td id=\"T_a024dabe_8966_11ec_a6e4_a683e7b4a582row35_col0\" class=\"data row35 col0\" >Polynomial Threshold </td>\n",
       "                        <td id=\"T_a024dabe_8966_11ec_a6e4_a683e7b4a582row35_col1\" class=\"data row35 col1\" >None</td>\n",
       "            </tr>\n",
       "            <tr>\n",
       "                        <th id=\"T_a024dabe_8966_11ec_a6e4_a683e7b4a582level0_row36\" class=\"row_heading level0 row36\" >36</th>\n",
       "                        <td id=\"T_a024dabe_8966_11ec_a6e4_a683e7b4a582row36_col0\" class=\"data row36 col0\" >Group Features </td>\n",
       "                        <td id=\"T_a024dabe_8966_11ec_a6e4_a683e7b4a582row36_col1\" class=\"data row36 col1\" >False</td>\n",
       "            </tr>\n",
       "            <tr>\n",
       "                        <th id=\"T_a024dabe_8966_11ec_a6e4_a683e7b4a582level0_row37\" class=\"row_heading level0 row37\" >37</th>\n",
       "                        <td id=\"T_a024dabe_8966_11ec_a6e4_a683e7b4a582row37_col0\" class=\"data row37 col0\" >Feature Selection </td>\n",
       "                        <td id=\"T_a024dabe_8966_11ec_a6e4_a683e7b4a582row37_col1\" class=\"data row37 col1\" >False</td>\n",
       "            </tr>\n",
       "            <tr>\n",
       "                        <th id=\"T_a024dabe_8966_11ec_a6e4_a683e7b4a582level0_row38\" class=\"row_heading level0 row38\" >38</th>\n",
       "                        <td id=\"T_a024dabe_8966_11ec_a6e4_a683e7b4a582row38_col0\" class=\"data row38 col0\" >Features Selection Threshold </td>\n",
       "                        <td id=\"T_a024dabe_8966_11ec_a6e4_a683e7b4a582row38_col1\" class=\"data row38 col1\" >None</td>\n",
       "            </tr>\n",
       "            <tr>\n",
       "                        <th id=\"T_a024dabe_8966_11ec_a6e4_a683e7b4a582level0_row39\" class=\"row_heading level0 row39\" >39</th>\n",
       "                        <td id=\"T_a024dabe_8966_11ec_a6e4_a683e7b4a582row39_col0\" class=\"data row39 col0\" >Feature Interaction </td>\n",
       "                        <td id=\"T_a024dabe_8966_11ec_a6e4_a683e7b4a582row39_col1\" class=\"data row39 col1\" >False</td>\n",
       "            </tr>\n",
       "            <tr>\n",
       "                        <th id=\"T_a024dabe_8966_11ec_a6e4_a683e7b4a582level0_row40\" class=\"row_heading level0 row40\" >40</th>\n",
       "                        <td id=\"T_a024dabe_8966_11ec_a6e4_a683e7b4a582row40_col0\" class=\"data row40 col0\" >Feature Ratio </td>\n",
       "                        <td id=\"T_a024dabe_8966_11ec_a6e4_a683e7b4a582row40_col1\" class=\"data row40 col1\" >False</td>\n",
       "            </tr>\n",
       "            <tr>\n",
       "                        <th id=\"T_a024dabe_8966_11ec_a6e4_a683e7b4a582level0_row41\" class=\"row_heading level0 row41\" >41</th>\n",
       "                        <td id=\"T_a024dabe_8966_11ec_a6e4_a683e7b4a582row41_col0\" class=\"data row41 col0\" >Interaction Threshold </td>\n",
       "                        <td id=\"T_a024dabe_8966_11ec_a6e4_a683e7b4a582row41_col1\" class=\"data row41 col1\" >None</td>\n",
       "            </tr>\n",
       "            <tr>\n",
       "                        <th id=\"T_a024dabe_8966_11ec_a6e4_a683e7b4a582level0_row42\" class=\"row_heading level0 row42\" >42</th>\n",
       "                        <td id=\"T_a024dabe_8966_11ec_a6e4_a683e7b4a582row42_col0\" class=\"data row42 col0\" >Fix Imbalance</td>\n",
       "                        <td id=\"T_a024dabe_8966_11ec_a6e4_a683e7b4a582row42_col1\" class=\"data row42 col1\" >False</td>\n",
       "            </tr>\n",
       "            <tr>\n",
       "                        <th id=\"T_a024dabe_8966_11ec_a6e4_a683e7b4a582level0_row43\" class=\"row_heading level0 row43\" >43</th>\n",
       "                        <td id=\"T_a024dabe_8966_11ec_a6e4_a683e7b4a582row43_col0\" class=\"data row43 col0\" >Fix Imbalance Method</td>\n",
       "                        <td id=\"T_a024dabe_8966_11ec_a6e4_a683e7b4a582row43_col1\" class=\"data row43 col1\" >SMOTE</td>\n",
       "            </tr>\n",
       "    </tbody></table>"
      ],
      "text/plain": [
       "<pandas.io.formats.style.Styler at 0x7f81eda1d390>"
      ]
     },
     "metadata": {},
     "output_type": "display_data"
    }
   ],
   "source": [
    "from pycaret.classification import *\n",
    "exp_name = setup(data = data,  target = 'y',session_id=123)"
   ]
  },
  {
   "cell_type": "code",
   "execution_count": 44,
   "metadata": {},
   "outputs": [
    {
     "data": {
      "text/html": [
       "<style  type=\"text/css\" >\n",
       "    #T_27c49db0_8967_11ec_a6e4_a683e7b4a582 th {\n",
       "          text-align: left;\n",
       "    }    #T_27c49db0_8967_11ec_a6e4_a683e7b4a582row0_col0 {\n",
       "            text-align:  left;\n",
       "        }    #T_27c49db0_8967_11ec_a6e4_a683e7b4a582row0_col1 {\n",
       "            background-color:  yellow;\n",
       "            text-align:  left;\n",
       "        }    #T_27c49db0_8967_11ec_a6e4_a683e7b4a582row0_col2 {\n",
       "            background-color:  yellow;\n",
       "            text-align:  left;\n",
       "        }    #T_27c49db0_8967_11ec_a6e4_a683e7b4a582row0_col3 {\n",
       "            : ;\n",
       "            text-align:  left;\n",
       "        }    #T_27c49db0_8967_11ec_a6e4_a683e7b4a582row0_col4 {\n",
       "            background-color:  yellow;\n",
       "            text-align:  left;\n",
       "        }    #T_27c49db0_8967_11ec_a6e4_a683e7b4a582row0_col5 {\n",
       "            background-color:  yellow;\n",
       "            text-align:  left;\n",
       "        }    #T_27c49db0_8967_11ec_a6e4_a683e7b4a582row0_col6 {\n",
       "            background-color:  yellow;\n",
       "            text-align:  left;\n",
       "        }    #T_27c49db0_8967_11ec_a6e4_a683e7b4a582row0_col7 {\n",
       "            background-color:  yellow;\n",
       "            text-align:  left;\n",
       "        }    #T_27c49db0_8967_11ec_a6e4_a683e7b4a582row0_col8 {\n",
       "            background-color:  lightgrey;\n",
       "            text-align:  left;\n",
       "        }    #T_27c49db0_8967_11ec_a6e4_a683e7b4a582row1_col0 {\n",
       "            text-align:  left;\n",
       "        }    #T_27c49db0_8967_11ec_a6e4_a683e7b4a582row1_col1 {\n",
       "            : ;\n",
       "            text-align:  left;\n",
       "        }    #T_27c49db0_8967_11ec_a6e4_a683e7b4a582row1_col2 {\n",
       "            : ;\n",
       "            text-align:  left;\n",
       "        }    #T_27c49db0_8967_11ec_a6e4_a683e7b4a582row1_col3 {\n",
       "            : ;\n",
       "            text-align:  left;\n",
       "        }    #T_27c49db0_8967_11ec_a6e4_a683e7b4a582row1_col4 {\n",
       "            : ;\n",
       "            text-align:  left;\n",
       "        }    #T_27c49db0_8967_11ec_a6e4_a683e7b4a582row1_col5 {\n",
       "            : ;\n",
       "            text-align:  left;\n",
       "        }    #T_27c49db0_8967_11ec_a6e4_a683e7b4a582row1_col6 {\n",
       "            : ;\n",
       "            text-align:  left;\n",
       "        }    #T_27c49db0_8967_11ec_a6e4_a683e7b4a582row1_col7 {\n",
       "            : ;\n",
       "            text-align:  left;\n",
       "        }    #T_27c49db0_8967_11ec_a6e4_a683e7b4a582row1_col8 {\n",
       "            background-color:  lightgrey;\n",
       "            text-align:  left;\n",
       "        }    #T_27c49db0_8967_11ec_a6e4_a683e7b4a582row2_col0 {\n",
       "            text-align:  left;\n",
       "        }    #T_27c49db0_8967_11ec_a6e4_a683e7b4a582row2_col1 {\n",
       "            : ;\n",
       "            text-align:  left;\n",
       "        }    #T_27c49db0_8967_11ec_a6e4_a683e7b4a582row2_col2 {\n",
       "            : ;\n",
       "            text-align:  left;\n",
       "        }    #T_27c49db0_8967_11ec_a6e4_a683e7b4a582row2_col3 {\n",
       "            : ;\n",
       "            text-align:  left;\n",
       "        }    #T_27c49db0_8967_11ec_a6e4_a683e7b4a582row2_col4 {\n",
       "            : ;\n",
       "            text-align:  left;\n",
       "        }    #T_27c49db0_8967_11ec_a6e4_a683e7b4a582row2_col5 {\n",
       "            : ;\n",
       "            text-align:  left;\n",
       "        }    #T_27c49db0_8967_11ec_a6e4_a683e7b4a582row2_col6 {\n",
       "            : ;\n",
       "            text-align:  left;\n",
       "        }    #T_27c49db0_8967_11ec_a6e4_a683e7b4a582row2_col7 {\n",
       "            : ;\n",
       "            text-align:  left;\n",
       "        }    #T_27c49db0_8967_11ec_a6e4_a683e7b4a582row2_col8 {\n",
       "            background-color:  lightgrey;\n",
       "            text-align:  left;\n",
       "        }    #T_27c49db0_8967_11ec_a6e4_a683e7b4a582row3_col0 {\n",
       "            text-align:  left;\n",
       "        }    #T_27c49db0_8967_11ec_a6e4_a683e7b4a582row3_col1 {\n",
       "            : ;\n",
       "            text-align:  left;\n",
       "        }    #T_27c49db0_8967_11ec_a6e4_a683e7b4a582row3_col2 {\n",
       "            : ;\n",
       "            text-align:  left;\n",
       "        }    #T_27c49db0_8967_11ec_a6e4_a683e7b4a582row3_col3 {\n",
       "            : ;\n",
       "            text-align:  left;\n",
       "        }    #T_27c49db0_8967_11ec_a6e4_a683e7b4a582row3_col4 {\n",
       "            : ;\n",
       "            text-align:  left;\n",
       "        }    #T_27c49db0_8967_11ec_a6e4_a683e7b4a582row3_col5 {\n",
       "            : ;\n",
       "            text-align:  left;\n",
       "        }    #T_27c49db0_8967_11ec_a6e4_a683e7b4a582row3_col6 {\n",
       "            : ;\n",
       "            text-align:  left;\n",
       "        }    #T_27c49db0_8967_11ec_a6e4_a683e7b4a582row3_col7 {\n",
       "            : ;\n",
       "            text-align:  left;\n",
       "        }    #T_27c49db0_8967_11ec_a6e4_a683e7b4a582row3_col8 {\n",
       "            background-color:  lightgrey;\n",
       "            text-align:  left;\n",
       "        }    #T_27c49db0_8967_11ec_a6e4_a683e7b4a582row4_col0 {\n",
       "            text-align:  left;\n",
       "        }    #T_27c49db0_8967_11ec_a6e4_a683e7b4a582row4_col1 {\n",
       "            : ;\n",
       "            text-align:  left;\n",
       "        }    #T_27c49db0_8967_11ec_a6e4_a683e7b4a582row4_col2 {\n",
       "            : ;\n",
       "            text-align:  left;\n",
       "        }    #T_27c49db0_8967_11ec_a6e4_a683e7b4a582row4_col3 {\n",
       "            : ;\n",
       "            text-align:  left;\n",
       "        }    #T_27c49db0_8967_11ec_a6e4_a683e7b4a582row4_col4 {\n",
       "            : ;\n",
       "            text-align:  left;\n",
       "        }    #T_27c49db0_8967_11ec_a6e4_a683e7b4a582row4_col5 {\n",
       "            : ;\n",
       "            text-align:  left;\n",
       "        }    #T_27c49db0_8967_11ec_a6e4_a683e7b4a582row4_col6 {\n",
       "            : ;\n",
       "            text-align:  left;\n",
       "        }    #T_27c49db0_8967_11ec_a6e4_a683e7b4a582row4_col7 {\n",
       "            : ;\n",
       "            text-align:  left;\n",
       "        }    #T_27c49db0_8967_11ec_a6e4_a683e7b4a582row4_col8 {\n",
       "            background-color:  lightgrey;\n",
       "            text-align:  left;\n",
       "        }    #T_27c49db0_8967_11ec_a6e4_a683e7b4a582row5_col0 {\n",
       "            text-align:  left;\n",
       "        }    #T_27c49db0_8967_11ec_a6e4_a683e7b4a582row5_col1 {\n",
       "            : ;\n",
       "            text-align:  left;\n",
       "        }    #T_27c49db0_8967_11ec_a6e4_a683e7b4a582row5_col2 {\n",
       "            : ;\n",
       "            text-align:  left;\n",
       "        }    #T_27c49db0_8967_11ec_a6e4_a683e7b4a582row5_col3 {\n",
       "            : ;\n",
       "            text-align:  left;\n",
       "        }    #T_27c49db0_8967_11ec_a6e4_a683e7b4a582row5_col4 {\n",
       "            : ;\n",
       "            text-align:  left;\n",
       "        }    #T_27c49db0_8967_11ec_a6e4_a683e7b4a582row5_col5 {\n",
       "            : ;\n",
       "            text-align:  left;\n",
       "        }    #T_27c49db0_8967_11ec_a6e4_a683e7b4a582row5_col6 {\n",
       "            : ;\n",
       "            text-align:  left;\n",
       "        }    #T_27c49db0_8967_11ec_a6e4_a683e7b4a582row5_col7 {\n",
       "            : ;\n",
       "            text-align:  left;\n",
       "        }    #T_27c49db0_8967_11ec_a6e4_a683e7b4a582row5_col8 {\n",
       "            background-color:  lightgrey;\n",
       "            text-align:  left;\n",
       "        }    #T_27c49db0_8967_11ec_a6e4_a683e7b4a582row6_col0 {\n",
       "            text-align:  left;\n",
       "        }    #T_27c49db0_8967_11ec_a6e4_a683e7b4a582row6_col1 {\n",
       "            : ;\n",
       "            text-align:  left;\n",
       "        }    #T_27c49db0_8967_11ec_a6e4_a683e7b4a582row6_col2 {\n",
       "            : ;\n",
       "            text-align:  left;\n",
       "        }    #T_27c49db0_8967_11ec_a6e4_a683e7b4a582row6_col3 {\n",
       "            : ;\n",
       "            text-align:  left;\n",
       "        }    #T_27c49db0_8967_11ec_a6e4_a683e7b4a582row6_col4 {\n",
       "            : ;\n",
       "            text-align:  left;\n",
       "        }    #T_27c49db0_8967_11ec_a6e4_a683e7b4a582row6_col5 {\n",
       "            : ;\n",
       "            text-align:  left;\n",
       "        }    #T_27c49db0_8967_11ec_a6e4_a683e7b4a582row6_col6 {\n",
       "            : ;\n",
       "            text-align:  left;\n",
       "        }    #T_27c49db0_8967_11ec_a6e4_a683e7b4a582row6_col7 {\n",
       "            : ;\n",
       "            text-align:  left;\n",
       "        }    #T_27c49db0_8967_11ec_a6e4_a683e7b4a582row6_col8 {\n",
       "            background-color:  lightgrey;\n",
       "            text-align:  left;\n",
       "        }    #T_27c49db0_8967_11ec_a6e4_a683e7b4a582row7_col0 {\n",
       "            text-align:  left;\n",
       "        }    #T_27c49db0_8967_11ec_a6e4_a683e7b4a582row7_col1 {\n",
       "            : ;\n",
       "            text-align:  left;\n",
       "        }    #T_27c49db0_8967_11ec_a6e4_a683e7b4a582row7_col2 {\n",
       "            : ;\n",
       "            text-align:  left;\n",
       "        }    #T_27c49db0_8967_11ec_a6e4_a683e7b4a582row7_col3 {\n",
       "            : ;\n",
       "            text-align:  left;\n",
       "        }    #T_27c49db0_8967_11ec_a6e4_a683e7b4a582row7_col4 {\n",
       "            : ;\n",
       "            text-align:  left;\n",
       "        }    #T_27c49db0_8967_11ec_a6e4_a683e7b4a582row7_col5 {\n",
       "            : ;\n",
       "            text-align:  left;\n",
       "        }    #T_27c49db0_8967_11ec_a6e4_a683e7b4a582row7_col6 {\n",
       "            : ;\n",
       "            text-align:  left;\n",
       "        }    #T_27c49db0_8967_11ec_a6e4_a683e7b4a582row7_col7 {\n",
       "            : ;\n",
       "            text-align:  left;\n",
       "        }    #T_27c49db0_8967_11ec_a6e4_a683e7b4a582row7_col8 {\n",
       "            background-color:  lightgrey;\n",
       "            text-align:  left;\n",
       "        }    #T_27c49db0_8967_11ec_a6e4_a683e7b4a582row8_col0 {\n",
       "            text-align:  left;\n",
       "        }    #T_27c49db0_8967_11ec_a6e4_a683e7b4a582row8_col1 {\n",
       "            : ;\n",
       "            text-align:  left;\n",
       "        }    #T_27c49db0_8967_11ec_a6e4_a683e7b4a582row8_col2 {\n",
       "            : ;\n",
       "            text-align:  left;\n",
       "        }    #T_27c49db0_8967_11ec_a6e4_a683e7b4a582row8_col3 {\n",
       "            : ;\n",
       "            text-align:  left;\n",
       "        }    #T_27c49db0_8967_11ec_a6e4_a683e7b4a582row8_col4 {\n",
       "            : ;\n",
       "            text-align:  left;\n",
       "        }    #T_27c49db0_8967_11ec_a6e4_a683e7b4a582row8_col5 {\n",
       "            : ;\n",
       "            text-align:  left;\n",
       "        }    #T_27c49db0_8967_11ec_a6e4_a683e7b4a582row8_col6 {\n",
       "            : ;\n",
       "            text-align:  left;\n",
       "        }    #T_27c49db0_8967_11ec_a6e4_a683e7b4a582row8_col7 {\n",
       "            : ;\n",
       "            text-align:  left;\n",
       "        }    #T_27c49db0_8967_11ec_a6e4_a683e7b4a582row8_col8 {\n",
       "            background-color:  lightgrey;\n",
       "            text-align:  left;\n",
       "        }    #T_27c49db0_8967_11ec_a6e4_a683e7b4a582row9_col0 {\n",
       "            text-align:  left;\n",
       "        }    #T_27c49db0_8967_11ec_a6e4_a683e7b4a582row9_col1 {\n",
       "            : ;\n",
       "            text-align:  left;\n",
       "        }    #T_27c49db0_8967_11ec_a6e4_a683e7b4a582row9_col2 {\n",
       "            : ;\n",
       "            text-align:  left;\n",
       "        }    #T_27c49db0_8967_11ec_a6e4_a683e7b4a582row9_col3 {\n",
       "            : ;\n",
       "            text-align:  left;\n",
       "        }    #T_27c49db0_8967_11ec_a6e4_a683e7b4a582row9_col4 {\n",
       "            : ;\n",
       "            text-align:  left;\n",
       "        }    #T_27c49db0_8967_11ec_a6e4_a683e7b4a582row9_col5 {\n",
       "            : ;\n",
       "            text-align:  left;\n",
       "        }    #T_27c49db0_8967_11ec_a6e4_a683e7b4a582row9_col6 {\n",
       "            : ;\n",
       "            text-align:  left;\n",
       "        }    #T_27c49db0_8967_11ec_a6e4_a683e7b4a582row9_col7 {\n",
       "            : ;\n",
       "            text-align:  left;\n",
       "        }    #T_27c49db0_8967_11ec_a6e4_a683e7b4a582row9_col8 {\n",
       "            background-color:  lightgrey;\n",
       "            text-align:  left;\n",
       "        }    #T_27c49db0_8967_11ec_a6e4_a683e7b4a582row10_col0 {\n",
       "            text-align:  left;\n",
       "        }    #T_27c49db0_8967_11ec_a6e4_a683e7b4a582row10_col1 {\n",
       "            : ;\n",
       "            text-align:  left;\n",
       "        }    #T_27c49db0_8967_11ec_a6e4_a683e7b4a582row10_col2 {\n",
       "            : ;\n",
       "            text-align:  left;\n",
       "        }    #T_27c49db0_8967_11ec_a6e4_a683e7b4a582row10_col3 {\n",
       "            : ;\n",
       "            text-align:  left;\n",
       "        }    #T_27c49db0_8967_11ec_a6e4_a683e7b4a582row10_col4 {\n",
       "            : ;\n",
       "            text-align:  left;\n",
       "        }    #T_27c49db0_8967_11ec_a6e4_a683e7b4a582row10_col5 {\n",
       "            : ;\n",
       "            text-align:  left;\n",
       "        }    #T_27c49db0_8967_11ec_a6e4_a683e7b4a582row10_col6 {\n",
       "            : ;\n",
       "            text-align:  left;\n",
       "        }    #T_27c49db0_8967_11ec_a6e4_a683e7b4a582row10_col7 {\n",
       "            : ;\n",
       "            text-align:  left;\n",
       "        }    #T_27c49db0_8967_11ec_a6e4_a683e7b4a582row10_col8 {\n",
       "            background-color:  lightgrey;\n",
       "            text-align:  left;\n",
       "        }    #T_27c49db0_8967_11ec_a6e4_a683e7b4a582row11_col0 {\n",
       "            text-align:  left;\n",
       "        }    #T_27c49db0_8967_11ec_a6e4_a683e7b4a582row11_col1 {\n",
       "            : ;\n",
       "            text-align:  left;\n",
       "        }    #T_27c49db0_8967_11ec_a6e4_a683e7b4a582row11_col2 {\n",
       "            : ;\n",
       "            text-align:  left;\n",
       "        }    #T_27c49db0_8967_11ec_a6e4_a683e7b4a582row11_col3 {\n",
       "            : ;\n",
       "            text-align:  left;\n",
       "        }    #T_27c49db0_8967_11ec_a6e4_a683e7b4a582row11_col4 {\n",
       "            : ;\n",
       "            text-align:  left;\n",
       "        }    #T_27c49db0_8967_11ec_a6e4_a683e7b4a582row11_col5 {\n",
       "            : ;\n",
       "            text-align:  left;\n",
       "        }    #T_27c49db0_8967_11ec_a6e4_a683e7b4a582row11_col6 {\n",
       "            : ;\n",
       "            text-align:  left;\n",
       "        }    #T_27c49db0_8967_11ec_a6e4_a683e7b4a582row11_col7 {\n",
       "            : ;\n",
       "            text-align:  left;\n",
       "        }    #T_27c49db0_8967_11ec_a6e4_a683e7b4a582row11_col8 {\n",
       "            background-color:  lightgrey;\n",
       "            text-align:  left;\n",
       "        }    #T_27c49db0_8967_11ec_a6e4_a683e7b4a582row12_col0 {\n",
       "            text-align:  left;\n",
       "        }    #T_27c49db0_8967_11ec_a6e4_a683e7b4a582row12_col1 {\n",
       "            : ;\n",
       "            text-align:  left;\n",
       "        }    #T_27c49db0_8967_11ec_a6e4_a683e7b4a582row12_col2 {\n",
       "            : ;\n",
       "            text-align:  left;\n",
       "        }    #T_27c49db0_8967_11ec_a6e4_a683e7b4a582row12_col3 {\n",
       "            : ;\n",
       "            text-align:  left;\n",
       "        }    #T_27c49db0_8967_11ec_a6e4_a683e7b4a582row12_col4 {\n",
       "            : ;\n",
       "            text-align:  left;\n",
       "        }    #T_27c49db0_8967_11ec_a6e4_a683e7b4a582row12_col5 {\n",
       "            : ;\n",
       "            text-align:  left;\n",
       "        }    #T_27c49db0_8967_11ec_a6e4_a683e7b4a582row12_col6 {\n",
       "            : ;\n",
       "            text-align:  left;\n",
       "        }    #T_27c49db0_8967_11ec_a6e4_a683e7b4a582row12_col7 {\n",
       "            : ;\n",
       "            text-align:  left;\n",
       "        }    #T_27c49db0_8967_11ec_a6e4_a683e7b4a582row12_col8 {\n",
       "            background-color:  lightgrey;\n",
       "            text-align:  left;\n",
       "        }    #T_27c49db0_8967_11ec_a6e4_a683e7b4a582row13_col0 {\n",
       "            text-align:  left;\n",
       "        }    #T_27c49db0_8967_11ec_a6e4_a683e7b4a582row13_col1 {\n",
       "            : ;\n",
       "            text-align:  left;\n",
       "        }    #T_27c49db0_8967_11ec_a6e4_a683e7b4a582row13_col2 {\n",
       "            : ;\n",
       "            text-align:  left;\n",
       "        }    #T_27c49db0_8967_11ec_a6e4_a683e7b4a582row13_col3 {\n",
       "            : ;\n",
       "            text-align:  left;\n",
       "        }    #T_27c49db0_8967_11ec_a6e4_a683e7b4a582row13_col4 {\n",
       "            : ;\n",
       "            text-align:  left;\n",
       "        }    #T_27c49db0_8967_11ec_a6e4_a683e7b4a582row13_col5 {\n",
       "            : ;\n",
       "            text-align:  left;\n",
       "        }    #T_27c49db0_8967_11ec_a6e4_a683e7b4a582row13_col6 {\n",
       "            : ;\n",
       "            text-align:  left;\n",
       "        }    #T_27c49db0_8967_11ec_a6e4_a683e7b4a582row13_col7 {\n",
       "            : ;\n",
       "            text-align:  left;\n",
       "        }    #T_27c49db0_8967_11ec_a6e4_a683e7b4a582row13_col8 {\n",
       "            background-color:  lightgrey;\n",
       "            text-align:  left;\n",
       "        }    #T_27c49db0_8967_11ec_a6e4_a683e7b4a582row14_col0 {\n",
       "            text-align:  left;\n",
       "        }    #T_27c49db0_8967_11ec_a6e4_a683e7b4a582row14_col1 {\n",
       "            : ;\n",
       "            text-align:  left;\n",
       "        }    #T_27c49db0_8967_11ec_a6e4_a683e7b4a582row14_col2 {\n",
       "            : ;\n",
       "            text-align:  left;\n",
       "        }    #T_27c49db0_8967_11ec_a6e4_a683e7b4a582row14_col3 {\n",
       "            background-color:  yellow;\n",
       "            text-align:  left;\n",
       "        }    #T_27c49db0_8967_11ec_a6e4_a683e7b4a582row14_col4 {\n",
       "            : ;\n",
       "            text-align:  left;\n",
       "        }    #T_27c49db0_8967_11ec_a6e4_a683e7b4a582row14_col5 {\n",
       "            : ;\n",
       "            text-align:  left;\n",
       "        }    #T_27c49db0_8967_11ec_a6e4_a683e7b4a582row14_col6 {\n",
       "            : ;\n",
       "            text-align:  left;\n",
       "        }    #T_27c49db0_8967_11ec_a6e4_a683e7b4a582row14_col7 {\n",
       "            : ;\n",
       "            text-align:  left;\n",
       "        }    #T_27c49db0_8967_11ec_a6e4_a683e7b4a582row14_col8 {\n",
       "            background-color:  lightgrey;\n",
       "            text-align:  left;\n",
       "        }</style><table id=\"T_27c49db0_8967_11ec_a6e4_a683e7b4a582\" ><thead>    <tr>        <th class=\"blank level0\" ></th>        <th class=\"col_heading level0 col0\" >Model</th>        <th class=\"col_heading level0 col1\" >Accuracy</th>        <th class=\"col_heading level0 col2\" >AUC</th>        <th class=\"col_heading level0 col3\" >Recall</th>        <th class=\"col_heading level0 col4\" >Prec.</th>        <th class=\"col_heading level0 col5\" >F1</th>        <th class=\"col_heading level0 col6\" >Kappa</th>        <th class=\"col_heading level0 col7\" >MCC</th>        <th class=\"col_heading level0 col8\" >TT (Sec)</th>    </tr></thead><tbody>\n",
       "                <tr>\n",
       "                        <th id=\"T_27c49db0_8967_11ec_a6e4_a683e7b4a582level0_row0\" class=\"row_heading level0 row0\" >0</th>\n",
       "                        <td id=\"T_27c49db0_8967_11ec_a6e4_a683e7b4a582row0_col0\" class=\"data row0 col0\" >Extra Trees Classifier</td>\n",
       "                        <td id=\"T_27c49db0_8967_11ec_a6e4_a683e7b4a582row0_col1\" class=\"data row0 col1\" >0.9840</td>\n",
       "                        <td id=\"T_27c49db0_8967_11ec_a6e4_a683e7b4a582row0_col2\" class=\"data row0 col2\" >0.9998</td>\n",
       "                        <td id=\"T_27c49db0_8967_11ec_a6e4_a683e7b4a582row0_col3\" class=\"data row0 col3\" >0.9987</td>\n",
       "                        <td id=\"T_27c49db0_8967_11ec_a6e4_a683e7b4a582row0_col4\" class=\"data row0 col4\" >0.9702</td>\n",
       "                        <td id=\"T_27c49db0_8967_11ec_a6e4_a683e7b4a582row0_col5\" class=\"data row0 col5\" >0.9842</td>\n",
       "                        <td id=\"T_27c49db0_8967_11ec_a6e4_a683e7b4a582row0_col6\" class=\"data row0 col6\" >0.9680</td>\n",
       "                        <td id=\"T_27c49db0_8967_11ec_a6e4_a683e7b4a582row0_col7\" class=\"data row0 col7\" >0.9684</td>\n",
       "                        <td id=\"T_27c49db0_8967_11ec_a6e4_a683e7b4a582row0_col8\" class=\"data row0 col8\" >0.5999</td>\n",
       "            </tr>\n",
       "            <tr>\n",
       "                        <th id=\"T_27c49db0_8967_11ec_a6e4_a683e7b4a582level0_row1\" class=\"row_heading level0 row1\" >1</th>\n",
       "                        <td id=\"T_27c49db0_8967_11ec_a6e4_a683e7b4a582row1_col0\" class=\"data row1 col0\" >Random Forest Classifier</td>\n",
       "                        <td id=\"T_27c49db0_8967_11ec_a6e4_a683e7b4a582row1_col1\" class=\"data row1 col1\" >0.9726</td>\n",
       "                        <td id=\"T_27c49db0_8967_11ec_a6e4_a683e7b4a582row1_col2\" class=\"data row1 col2\" >0.9985</td>\n",
       "                        <td id=\"T_27c49db0_8967_11ec_a6e4_a683e7b4a582row1_col3\" class=\"data row1 col3\" >0.9980</td>\n",
       "                        <td id=\"T_27c49db0_8967_11ec_a6e4_a683e7b4a582row1_col4\" class=\"data row1 col4\" >0.9498</td>\n",
       "                        <td id=\"T_27c49db0_8967_11ec_a6e4_a683e7b4a582row1_col5\" class=\"data row1 col5\" >0.9733</td>\n",
       "                        <td id=\"T_27c49db0_8967_11ec_a6e4_a683e7b4a582row1_col6\" class=\"data row1 col6\" >0.9452</td>\n",
       "                        <td id=\"T_27c49db0_8967_11ec_a6e4_a683e7b4a582row1_col7\" class=\"data row1 col7\" >0.9464</td>\n",
       "                        <td id=\"T_27c49db0_8967_11ec_a6e4_a683e7b4a582row1_col8\" class=\"data row1 col8\" >0.1142</td>\n",
       "            </tr>\n",
       "            <tr>\n",
       "                        <th id=\"T_27c49db0_8967_11ec_a6e4_a683e7b4a582level0_row2\" class=\"row_heading level0 row2\" >2</th>\n",
       "                        <td id=\"T_27c49db0_8967_11ec_a6e4_a683e7b4a582row2_col0\" class=\"data row2 col0\" >Decision Tree Classifier</td>\n",
       "                        <td id=\"T_27c49db0_8967_11ec_a6e4_a683e7b4a582row2_col1\" class=\"data row2 col1\" >0.9654</td>\n",
       "                        <td id=\"T_27c49db0_8967_11ec_a6e4_a683e7b4a582row2_col2\" class=\"data row2 col2\" >0.9654</td>\n",
       "                        <td id=\"T_27c49db0_8967_11ec_a6e4_a683e7b4a582row2_col3\" class=\"data row2 col3\" >0.9987</td>\n",
       "                        <td id=\"T_27c49db0_8967_11ec_a6e4_a683e7b4a582row2_col4\" class=\"data row2 col4\" >0.9364</td>\n",
       "                        <td id=\"T_27c49db0_8967_11ec_a6e4_a683e7b4a582row2_col5\" class=\"data row2 col5\" >0.9666</td>\n",
       "                        <td id=\"T_27c49db0_8967_11ec_a6e4_a683e7b4a582row2_col6\" class=\"data row2 col6\" >0.9308</td>\n",
       "                        <td id=\"T_27c49db0_8967_11ec_a6e4_a683e7b4a582row2_col7\" class=\"data row2 col7\" >0.9329</td>\n",
       "                        <td id=\"T_27c49db0_8967_11ec_a6e4_a683e7b4a582row2_col8\" class=\"data row2 col8\" >0.1391</td>\n",
       "            </tr>\n",
       "            <tr>\n",
       "                        <th id=\"T_27c49db0_8967_11ec_a6e4_a683e7b4a582level0_row3\" class=\"row_heading level0 row3\" >3</th>\n",
       "                        <td id=\"T_27c49db0_8967_11ec_a6e4_a683e7b4a582row3_col0\" class=\"data row3 col0\" >Extreme Gradient Boosting</td>\n",
       "                        <td id=\"T_27c49db0_8967_11ec_a6e4_a683e7b4a582row3_col1\" class=\"data row3 col1\" >0.9438</td>\n",
       "                        <td id=\"T_27c49db0_8967_11ec_a6e4_a683e7b4a582row3_col2\" class=\"data row3 col2\" >0.9785</td>\n",
       "                        <td id=\"T_27c49db0_8967_11ec_a6e4_a683e7b4a582row3_col3\" class=\"data row3 col3\" >0.9867</td>\n",
       "                        <td id=\"T_27c49db0_8967_11ec_a6e4_a683e7b4a582row3_col4\" class=\"data row3 col4\" >0.9088</td>\n",
       "                        <td id=\"T_27c49db0_8967_11ec_a6e4_a683e7b4a582row3_col5\" class=\"data row3 col5\" >0.9462</td>\n",
       "                        <td id=\"T_27c49db0_8967_11ec_a6e4_a683e7b4a582row3_col6\" class=\"data row3 col6\" >0.8876</td>\n",
       "                        <td id=\"T_27c49db0_8967_11ec_a6e4_a683e7b4a582row3_col7\" class=\"data row3 col7\" >0.8909</td>\n",
       "                        <td id=\"T_27c49db0_8967_11ec_a6e4_a683e7b4a582row3_col8\" class=\"data row3 col8\" >5.7051</td>\n",
       "            </tr>\n",
       "            <tr>\n",
       "                        <th id=\"T_27c49db0_8967_11ec_a6e4_a683e7b4a582level0_row4\" class=\"row_heading level0 row4\" >4</th>\n",
       "                        <td id=\"T_27c49db0_8967_11ec_a6e4_a683e7b4a582row4_col0\" class=\"data row4 col0\" >CatBoost Classifier</td>\n",
       "                        <td id=\"T_27c49db0_8967_11ec_a6e4_a683e7b4a582row4_col1\" class=\"data row4 col1\" >0.9377</td>\n",
       "                        <td id=\"T_27c49db0_8967_11ec_a6e4_a683e7b4a582row4_col2\" class=\"data row4 col2\" >0.9745</td>\n",
       "                        <td id=\"T_27c49db0_8967_11ec_a6e4_a683e7b4a582row4_col3\" class=\"data row4 col3\" >0.9797</td>\n",
       "                        <td id=\"T_27c49db0_8967_11ec_a6e4_a683e7b4a582row4_col4\" class=\"data row4 col4\" >0.9040</td>\n",
       "                        <td id=\"T_27c49db0_8967_11ec_a6e4_a683e7b4a582row4_col5\" class=\"data row4 col5\" >0.9403</td>\n",
       "                        <td id=\"T_27c49db0_8967_11ec_a6e4_a683e7b4a582row4_col6\" class=\"data row4 col6\" >0.8755</td>\n",
       "                        <td id=\"T_27c49db0_8967_11ec_a6e4_a683e7b4a582row4_col7\" class=\"data row4 col7\" >0.8786</td>\n",
       "                        <td id=\"T_27c49db0_8967_11ec_a6e4_a683e7b4a582row4_col8\" class=\"data row4 col8\" >8.2279</td>\n",
       "            </tr>\n",
       "            <tr>\n",
       "                        <th id=\"T_27c49db0_8967_11ec_a6e4_a683e7b4a582level0_row5\" class=\"row_heading level0 row5\" >5</th>\n",
       "                        <td id=\"T_27c49db0_8967_11ec_a6e4_a683e7b4a582row5_col0\" class=\"data row5 col0\" >Light Gradient Boosting Machine</td>\n",
       "                        <td id=\"T_27c49db0_8967_11ec_a6e4_a683e7b4a582row5_col1\" class=\"data row5 col1\" >0.9264</td>\n",
       "                        <td id=\"T_27c49db0_8967_11ec_a6e4_a683e7b4a582row5_col2\" class=\"data row5 col2\" >0.9689</td>\n",
       "                        <td id=\"T_27c49db0_8967_11ec_a6e4_a683e7b4a582row5_col3\" class=\"data row5 col3\" >0.9751</td>\n",
       "                        <td id=\"T_27c49db0_8967_11ec_a6e4_a683e7b4a582row5_col4\" class=\"data row5 col4\" >0.8888</td>\n",
       "                        <td id=\"T_27c49db0_8967_11ec_a6e4_a683e7b4a582row5_col5\" class=\"data row5 col5\" >0.9299</td>\n",
       "                        <td id=\"T_27c49db0_8967_11ec_a6e4_a683e7b4a582row5_col6\" class=\"data row5 col6\" >0.8529</td>\n",
       "                        <td id=\"T_27c49db0_8967_11ec_a6e4_a683e7b4a582row5_col7\" class=\"data row5 col7\" >0.8570</td>\n",
       "                        <td id=\"T_27c49db0_8967_11ec_a6e4_a683e7b4a582row5_col8\" class=\"data row5 col8\" >0.2409</td>\n",
       "            </tr>\n",
       "            <tr>\n",
       "                        <th id=\"T_27c49db0_8967_11ec_a6e4_a683e7b4a582level0_row6\" class=\"row_heading level0 row6\" >6</th>\n",
       "                        <td id=\"T_27c49db0_8967_11ec_a6e4_a683e7b4a582row6_col0\" class=\"data row6 col0\" >K Neighbors Classifier</td>\n",
       "                        <td id=\"T_27c49db0_8967_11ec_a6e4_a683e7b4a582row6_col1\" class=\"data row6 col1\" >0.8996</td>\n",
       "                        <td id=\"T_27c49db0_8967_11ec_a6e4_a683e7b4a582row6_col2\" class=\"data row6 col2\" >0.9489</td>\n",
       "                        <td id=\"T_27c49db0_8967_11ec_a6e4_a683e7b4a582row6_col3\" class=\"data row6 col3\" >0.9830</td>\n",
       "                        <td id=\"T_27c49db0_8967_11ec_a6e4_a683e7b4a582row6_col4\" class=\"data row6 col4\" >0.8427</td>\n",
       "                        <td id=\"T_27c49db0_8967_11ec_a6e4_a683e7b4a582row6_col5\" class=\"data row6 col5\" >0.9075</td>\n",
       "                        <td id=\"T_27c49db0_8967_11ec_a6e4_a683e7b4a582row6_col6\" class=\"data row6 col6\" >0.7992</td>\n",
       "                        <td id=\"T_27c49db0_8967_11ec_a6e4_a683e7b4a582row6_col7\" class=\"data row6 col7\" >0.8106</td>\n",
       "                        <td id=\"T_27c49db0_8967_11ec_a6e4_a683e7b4a582row6_col8\" class=\"data row6 col8\" >0.0744</td>\n",
       "            </tr>\n",
       "            <tr>\n",
       "                        <th id=\"T_27c49db0_8967_11ec_a6e4_a683e7b4a582level0_row7\" class=\"row_heading level0 row7\" >7</th>\n",
       "                        <td id=\"T_27c49db0_8967_11ec_a6e4_a683e7b4a582row7_col0\" class=\"data row7 col0\" >Gradient Boosting Classifier</td>\n",
       "                        <td id=\"T_27c49db0_8967_11ec_a6e4_a683e7b4a582row7_col1\" class=\"data row7 col1\" >0.8869</td>\n",
       "                        <td id=\"T_27c49db0_8967_11ec_a6e4_a683e7b4a582row7_col2\" class=\"data row7 col2\" >0.9466</td>\n",
       "                        <td id=\"T_27c49db0_8967_11ec_a6e4_a683e7b4a582row7_col3\" class=\"data row7 col3\" >0.9160</td>\n",
       "                        <td id=\"T_27c49db0_8967_11ec_a6e4_a683e7b4a582row7_col4\" class=\"data row7 col4\" >0.8658</td>\n",
       "                        <td id=\"T_27c49db0_8967_11ec_a6e4_a683e7b4a582row7_col5\" class=\"data row7 col5\" >0.8902</td>\n",
       "                        <td id=\"T_27c49db0_8967_11ec_a6e4_a683e7b4a582row7_col6\" class=\"data row7 col6\" >0.7737</td>\n",
       "                        <td id=\"T_27c49db0_8967_11ec_a6e4_a683e7b4a582row7_col7\" class=\"data row7 col7\" >0.7751</td>\n",
       "                        <td id=\"T_27c49db0_8967_11ec_a6e4_a683e7b4a582row7_col8\" class=\"data row7 col8\" >3.3007</td>\n",
       "            </tr>\n",
       "            <tr>\n",
       "                        <th id=\"T_27c49db0_8967_11ec_a6e4_a683e7b4a582level0_row8\" class=\"row_heading level0 row8\" >8</th>\n",
       "                        <td id=\"T_27c49db0_8967_11ec_a6e4_a683e7b4a582row8_col0\" class=\"data row8 col0\" >Ada Boost Classifier</td>\n",
       "                        <td id=\"T_27c49db0_8967_11ec_a6e4_a683e7b4a582row8_col1\" class=\"data row8 col1\" >0.8623</td>\n",
       "                        <td id=\"T_27c49db0_8967_11ec_a6e4_a683e7b4a582row8_col2\" class=\"data row8 col2\" >0.9310</td>\n",
       "                        <td id=\"T_27c49db0_8967_11ec_a6e4_a683e7b4a582row8_col3\" class=\"data row8 col3\" >0.8604</td>\n",
       "                        <td id=\"T_27c49db0_8967_11ec_a6e4_a683e7b4a582row8_col4\" class=\"data row8 col4\" >0.8640</td>\n",
       "                        <td id=\"T_27c49db0_8967_11ec_a6e4_a683e7b4a582row8_col5\" class=\"data row8 col5\" >0.8622</td>\n",
       "                        <td id=\"T_27c49db0_8967_11ec_a6e4_a683e7b4a582row8_col6\" class=\"data row8 col6\" >0.7246</td>\n",
       "                        <td id=\"T_27c49db0_8967_11ec_a6e4_a683e7b4a582row8_col7\" class=\"data row8 col7\" >0.7247</td>\n",
       "                        <td id=\"T_27c49db0_8967_11ec_a6e4_a683e7b4a582row8_col8\" class=\"data row8 col8\" >0.9004</td>\n",
       "            </tr>\n",
       "            <tr>\n",
       "                        <th id=\"T_27c49db0_8967_11ec_a6e4_a683e7b4a582level0_row9\" class=\"row_heading level0 row9\" >9</th>\n",
       "                        <td id=\"T_27c49db0_8967_11ec_a6e4_a683e7b4a582row9_col0\" class=\"data row9 col0\" >Ridge Classifier</td>\n",
       "                        <td id=\"T_27c49db0_8967_11ec_a6e4_a683e7b4a582row9_col1\" class=\"data row9 col1\" >0.8480</td>\n",
       "                        <td id=\"T_27c49db0_8967_11ec_a6e4_a683e7b4a582row9_col2\" class=\"data row9 col2\" >0.0000</td>\n",
       "                        <td id=\"T_27c49db0_8967_11ec_a6e4_a683e7b4a582row9_col3\" class=\"data row9 col3\" >0.8146</td>\n",
       "                        <td id=\"T_27c49db0_8967_11ec_a6e4_a683e7b4a582row9_col4\" class=\"data row9 col4\" >0.8732</td>\n",
       "                        <td id=\"T_27c49db0_8967_11ec_a6e4_a683e7b4a582row9_col5\" class=\"data row9 col5\" >0.8428</td>\n",
       "                        <td id=\"T_27c49db0_8967_11ec_a6e4_a683e7b4a582row9_col6\" class=\"data row9 col6\" >0.6960</td>\n",
       "                        <td id=\"T_27c49db0_8967_11ec_a6e4_a683e7b4a582row9_col7\" class=\"data row9 col7\" >0.6976</td>\n",
       "                        <td id=\"T_27c49db0_8967_11ec_a6e4_a683e7b4a582row9_col8\" class=\"data row9 col8\" >0.0224</td>\n",
       "            </tr>\n",
       "            <tr>\n",
       "                        <th id=\"T_27c49db0_8967_11ec_a6e4_a683e7b4a582level0_row10\" class=\"row_heading level0 row10\" >10</th>\n",
       "                        <td id=\"T_27c49db0_8967_11ec_a6e4_a683e7b4a582row10_col0\" class=\"data row10 col0\" >Linear Discriminant Analysis</td>\n",
       "                        <td id=\"T_27c49db0_8967_11ec_a6e4_a683e7b4a582row10_col1\" class=\"data row10 col1\" >0.8480</td>\n",
       "                        <td id=\"T_27c49db0_8967_11ec_a6e4_a683e7b4a582row10_col2\" class=\"data row10 col2\" >0.9251</td>\n",
       "                        <td id=\"T_27c49db0_8967_11ec_a6e4_a683e7b4a582row10_col3\" class=\"data row10 col3\" >0.8146</td>\n",
       "                        <td id=\"T_27c49db0_8967_11ec_a6e4_a683e7b4a582row10_col4\" class=\"data row10 col4\" >0.8733</td>\n",
       "                        <td id=\"T_27c49db0_8967_11ec_a6e4_a683e7b4a582row10_col5\" class=\"data row10 col5\" >0.8429</td>\n",
       "                        <td id=\"T_27c49db0_8967_11ec_a6e4_a683e7b4a582row10_col6\" class=\"data row10 col6\" >0.6960</td>\n",
       "                        <td id=\"T_27c49db0_8967_11ec_a6e4_a683e7b4a582row10_col7\" class=\"data row10 col7\" >0.6976</td>\n",
       "                        <td id=\"T_27c49db0_8967_11ec_a6e4_a683e7b4a582row10_col8\" class=\"data row10 col8\" >0.1540</td>\n",
       "            </tr>\n",
       "            <tr>\n",
       "                        <th id=\"T_27c49db0_8967_11ec_a6e4_a683e7b4a582level0_row11\" class=\"row_heading level0 row11\" >11</th>\n",
       "                        <td id=\"T_27c49db0_8967_11ec_a6e4_a683e7b4a582row11_col0\" class=\"data row11 col0\" >Logistic Regression</td>\n",
       "                        <td id=\"T_27c49db0_8967_11ec_a6e4_a683e7b4a582row11_col1\" class=\"data row11 col1\" >0.8258</td>\n",
       "                        <td id=\"T_27c49db0_8967_11ec_a6e4_a683e7b4a582row11_col2\" class=\"data row11 col2\" >0.9061</td>\n",
       "                        <td id=\"T_27c49db0_8967_11ec_a6e4_a683e7b4a582row11_col3\" class=\"data row11 col3\" >0.8111</td>\n",
       "                        <td id=\"T_27c49db0_8967_11ec_a6e4_a683e7b4a582row11_col4\" class=\"data row11 col4\" >0.8361</td>\n",
       "                        <td id=\"T_27c49db0_8967_11ec_a6e4_a683e7b4a582row11_col5\" class=\"data row11 col5\" >0.8233</td>\n",
       "                        <td id=\"T_27c49db0_8967_11ec_a6e4_a683e7b4a582row11_col6\" class=\"data row11 col6\" >0.6517</td>\n",
       "                        <td id=\"T_27c49db0_8967_11ec_a6e4_a683e7b4a582row11_col7\" class=\"data row11 col7\" >0.6521</td>\n",
       "                        <td id=\"T_27c49db0_8967_11ec_a6e4_a683e7b4a582row11_col8\" class=\"data row11 col8\" >0.2467</td>\n",
       "            </tr>\n",
       "            <tr>\n",
       "                        <th id=\"T_27c49db0_8967_11ec_a6e4_a683e7b4a582level0_row12\" class=\"row_heading level0 row12\" >12</th>\n",
       "                        <td id=\"T_27c49db0_8967_11ec_a6e4_a683e7b4a582row12_col0\" class=\"data row12 col0\" >Naive Bayes</td>\n",
       "                        <td id=\"T_27c49db0_8967_11ec_a6e4_a683e7b4a582row12_col1\" class=\"data row12 col1\" >0.7580</td>\n",
       "                        <td id=\"T_27c49db0_8967_11ec_a6e4_a683e7b4a582row12_col2\" class=\"data row12 col2\" >0.8401</td>\n",
       "                        <td id=\"T_27c49db0_8967_11ec_a6e4_a683e7b4a582row12_col3\" class=\"data row12 col3\" >0.6790</td>\n",
       "                        <td id=\"T_27c49db0_8967_11ec_a6e4_a683e7b4a582row12_col4\" class=\"data row12 col4\" >0.8069</td>\n",
       "                        <td id=\"T_27c49db0_8967_11ec_a6e4_a683e7b4a582row12_col5\" class=\"data row12 col5\" >0.7375</td>\n",
       "                        <td id=\"T_27c49db0_8967_11ec_a6e4_a683e7b4a582row12_col6\" class=\"data row12 col6\" >0.5162</td>\n",
       "                        <td id=\"T_27c49db0_8967_11ec_a6e4_a683e7b4a582row12_col7\" class=\"data row12 col7\" >0.5228</td>\n",
       "                        <td id=\"T_27c49db0_8967_11ec_a6e4_a683e7b4a582row12_col8\" class=\"data row12 col8\" >0.0202</td>\n",
       "            </tr>\n",
       "            <tr>\n",
       "                        <th id=\"T_27c49db0_8967_11ec_a6e4_a683e7b4a582level0_row13\" class=\"row_heading level0 row13\" >13</th>\n",
       "                        <td id=\"T_27c49db0_8967_11ec_a6e4_a683e7b4a582row13_col0\" class=\"data row13 col0\" >SVM - Linear Kernel</td>\n",
       "                        <td id=\"T_27c49db0_8967_11ec_a6e4_a683e7b4a582row13_col1\" class=\"data row13 col1\" >0.7271</td>\n",
       "                        <td id=\"T_27c49db0_8967_11ec_a6e4_a683e7b4a582row13_col2\" class=\"data row13 col2\" >0.0000</td>\n",
       "                        <td id=\"T_27c49db0_8967_11ec_a6e4_a683e7b4a582row13_col3\" class=\"data row13 col3\" >0.6859</td>\n",
       "                        <td id=\"T_27c49db0_8967_11ec_a6e4_a683e7b4a582row13_col4\" class=\"data row13 col4\" >0.7685</td>\n",
       "                        <td id=\"T_27c49db0_8967_11ec_a6e4_a683e7b4a582row13_col5\" class=\"data row13 col5\" >0.7034</td>\n",
       "                        <td id=\"T_27c49db0_8967_11ec_a6e4_a683e7b4a582row13_col6\" class=\"data row13 col6\" >0.4542</td>\n",
       "                        <td id=\"T_27c49db0_8967_11ec_a6e4_a683e7b4a582row13_col7\" class=\"data row13 col7\" >0.4763</td>\n",
       "                        <td id=\"T_27c49db0_8967_11ec_a6e4_a683e7b4a582row13_col8\" class=\"data row13 col8\" >0.2884</td>\n",
       "            </tr>\n",
       "            <tr>\n",
       "                        <th id=\"T_27c49db0_8967_11ec_a6e4_a683e7b4a582level0_row14\" class=\"row_heading level0 row14\" >14</th>\n",
       "                        <td id=\"T_27c49db0_8967_11ec_a6e4_a683e7b4a582row14_col0\" class=\"data row14 col0\" >Quadratic Discriminant Analysis</td>\n",
       "                        <td id=\"T_27c49db0_8967_11ec_a6e4_a683e7b4a582row14_col1\" class=\"data row14 col1\" >0.5118</td>\n",
       "                        <td id=\"T_27c49db0_8967_11ec_a6e4_a683e7b4a582row14_col2\" class=\"data row14 col2\" >0.8580</td>\n",
       "                        <td id=\"T_27c49db0_8967_11ec_a6e4_a683e7b4a582row14_col3\" class=\"data row14 col3\" >0.9988</td>\n",
       "                        <td id=\"T_27c49db0_8967_11ec_a6e4_a683e7b4a582row14_col4\" class=\"data row14 col4\" >0.5062</td>\n",
       "                        <td id=\"T_27c49db0_8967_11ec_a6e4_a683e7b4a582row14_col5\" class=\"data row14 col5\" >0.6719</td>\n",
       "                        <td id=\"T_27c49db0_8967_11ec_a6e4_a683e7b4a582row14_col6\" class=\"data row14 col6\" >0.0226</td>\n",
       "                        <td id=\"T_27c49db0_8967_11ec_a6e4_a683e7b4a582row14_col7\" class=\"data row14 col7\" >0.1017</td>\n",
       "                        <td id=\"T_27c49db0_8967_11ec_a6e4_a683e7b4a582row14_col8\" class=\"data row14 col8\" >0.0548</td>\n",
       "            </tr>\n",
       "    </tbody></table>"
      ],
      "text/plain": [
       "<pandas.io.formats.style.Styler at 0x7f81e93b82d0>"
      ]
     },
     "metadata": {},
     "output_type": "display_data"
    }
   ],
   "source": [
    "best_model = compare_models()"
   ]
  },
  {
   "cell_type": "code",
   "execution_count": null,
   "metadata": {},
   "outputs": [],
   "source": []
  },
  {
   "cell_type": "code",
   "execution_count": null,
   "metadata": {},
   "outputs": [],
   "source": []
  },
  {
   "cell_type": "code",
   "execution_count": 42,
   "metadata": {},
   "outputs": [],
   "source": [
    "lgb = LGBMClassifier()"
   ]
  },
  {
   "cell_type": "code",
   "execution_count": null,
   "metadata": {},
   "outputs": [],
   "source": []
  },
  {
   "cell_type": "code",
   "execution_count": 43,
   "metadata": {},
   "outputs": [
    {
     "name": "stdout",
     "output_type": "stream",
     "text": [
      ">50 0.913 (0.002)\n",
      ">100 0.929 (0.002)\n",
      ">500 0.964 (0.002)\n",
      ">1000 0.974 (0.002)\n"
     ]
    },
    {
     "data": {
      "image/png": "[encoded data removed]",
      "text/plain": [
       "<Figure size 432x288 with 1 Axes>"
      ]
     },
     "metadata": {},
     "output_type": "display_data"
    }
   ],
   "source": [
    "# get a list of models to evaluate\n",
    "X2 = upsampled.drop(['y'], axis=1)\n",
    "y2 = pd.DataFrame(upsampled['y'])\n",
    "def get_models():\n",
    "\tmodels = dict()\n",
    "\ttrees = [ 50, 100, 500, 1000]\n",
    "\tfor n in trees:\n",
    "\t\tmodels[str(n)] = LGBMClassifier(n_estimators=n)\n",
    "\treturn models\n",
    " \n",
    "# evaluate a give model using cross-validation\n",
    "def evaluate_model(model):\n",
    "\tcv = RepeatedStratifiedKFold(n_splits=5, n_repeats=3, random_state=1)\n",
    "\tscores = cross_val_score(model,X2, y2, scoring='accuracy', cv=cv, n_jobs=-1)\n",
    "\treturn scores\n",
    " \n",
    "# get the models to evaluate\n",
    "models = get_models()\n",
    "# evaluate the models and store results\n",
    "results, names = list(), list()\n",
    "for name, model in models.items():\n",
    "\tscores = evaluate_model(model)\n",
    "\tresults.append(scores)\n",
    "\tnames.append(name)\n",
    "\tprint('>%s %.3f (%.3f)' % (name, mean(scores), std(scores)))\n",
    "# plot model performance for comparison\n",
    "pyplot.boxplot(results, labels=names, showmeans=True)\n",
    "pyplot.show()\n"
   ]
  },
  {
   "cell_type": "code",
   "execution_count": 40,
   "metadata": {},
   "outputs": [],
   "source": [
    "X2 = upsampled.drop(['y'], axis=1)\n",
    "y2 = pd.DataFrame(upsampled['y'])"
   ]
  },
  {
   "cell_type": "code",
   "execution_count": 41,
   "metadata": {},
   "outputs": [],
   "source": [
    "lgb = LGBMClassifier()"
   ]
  },
  {
   "cell_type": "code",
   "execution_count": 42,
   "metadata": {},
   "outputs": [],
   "source": [
    "from sklearn.model_selection import GridSearchCV\n",
    "n_estimators=[100,500,1000]\n",
    "learning_rate=[0.01,0.1,1]\n",
    "max_depth=[2,3,5]\n",
    "num_leaves = [8,27, 125]\n",
    "params2={'n_estimators':n_estimators,'learning_rate':learning_rate,'max_depth':max_depth,'num_leaves':num_leaves}\n",
    "grid_lgb=GridSearchCV(lgb,param_grid=params2)"
   ]
  },
  {
   "cell_type": "code",
   "execution_count": 43,
   "metadata": {},
   "outputs": [],
   "source": [
    "#X2_train, X2_test, y2_train, y2_test = train_test_split(X2, y2, test_size=0.25, random_state=27)"
   ]
  },
  {
   "cell_type": "code",
   "execution_count": 44,
   "metadata": {},
   "outputs": [
    {
     "name": "stderr",
     "output_type": "stream",
     "text": [
      "A column-vector y was passed when a 1d array was expected. Please change the shape of y to (n_samples, ), for example using ravel().\n"
     ]
    },
    {
     "data": {
      "text/plain": [
       "GridSearchCV(estimator=LGBMClassifier(),\n",
       "             param_grid={'learning_rate': [0.01, 0.1, 1],\n",
       "                         'max_depth': [2, 3, 5],\n",
       "                         'n_estimators': [100, 500, 1000],\n",
       "                         'num_leaves': [8, 27, 125]})"
      ]
     },
     "execution_count": 44,
     "metadata": {},
     "output_type": "execute_result"
    }
   ],
   "source": [
    "grid_lgb.fit(X2,y2)"
   ]
  },
  {
   "cell_type": "code",
   "execution_count": 45,
   "metadata": {},
   "outputs": [
    {
     "data": {
      "text/plain": [
       "{'learning_rate': 0.1, 'max_depth': 5, 'n_estimators': 1000, 'num_leaves': 125}"
      ]
     },
     "execution_count": 45,
     "metadata": {},
     "output_type": "execute_result"
    }
   ],
   "source": [
    "grid_lgb.best_params_"
   ]
  },
  {
   "cell_type": "code",
   "execution_count": 46,
   "metadata": {
    "scrolled": true
   },
   "outputs": [],
   "source": [
    "lgbclf=LGBMClassifier(learning_rate=0.1,max_depth=5,n_estimators=1000, num_leaves = 125)\n",
    "lgbclf.fit(X2,y2)\n",
    "y_pred=lgbclf.predict(X_test)\n",
    "from sklearn.metrics import accuracy_score\n",
    "accuracy=accuracy_score(y_pred, y_test)\n",
    "#print(lgbclf.score(X2,y2))\n",
    "#print(lgbclf.score(X2_train,y2_train))\n",
    "#print(lgbclf.score(X_test,y_test))"
   ]
  },
  {
   "cell_type": "code",
   "execution_count": 47,
   "metadata": {},
   "outputs": [
    {
     "name": "stdout",
     "output_type": "stream",
     "text": [
      "              precision    recall  f1-score   support\n",
      "\n",
      "           0       0.97      0.94      0.96      7424\n",
      "           1       0.48      0.68      0.56       576\n",
      "\n",
      "    accuracy                           0.92      8000\n",
      "   macro avg       0.72      0.81      0.76      8000\n",
      "weighted avg       0.94      0.92      0.93      8000\n",
      "\n"
     ]
    }
   ],
   "source": [
    "print(classification_report(y_test, y_pred))"
   ]
  },
  {
   "cell_type": "markdown",
   "metadata": {},
   "source": [
    "## we will see which feature are importancefor prediction for this model. We used SHAP to do so"
   ]
  },
  {
   "cell_type": "code",
   "execution_count": 48,
   "metadata": {},
   "outputs": [
    {
     "name": "stderr",
     "output_type": "stream",
     "text": [
      "LightGBM binary classifier with TreeExplainer shap values output has changed to a list of ndarray\n"
     ]
    }
   ],
   "source": [
    "# DF, based on which importance is checked\n",
    "X_importance = X_test\n",
    "\n",
    "# Explain model predictions using shap library:\n",
    "explainer = shap.TreeExplainer(lgbclf)\n",
    "shap_values = explainer.shap_values(X_importance)"
   ]
  },
  {
   "cell_type": "code",
   "execution_count": 49,
   "metadata": {},
   "outputs": [
    {
     "data": {
      "image/png": "[encoded data removed]",
      "text/plain": [
       "<Figure size 576x482.4 with 1 Axes>"
      ]
     },
     "metadata": {},
     "output_type": "display_data"
    }
   ],
   "source": [
    "# Plot summary_plot\n",
    "shap.summary_plot(shap_values, X_importance)"
   ]
  },
  {
   "cell_type": "markdown",
   "metadata": {},
   "source": [
    "### Feature Selection on balanced dataset"
   ]
  },
  {
   "cell_type": "code",
   "execution_count": 53,
   "metadata": {},
   "outputs": [
    {
     "name": "stdout",
     "output_type": "stream",
     "text": [
      "(59360, 13)\n"
     ]
    }
   ],
   "source": [
    "# ANOVA feature selection for numeric input and categorical output\n",
    "from sklearn.datasets import make_classification\n",
    "from sklearn.feature_selection import SelectKBest\n",
    "from sklearn.feature_selection import f_classif\n",
    "# generate dataset\n",
    "X = upsampled.drop(['y'], axis=1)\n",
    "\n",
    "y = upsampled['y']\n",
    "# define feature selection\n",
    "fs = SelectKBest(score_func=f_classif, k=13)\n",
    "# apply feature selection\n",
    "X_selected = fs.fit_transform(X, y)\n",
    "print(X_selected.shape)\n",
    "   "
   ]
  },
  {
   "cell_type": "code",
   "execution_count": 57,
   "metadata": {},
   "outputs": [
    {
     "name": "stdout",
     "output_type": "stream",
     "text": [
      "[7.321e+01 1.591e+02 1.888e+02 3.075e+02 7.583e+00 1.581e+02 6.956e+02\n",
      " 2.151e+02 2.169e+03 7.319e+00 1.143e+01 2.753e+04 4.743e+02]\n",
      "[[  1   0 238   3]\n",
      " [  1   0 176   4]\n",
      " [  0   2 136   2]\n",
      " [  1   0 796   2]\n",
      " [  1   0 102   1]]\n"
     ]
    }
   ],
   "source": [
    "# Feature Selection with Univariate Statistical Tests\n",
    "from pandas import read_csv\n",
    "from numpy import set_printoptions\n",
    "from sklearn.feature_selection import SelectKBest\n",
    "from sklearn.feature_selection import f_classif\n",
    "# load data\n",
    "X3 = upsampled.drop(['y'], axis=1)\n",
    "\n",
    "y3 = upsampled['y']\n",
    "# feature extraction\n",
    "test = SelectKBest(score_func=f_classif, k=4)\n",
    "fit = test.fit(X3, y3)\n",
    "# summarize scores\n",
    "set_printoptions(precision=3)\n",
    "print(fit.scores_)\n",
    "features = fit.transform(X3)\n",
    "# summarize selected features\n",
    "print(features[0:5,:])"
   ]
  },
  {
   "cell_type": "markdown",
   "metadata": {},
   "source": [
    "### Age, default, house loan, day, month and campaign are important features for the client.  "
   ]
  },
  {
   "cell_type": "code",
   "execution_count": 55,
   "metadata": {},
   "outputs": [
    {
     "data": {
      "text/plain": [
       "Index(['age', 'job', 'marital', 'education', 'default', 'balance', 'housing',\n",
       "       'loan', 'contact', 'day', 'month', 'duration', 'campaign', 'y'],\n",
       "      dtype='object')"
      ]
     },
     "execution_count": 55,
     "metadata": {},
     "output_type": "execute_result"
    }
   ],
   "source": [
    "upsampled.columns"
   ]
  },
  {
   "cell_type": "markdown",
   "metadata": {},
   "source": [
    "### Accuracy with LGBM model went down from 94%(for imbalanced datasets) to 92%(balanced datasets) whereas F1 score increased. "
   ]
  },
  {
   "cell_type": "markdown",
   "metadata": {},
   "source": [
    "### DecisionTree Model"
   ]
  },
  {
   "cell_type": "code",
   "execution_count": 91,
   "metadata": {},
   "outputs": [],
   "source": [
    "# import DecisionTreeClassifier\n",
    "\n",
    "from sklearn.tree import DecisionTreeClassifier"
   ]
  },
  {
   "cell_type": "code",
   "execution_count": 94,
   "metadata": {},
   "outputs": [
    {
     "data": {
      "text/plain": [
       "DecisionTreeClassifier(max_depth=3, random_state=0)"
      ]
     },
     "execution_count": 94,
     "metadata": {},
     "output_type": "execute_result"
    }
   ],
   "source": [
    "# instantiate the DecisionTreeClassifier model with criterion gini index\n",
    "\n",
    "clf_gini = DecisionTreeClassifier(criterion='gini', max_depth=3, random_state=0)\n",
    "clf_gini.fit(X2,y2)\n"
   ]
  },
  {
   "cell_type": "code",
   "execution_count": 95,
   "metadata": {},
   "outputs": [
    {
     "name": "stdout",
     "output_type": "stream",
     "text": [
      "Model accuracy score with criterion gini index: 0.8641\n"
     ]
    }
   ],
   "source": [
    "from sklearn.metrics import accuracy_score\n",
    "\n",
    "print('Model accuracy score with criterion gini index: {0:0.4f}'. format(accuracy_score(y_test, y_pred_gini)))"
   ]
  },
  {
   "cell_type": "code",
   "execution_count": 96,
   "metadata": {},
   "outputs": [
    {
     "name": "stdout",
     "output_type": "stream",
     "text": [
      "              precision    recall  f1-score   support\n",
      "\n",
      "           0       0.98      0.87      0.92      7424\n",
      "           1       0.33      0.83      0.47       576\n",
      "\n",
      "    accuracy                           0.86      8000\n",
      "   macro avg       0.66      0.85      0.69      8000\n",
      "weighted avg       0.94      0.86      0.89      8000\n",
      "\n"
     ]
    }
   ],
   "source": [
    "print(classification_report(y_test, y_pred_gini))"
   ]
  },
  {
   "cell_type": "code",
   "execution_count": 97,
   "metadata": {},
   "outputs": [
    {
     "name": "stdout",
     "output_type": "stream",
     "text": [
      "Training set score: 0.8605\n",
      "Test set score: 0.8641\n"
     ]
    }
   ],
   "source": [
    "print('Training set score: {:.4f}'.format(clf_gini.score(X_train, y_train)))\n",
    "\n",
    "print('Test set score: {:.4f}'.format(clf_gini.score(X_test, y_test)))"
   ]
  },
  {
   "cell_type": "code",
   "execution_count": 99,
   "metadata": {},
   "outputs": [
    {
     "data": {
      "text/plain": [
       "0.46741793238608514"
      ]
     },
     "execution_count": 99,
     "metadata": {},
     "output_type": "execute_result"
    }
   ],
   "source": [
    "from sklearn.metrics import accuracy_score, f1_score, confusion_matrix, recall_score\n",
    "# f1 score\n",
    "f1_score(y_test, y_pred_gini)"
   ]
  },
  {
   "cell_type": "markdown",
   "metadata": {},
   "source": [
    "### Random Forest"
   ]
  },
  {
   "cell_type": "code",
   "execution_count": 32,
   "metadata": {},
   "outputs": [
    {
     "name": "stderr",
     "output_type": "stream",
     "text": [
      "A column-vector y was passed when a 1d array was expected. Please change the shape of y to (n_samples,), for example using ravel().\n"
     ]
    }
   ],
   "source": [
    "from sklearn.ensemble import RandomForestClassifier\n",
    "\n",
    "# train model\n",
    "rfc = RandomForestClassifier(n_estimators=10).fit(X_res, y_res)"
   ]
  },
  {
   "cell_type": "code",
   "execution_count": 33,
   "metadata": {},
   "outputs": [],
   "source": [
    "y_pred3=rfc.predict(X_test)"
   ]
  },
  {
   "cell_type": "code",
   "execution_count": 34,
   "metadata": {},
   "outputs": [
    {
     "name": "stdout",
     "output_type": "stream",
     "text": [
      "              precision    recall  f1-score   support\n",
      "\n",
      "          no       0.96      0.95      0.95      7424\n",
      "         yes       0.43      0.53      0.48       576\n",
      "\n",
      "    accuracy                           0.92      8000\n",
      "   macro avg       0.70      0.74      0.72      8000\n",
      "weighted avg       0.92      0.92      0.92      8000\n",
      "\n"
     ]
    }
   ],
   "source": [
    "print(classification_report(y_test,y_pred3))"
   ]
  },
  {
   "cell_type": "code",
   "execution_count": 103,
   "metadata": {},
   "outputs": [
    {
     "data": {
      "text/plain": [
       "0.44555444555444557"
      ]
     },
     "execution_count": 103,
     "metadata": {},
     "output_type": "execute_result"
    }
   ],
   "source": [
    "f1_score(y_test, y_pred3)"
   ]
  },
  {
   "cell_type": "code",
   "execution_count": null,
   "metadata": {},
   "outputs": [],
   "source": []
  },
  {
   "cell_type": "code",
   "execution_count": null,
   "metadata": {},
   "outputs": [],
   "source": []
  },
  {
   "cell_type": "markdown",
   "metadata": {},
   "source": [
    "### Try other upsampling method to improve F1 score"
   ]
  },
  {
   "cell_type": "markdown",
   "metadata": {},
   "source": [
    "#### SMOTE for upscaling"
   ]
  },
  {
   "cell_type": "code",
   "execution_count": 20,
   "metadata": {},
   "outputs": [],
   "source": [
    "sm = SMOTE(random_state=42)\n",
    "X_res, y_res = sm.fit_resample(X_train, y_train)"
   ]
  },
  {
   "cell_type": "code",
   "execution_count": 21,
   "metadata": {},
   "outputs": [
    {
     "data": {
      "text/plain": [
       "(59360, 13)"
      ]
     },
     "execution_count": 21,
     "metadata": {},
     "output_type": "execute_result"
    }
   ],
   "source": [
    "X_res.shape"
   ]
  },
  {
   "cell_type": "code",
   "execution_count": 22,
   "metadata": {},
   "outputs": [
    {
     "data": {
      "text/plain": [
       "pandas.core.frame.DataFrame"
      ]
     },
     "execution_count": 22,
     "metadata": {},
     "output_type": "execute_result"
    }
   ],
   "source": [
    "type(y_res)"
   ]
  },
  {
   "cell_type": "code",
   "execution_count": null,
   "metadata": {},
   "outputs": [],
   "source": []
  },
  {
   "cell_type": "code",
   "execution_count": 27,
   "metadata": {},
   "outputs": [
    {
     "name": "stderr",
     "output_type": "stream",
     "text": [
      "A column-vector y was passed when a 1d array was expected. Please change the shape of y to (n_samples, ), for example using ravel().\n"
     ]
    },
    {
     "data": {
      "text/plain": [
       "GridSearchCV(estimator=LGBMClassifier(),\n",
       "             param_grid={'learning_rate': [0.01, 0.1, 1],\n",
       "                         'max_depth': [2, 3, 5],\n",
       "                         'n_estimators': [100, 500, 1000],\n",
       "                         'num_leaves': [8, 27, 125]})"
      ]
     },
     "execution_count": 27,
     "metadata": {},
     "output_type": "execute_result"
    }
   ],
   "source": [
    "grid_lgb.fit(X_res, y_res)"
   ]
  },
  {
   "cell_type": "code",
   "execution_count": 28,
   "metadata": {},
   "outputs": [
    {
     "data": {
      "text/plain": [
       "{'learning_rate': 0.1, 'max_depth': 5, 'n_estimators': 1000, 'num_leaves': 125}"
      ]
     },
     "execution_count": 28,
     "metadata": {},
     "output_type": "execute_result"
    }
   ],
   "source": [
    "grid_lgb.best_params_"
   ]
  },
  {
   "cell_type": "code",
   "execution_count": 29,
   "metadata": {},
   "outputs": [
    {
     "data": {
      "text/plain": [
       "LGBMClassifier(max_depth=5, n_estimators=1000, num_leaves=125)"
      ]
     },
     "execution_count": 29,
     "metadata": {},
     "output_type": "execute_result"
    }
   ],
   "source": [
    "lgbclf=LGBMClassifier(learning_rate=0.1,max_depth=5,n_estimators=1000, num_leaves =125)\n",
    "lgbclf.fit(X_res, y_res)"
   ]
  },
  {
   "cell_type": "code",
   "execution_count": 30,
   "metadata": {},
   "outputs": [],
   "source": [
    "y_pred=lgbclf.predict(X_test)"
   ]
  },
  {
   "cell_type": "code",
   "execution_count": 31,
   "metadata": {},
   "outputs": [
    {
     "name": "stdout",
     "output_type": "stream",
     "text": [
      "              precision    recall  f1-score   support\n",
      "\n",
      "          no       0.97      0.95      0.96      7424\n",
      "         yes       0.49      0.60      0.54       576\n",
      "\n",
      "    accuracy                           0.93      8000\n",
      "   macro avg       0.73      0.78      0.75      8000\n",
      "weighted avg       0.93      0.93      0.93      8000\n",
      "\n"
     ]
    }
   ],
   "source": [
    "from sklearn.metrics import classification_report\n",
    "print(classification_report(y_test, y_pred))"
   ]
  },
  {
   "cell_type": "markdown",
   "metadata": {},
   "source": [
    "### Undersampling"
   ]
  },
  {
   "cell_type": "code",
   "execution_count": 61,
   "metadata": {},
   "outputs": [],
   "source": [
    "from imblearn.under_sampling import TomekLinks  \n",
    "tl = TomekLinks()\n",
    "X_res5, y_res5 = tl.fit_resample(X_train, y_train)"
   ]
  },
  {
   "cell_type": "code",
   "execution_count": 67,
   "metadata": {},
   "outputs": [
    {
     "name": "stderr",
     "output_type": "stream",
     "text": [
      "A column-vector y was passed when a 1d array was expected. Please change the shape of y to (n_samples, ), for example using ravel().\n"
     ]
    },
    {
     "data": {
      "text/plain": [
       "GridSearchCV(estimator=LGBMClassifier(),\n",
       "             param_grid={'learning_rate': [0.01, 0.1, 1],\n",
       "                         'max_depth': [2, 3, 5],\n",
       "                         'n_estimators': [100, 500, 1000],\n",
       "                         'num_leaves': [8, 27, 125]})"
      ]
     },
     "execution_count": 67,
     "metadata": {},
     "output_type": "execute_result"
    }
   ],
   "source": [
    "grid_lgb.fit(X_res5, y_res5)"
   ]
  },
  {
   "cell_type": "code",
   "execution_count": 68,
   "metadata": {},
   "outputs": [
    {
     "data": {
      "text/plain": [
       "{'learning_rate': 0.01, 'max_depth': 5, 'n_estimators': 1000, 'num_leaves': 27}"
      ]
     },
     "execution_count": 68,
     "metadata": {},
     "output_type": "execute_result"
    }
   ],
   "source": [
    "grid_lgb.best_params_"
   ]
  },
  {
   "cell_type": "code",
   "execution_count": 73,
   "metadata": {},
   "outputs": [
    {
     "data": {
      "text/plain": [
       "LGBMClassifier(max_depth=5, n_estimators=1000, num_leaves=8)"
      ]
     },
     "execution_count": 73,
     "metadata": {},
     "output_type": "execute_result"
    }
   ],
   "source": [
    "lgbclf=LGBMClassifier(learning_rate=0.1,max_depth=5,n_estimators=1000, num_leaves = 8)\n",
    "lgbclf.fit(X_res5, y_res5)"
   ]
  },
  {
   "cell_type": "code",
   "execution_count": 74,
   "metadata": {},
   "outputs": [
    {
     "name": "stdout",
     "output_type": "stream",
     "text": [
      "              precision    recall  f1-score   support\n",
      "\n",
      "          no       0.96      0.97      0.97      7424\n",
      "         yes       0.60      0.51      0.55       576\n",
      "\n",
      "    accuracy                           0.94      8000\n",
      "   macro avg       0.78      0.74      0.76      8000\n",
      "weighted avg       0.94      0.94      0.94      8000\n",
      "\n"
     ]
    }
   ],
   "source": [
    "y_pred4=lgbclf.predict(X_test)\n",
    "print(classification_report(y_test,y_pred4))"
   ]
  },
  {
   "cell_type": "markdown",
   "metadata": {},
   "source": [
    "### Our precision and recall both are above 50% by doing undersampling"
   ]
  }
 ],
 "metadata": {
  "kernelspec": {
   "display_name": "Python 3",
   "language": "python",
   "name": "python3"
  },
  "language_info": {
   "codemirror_mode": {
    "name": "ipython",
    "version": 3
   },
   "file_extension": ".py",
   "mimetype": "text/x-python",
   "name": "python",
   "nbconvert_exporter": "python",
   "pygments_lexer": "ipython3",
   "version": "3.7.6"
  }
 },
 "nbformat": 4,
 "nbformat_minor": 4
}
